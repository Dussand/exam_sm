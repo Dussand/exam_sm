{
 "cells": [
  {
   "cell_type": "code",
   "execution_count": 2,
   "metadata": {},
   "outputs": [],
   "source": [
    "import pandas as pd\n",
    "import seaborn as sns\n",
    "import numpy as np\n",
    "import matplotlib.pyplot as plt\n"
   ]
  },
  {
   "cell_type": "code",
   "execution_count": 3,
   "metadata": {},
   "outputs": [],
   "source": [
    "C2023II = pd.read_csv(r'C:\\Users\\Dussand\\Desktop\\proyectsDS\\Python\\Scrapping\\delete_data\\postulantes_por_carrera2023II.csv')\n",
    "C2024I = pd.read_csv(r'C:\\Users\\Dussand\\Desktop\\proyectsDS\\Python\\Scrapping\\delete_data\\postulantes_por_carrera2024I.csv')\n",
    "C2024II = pd.read_csv(r'C:\\Users\\Dussand\\Desktop\\proyectsDS\\Python\\Scrapping\\delete_data\\postulantes_por_carrera2024II.csv')\n",
    "# C2025I = pd.read_csv(r'C:\\Users\\Dussand\\Desktop\\proyectsDS\\Python\\Scrapping\\delete_data\\postulantes_por_carrera2025I.csv')"
   ]
  },
  {
   "cell_type": "code",
   "execution_count": 4,
   "metadata": {},
   "outputs": [],
   "source": [
    "#creamos una columna con el periodo del examen para cada periodo\n",
    "C2023II['periodo'] = \"2023II\"\n",
    "C2024I['periodo'] = \"2024I\"\n",
    "C2024II['periodo'] = \"2024II\"\n",
    "# C2025I['periodo'] = \"2025I\"\n",
    "\n"
   ]
  },
  {
   "cell_type": "code",
   "execution_count": 5,
   "metadata": {},
   "outputs": [],
   "source": [
    "resultados_exam = pd.concat([C2023II, C2024I, C2024II], ignore_index = True)"
   ]
  },
  {
   "cell_type": "code",
   "execution_count": 6,
   "metadata": {},
   "outputs": [],
   "source": [
    "# resultados_exam.to_csv('resultados_consolidados.csv', index=False)"
   ]
  },
  {
   "cell_type": "code",
   "execution_count": 7,
   "metadata": {},
   "outputs": [
    {
     "name": "stdout",
     "output_type": "stream",
     "text": [
      "<class 'pandas.core.frame.DataFrame'>\n",
      "RangeIndex: 24553 entries, 0 to 24552\n",
      "Data columns (total 7 columns):\n",
      " #   Column       Non-Null Count  Dtype  \n",
      "---  ------       --------------  -----  \n",
      " 0   student_id   24553 non-null  int64  \n",
      " 1   full_name    24553 non-null  object \n",
      " 2   career_1     24553 non-null  object \n",
      " 3   score        24099 non-null  float64\n",
      " 4   merit_order  3751 non-null   float64\n",
      " 5   observation  4205 non-null   object \n",
      " 6   periodo      24553 non-null  object \n",
      "dtypes: float64(2), int64(1), object(4)\n",
      "memory usage: 1.3+ MB\n"
     ]
    }
   ],
   "source": [
    "#cambiamos el nombre de las columnas\n",
    "columns = {\n",
    "    'CODIGO':'student_id',\n",
    "    'APELLIDOS Y NOMBRES':'full_name',\n",
    "    'ESCUELA PROFESIONAL':'career_1',\n",
    "    'PUNTAJE FINAL':'score',\n",
    "    'MERITOE.P':'merit_order',\n",
    "    'OBSERVACI&OacuteN':'observation'\n",
    "}\n",
    "\n",
    "C2023II.rename(columns=columns, inplace = True)\n",
    "\n",
    "C2023II.info()"
   ]
  },
  {
   "cell_type": "code",
   "execution_count": 8,
   "metadata": {},
   "outputs": [
    {
     "name": "stdout",
     "output_type": "stream",
     "text": [
      "<class 'pandas.core.frame.DataFrame'>\n",
      "RangeIndex: 28862 entries, 0 to 28861\n",
      "Data columns (total 8 columns):\n",
      " #   Column       Non-Null Count  Dtype  \n",
      "---  ------       --------------  -----  \n",
      " 0   student_id   28862 non-null  int64  \n",
      " 1   full_name    28862 non-null  object \n",
      " 2   career_1     28862 non-null  object \n",
      " 3   score        28527 non-null  float64\n",
      " 4   merit_order  2124 non-null   float64\n",
      " 5   observation  2459 non-null   object \n",
      " 6   career_2     303 non-null    object \n",
      " 7   periodo      28862 non-null  object \n",
      "dtypes: float64(2), int64(1), object(5)\n",
      "memory usage: 1.8+ MB\n"
     ]
    }
   ],
   "source": [
    "columns = {\n",
    "    'CODIGO':'student_id',\n",
    "    'APELLIDOS Y NOMBRES':'full_name',\n",
    "    'ESCUELA PROFESIONAL':'career_1',\n",
    "    'PUNTAJE FINAL':'score',\n",
    "    'MERITOE.P ALCANZA VACANTE':'merit_order',\n",
    "    'OBSERVACI&OacuteN':'observation',\n",
    "    'ESCUELA SEGUNDA OPCIÓN':'career_2'\n",
    "}\n",
    "\n",
    "C2024I.rename(columns=columns, inplace = True)\n",
    "\n",
    "C2024I.info()"
   ]
  },
  {
   "cell_type": "code",
   "execution_count": 9,
   "metadata": {},
   "outputs": [
    {
     "name": "stdout",
     "output_type": "stream",
     "text": [
      "<class 'pandas.core.frame.DataFrame'>\n",
      "RangeIndex: 22077 entries, 0 to 22076\n",
      "Data columns (total 8 columns):\n",
      " #   Column       Non-Null Count  Dtype  \n",
      "---  ------       --------------  -----  \n",
      " 0   student_id   22077 non-null  int64  \n",
      " 1   full_name    22077 non-null  object \n",
      " 2   career_1     22077 non-null  object \n",
      " 3   score        21868 non-null  float64\n",
      " 4   merit_order  2630 non-null   float64\n",
      " 5   observation  2839 non-null   object \n",
      " 6   career_2     512 non-null    object \n",
      " 7   periodo      22077 non-null  object \n",
      "dtypes: float64(2), int64(1), object(5)\n",
      "memory usage: 1.3+ MB\n"
     ]
    }
   ],
   "source": [
    "columns = {\n",
    "    'CODIGO':'student_id',\n",
    "    'APELLIDOS Y NOMBRES':'full_name',\n",
    "    'ESCUELA PROFESIONAL (PRIMERA OPCIÓN)':'career_1',\n",
    "    'PUNTAJE':'score',\n",
    "    'MERITOE.P':'merit_order',\n",
    "    'OBSERVACI&OacuteN':'observation',\n",
    "    'ESCUELA PROFESIONAL (SEGUNDA OPCIÓN)':'career_2'\n",
    "}\n",
    "\n",
    "C2024II.rename(columns=columns, inplace = True)\n",
    "\n",
    "C2024II.info()"
   ]
  },
  {
   "cell_type": "code",
   "execution_count": 10,
   "metadata": {},
   "outputs": [],
   "source": [
    "# #cambiamos el nombre de las columnas\n",
    "# columns = {\n",
    "#     'CODIGO':'student_id',\n",
    "#     'APELLIDOS Y NOMBRES':'full_name',\n",
    "#     'ESCUELA PROFESIONAL':'career_1',\n",
    "#     'PUNTAJE':'score',\n",
    "#     'MERITOE.P':'merit_order',\n",
    "#     'OBSERVACI&OacuteN':'observation'\n",
    "# }\n",
    "\n",
    "# C2025I.rename(columns=columns, inplace = True)\n",
    "\n",
    "# C2025I.info()"
   ]
  },
  {
   "cell_type": "code",
   "execution_count": 11,
   "metadata": {},
   "outputs": [],
   "source": [
    "#anexamos los dataframes\n",
    "\n",
    "resultados_exam = pd.concat([C2023II, C2024I, C2024II], ignore_index = True)"
   ]
  },
  {
   "cell_type": "code",
   "execution_count": 12,
   "metadata": {},
   "outputs": [
    {
     "data": {
      "text/html": [
       "<div>\n",
       "<style scoped>\n",
       "    .dataframe tbody tr th:only-of-type {\n",
       "        vertical-align: middle;\n",
       "    }\n",
       "\n",
       "    .dataframe tbody tr th {\n",
       "        vertical-align: top;\n",
       "    }\n",
       "\n",
       "    .dataframe thead th {\n",
       "        text-align: right;\n",
       "    }\n",
       "</style>\n",
       "<table border=\"1\" class=\"dataframe\">\n",
       "  <thead>\n",
       "    <tr style=\"text-align: right;\">\n",
       "      <th></th>\n",
       "      <th>student_id</th>\n",
       "      <th>full_name</th>\n",
       "      <th>career_1</th>\n",
       "      <th>score</th>\n",
       "      <th>merit_order</th>\n",
       "      <th>observation</th>\n",
       "      <th>periodo</th>\n",
       "      <th>career_2</th>\n",
       "    </tr>\n",
       "  </thead>\n",
       "  <tbody>\n",
       "    <tr>\n",
       "      <th>66889</th>\n",
       "      <td>550401</td>\n",
       "      <td>KRAMMER HURTADO, OLIVER CHRISTOF</td>\n",
       "      <td>PRESUPUESTO Y FINANZAS PÚBLICAS - LIMA</td>\n",
       "      <td>860.375</td>\n",
       "      <td>NaN</td>\n",
       "      <td>NaN</td>\n",
       "      <td>2024II</td>\n",
       "      <td>NaN</td>\n",
       "    </tr>\n",
       "    <tr>\n",
       "      <th>71375</th>\n",
       "      <td>197217</td>\n",
       "      <td>ALVARADO LIVIA, ABRAHAM CRISTHOFER</td>\n",
       "      <td>PSICOLOGÍA - LIMA</td>\n",
       "      <td>500.125</td>\n",
       "      <td>NaN</td>\n",
       "      <td>NaN</td>\n",
       "      <td>2024II</td>\n",
       "      <td>NaN</td>\n",
       "    </tr>\n",
       "    <tr>\n",
       "      <th>36511</th>\n",
       "      <td>175312</td>\n",
       "      <td>RODRIGUEZ VEGA, LUCIA MASSIEL STACEY</td>\n",
       "      <td>ODONTOLOGÍA</td>\n",
       "      <td>733.875</td>\n",
       "      <td>NaN</td>\n",
       "      <td>NaN</td>\n",
       "      <td>2024I</td>\n",
       "      <td>NaN</td>\n",
       "    </tr>\n",
       "    <tr>\n",
       "      <th>14677</th>\n",
       "      <td>561165</td>\n",
       "      <td>ALMONACID MENDIZABAL, CAMILA GABRIELA</td>\n",
       "      <td>AUDITORÍA EMPRESARIAL Y DEL SECTOR PÚBLICO</td>\n",
       "      <td>986.000</td>\n",
       "      <td>11.0</td>\n",
       "      <td>ALCANZO VACANTE</td>\n",
       "      <td>2023II</td>\n",
       "      <td>NaN</td>\n",
       "    </tr>\n",
       "    <tr>\n",
       "      <th>31373</th>\n",
       "      <td>121707</td>\n",
       "      <td>BALBIN LOPEZ, PAOLA JOSSY</td>\n",
       "      <td>NUTRICION</td>\n",
       "      <td>322.625</td>\n",
       "      <td>NaN</td>\n",
       "      <td>NaN</td>\n",
       "      <td>2024I</td>\n",
       "      <td>NaN</td>\n",
       "    </tr>\n",
       "    <tr>\n",
       "      <th>5850</th>\n",
       "      <td>780809</td>\n",
       "      <td>BUITRÓN SULCA, YAMIR ALESSANDRO</td>\n",
       "      <td>DERECHO</td>\n",
       "      <td>1112.750</td>\n",
       "      <td>81.0</td>\n",
       "      <td>ALCANZO VACANTE</td>\n",
       "      <td>2023II</td>\n",
       "      <td>NaN</td>\n",
       "    </tr>\n",
       "    <tr>\n",
       "      <th>41376</th>\n",
       "      <td>585162</td>\n",
       "      <td>PERALTA JAUREGUI, MIGUEL FARID</td>\n",
       "      <td>CONTABILIDAD - LIMA</td>\n",
       "      <td>1135.000</td>\n",
       "      <td>27.0</td>\n",
       "      <td>ALCANZO VACANTE</td>\n",
       "      <td>2024I</td>\n",
       "      <td>NaN</td>\n",
       "    </tr>\n",
       "    <tr>\n",
       "      <th>8120</th>\n",
       "      <td>822168</td>\n",
       "      <td>MALLQUI VENTURA, MARGARITA DEL CARMEN</td>\n",
       "      <td>CIENCIA POLÍTICA</td>\n",
       "      <td>745.125</td>\n",
       "      <td>NaN</td>\n",
       "      <td>NaN</td>\n",
       "      <td>2023II</td>\n",
       "      <td>NaN</td>\n",
       "    </tr>\n",
       "    <tr>\n",
       "      <th>15449</th>\n",
       "      <td>581854</td>\n",
       "      <td>SALCEDO CORREA, FABRIZZIO YAFAR</td>\n",
       "      <td>ECONOMÍA</td>\n",
       "      <td>1008.500</td>\n",
       "      <td>NaN</td>\n",
       "      <td>NaN</td>\n",
       "      <td>2023II</td>\n",
       "      <td>NaN</td>\n",
       "    </tr>\n",
       "    <tr>\n",
       "      <th>12916</th>\n",
       "      <td>584301</td>\n",
       "      <td>QUILICHE MENESES, ANDREY YAZCID</td>\n",
       "      <td>ADMINISTRACIÓN DE NEGOCIOS INTERNACIONALES - LIMA</td>\n",
       "      <td>733.625</td>\n",
       "      <td>NaN</td>\n",
       "      <td>NaN</td>\n",
       "      <td>2023II</td>\n",
       "      <td>NaN</td>\n",
       "    </tr>\n",
       "  </tbody>\n",
       "</table>\n",
       "</div>"
      ],
      "text/plain": [
       "       student_id                              full_name  \\\n",
       "66889      550401       KRAMMER HURTADO, OLIVER CHRISTOF   \n",
       "71375      197217     ALVARADO LIVIA, ABRAHAM CRISTHOFER   \n",
       "36511      175312   RODRIGUEZ VEGA, LUCIA MASSIEL STACEY   \n",
       "14677      561165  ALMONACID MENDIZABAL, CAMILA GABRIELA   \n",
       "31373      121707              BALBIN LOPEZ, PAOLA JOSSY   \n",
       "5850       780809        BUITRÓN SULCA, YAMIR ALESSANDRO   \n",
       "41376      585162         PERALTA JAUREGUI, MIGUEL FARID   \n",
       "8120       822168  MALLQUI VENTURA, MARGARITA DEL CARMEN   \n",
       "15449      581854        SALCEDO CORREA, FABRIZZIO YAFAR   \n",
       "12916      584301        QUILICHE MENESES, ANDREY YAZCID   \n",
       "\n",
       "                                                career_1     score  \\\n",
       "66889             PRESUPUESTO Y FINANZAS PÚBLICAS - LIMA   860.375   \n",
       "71375                                  PSICOLOGÍA - LIMA   500.125   \n",
       "36511                                        ODONTOLOGÍA   733.875   \n",
       "14677         AUDITORÍA EMPRESARIAL Y DEL SECTOR PÚBLICO   986.000   \n",
       "31373                                          NUTRICION   322.625   \n",
       "5850                                             DERECHO  1112.750   \n",
       "41376                                CONTABILIDAD - LIMA  1135.000   \n",
       "8120                                    CIENCIA POLÍTICA   745.125   \n",
       "15449                                           ECONOMÍA  1008.500   \n",
       "12916  ADMINISTRACIÓN DE NEGOCIOS INTERNACIONALES - LIMA   733.625   \n",
       "\n",
       "       merit_order      observation periodo career_2  \n",
       "66889          NaN              NaN  2024II      NaN  \n",
       "71375          NaN              NaN  2024II      NaN  \n",
       "36511          NaN              NaN   2024I      NaN  \n",
       "14677         11.0  ALCANZO VACANTE  2023II      NaN  \n",
       "31373          NaN              NaN   2024I      NaN  \n",
       "5850          81.0  ALCANZO VACANTE  2023II      NaN  \n",
       "41376         27.0  ALCANZO VACANTE   2024I      NaN  \n",
       "8120           NaN              NaN  2023II      NaN  \n",
       "15449          NaN              NaN  2023II      NaN  \n",
       "12916          NaN              NaN  2023II      NaN  "
      ]
     },
     "execution_count": 12,
     "metadata": {},
     "output_type": "execute_result"
    }
   ],
   "source": [
    "resultados_exam.sample(10)"
   ]
  },
  {
   "cell_type": "code",
   "execution_count": 13,
   "metadata": {},
   "outputs": [],
   "source": [
    "resultados_exam['location'] = resultados_exam['career_1'].str.extract(r' - (.+)')  # Extraer 'LIMA'\n",
    "resultados_exam['career_1'] = resultados_exam['career_1'].str.replace(r' - .+', '', regex=True)  # Remover '- LIMA' de 'career_1'"
   ]
  },
  {
   "cell_type": "code",
   "execution_count": 14,
   "metadata": {},
   "outputs": [
    {
     "data": {
      "text/html": [
       "<div>\n",
       "<style scoped>\n",
       "    .dataframe tbody tr th:only-of-type {\n",
       "        vertical-align: middle;\n",
       "    }\n",
       "\n",
       "    .dataframe tbody tr th {\n",
       "        vertical-align: top;\n",
       "    }\n",
       "\n",
       "    .dataframe thead th {\n",
       "        text-align: right;\n",
       "    }\n",
       "</style>\n",
       "<table border=\"1\" class=\"dataframe\">\n",
       "  <thead>\n",
       "    <tr style=\"text-align: right;\">\n",
       "      <th></th>\n",
       "      <th>student_id</th>\n",
       "      <th>full_name</th>\n",
       "      <th>career_1</th>\n",
       "      <th>score</th>\n",
       "      <th>merit_order</th>\n",
       "      <th>observation</th>\n",
       "      <th>periodo</th>\n",
       "      <th>career_2</th>\n",
       "      <th>location</th>\n",
       "    </tr>\n",
       "  </thead>\n",
       "  <tbody>\n",
       "    <tr>\n",
       "      <th>25461</th>\n",
       "      <td>890346</td>\n",
       "      <td>CARRILLO CASTILLO, BRENDA ABIGAIL</td>\n",
       "      <td>MEDICINA HUMANA</td>\n",
       "      <td>903.750</td>\n",
       "      <td>NaN</td>\n",
       "      <td>NaN</td>\n",
       "      <td>2024I</td>\n",
       "      <td>NaN</td>\n",
       "      <td>NaN</td>\n",
       "    </tr>\n",
       "    <tr>\n",
       "      <th>18365</th>\n",
       "      <td>291079</td>\n",
       "      <td>SIPION ANTON, KARELL MAURICIO</td>\n",
       "      <td>INGENIERÍA CIVIL</td>\n",
       "      <td>739.250</td>\n",
       "      <td>NaN</td>\n",
       "      <td>NaN</td>\n",
       "      <td>2023II</td>\n",
       "      <td>NaN</td>\n",
       "      <td>NaN</td>\n",
       "    </tr>\n",
       "    <tr>\n",
       "      <th>32562</th>\n",
       "      <td>734763</td>\n",
       "      <td>GALLARDO LOPEZ, CAMILA D'ARIEN</td>\n",
       "      <td>DERECHO</td>\n",
       "      <td>451.625</td>\n",
       "      <td>NaN</td>\n",
       "      <td>NaN</td>\n",
       "      <td>2024I</td>\n",
       "      <td>NaN</td>\n",
       "      <td>NaN</td>\n",
       "    </tr>\n",
       "    <tr>\n",
       "      <th>64035</th>\n",
       "      <td>592528</td>\n",
       "      <td>GUTIERREZ VERA, ASTRID GRUSHENKA</td>\n",
       "      <td>ADMINISTRACIÓN</td>\n",
       "      <td>753.625</td>\n",
       "      <td>NaN</td>\n",
       "      <td>NaN</td>\n",
       "      <td>2024II</td>\n",
       "      <td>NaN</td>\n",
       "      <td>LIMA</td>\n",
       "    </tr>\n",
       "    <tr>\n",
       "      <th>59883</th>\n",
       "      <td>713957</td>\n",
       "      <td>MORENO MERMA, LENNI AARON WILLIAM</td>\n",
       "      <td>DERECHO</td>\n",
       "      <td>966.000</td>\n",
       "      <td>NaN</td>\n",
       "      <td>NaN</td>\n",
       "      <td>2024II</td>\n",
       "      <td>NaN</td>\n",
       "      <td>LIMA</td>\n",
       "    </tr>\n",
       "    <tr>\n",
       "      <th>47844</th>\n",
       "      <td>190755</td>\n",
       "      <td>ALMANZA LAQUI, KIMBERLY SALUSTIANA</td>\n",
       "      <td>PSICOLOGÍA</td>\n",
       "      <td>330.500</td>\n",
       "      <td>NaN</td>\n",
       "      <td>NaN</td>\n",
       "      <td>2024I</td>\n",
       "      <td>NaN</td>\n",
       "      <td>NaN</td>\n",
       "    </tr>\n",
       "    <tr>\n",
       "      <th>1425</th>\n",
       "      <td>852824</td>\n",
       "      <td>GOMEZ HUERTA, JORGE ALEXANDER</td>\n",
       "      <td>MEDICINA HUMANA</td>\n",
       "      <td>690.250</td>\n",
       "      <td>NaN</td>\n",
       "      <td>NaN</td>\n",
       "      <td>2023II</td>\n",
       "      <td>NaN</td>\n",
       "      <td>NaN</td>\n",
       "    </tr>\n",
       "    <tr>\n",
       "      <th>58230</th>\n",
       "      <td>102208</td>\n",
       "      <td>VASQUEZ QUISPE, JORGE ALDAIR</td>\n",
       "      <td>TEC. MED. TERAPIA FÍSICA Y REHABILITACIÓN</td>\n",
       "      <td>542.625</td>\n",
       "      <td>NaN</td>\n",
       "      <td>NaN</td>\n",
       "      <td>2024II</td>\n",
       "      <td>NaN</td>\n",
       "      <td>NaN</td>\n",
       "    </tr>\n",
       "    <tr>\n",
       "      <th>37471</th>\n",
       "      <td>261237</td>\n",
       "      <td>VILA ÃAUPA, ANTHONY RAFAEL</td>\n",
       "      <td>INGENIERÍA QUÍMICA</td>\n",
       "      <td>795.875</td>\n",
       "      <td>NaN</td>\n",
       "      <td>NaN</td>\n",
       "      <td>2024I</td>\n",
       "      <td>NaN</td>\n",
       "      <td>NaN</td>\n",
       "    </tr>\n",
       "    <tr>\n",
       "      <th>37979</th>\n",
       "      <td>110518</td>\n",
       "      <td>QUISPE CCAÃIHUA, AIXA MILDRED</td>\n",
       "      <td>MEDICINA VETERINARIA</td>\n",
       "      <td>774.750</td>\n",
       "      <td>NaN</td>\n",
       "      <td>NaN</td>\n",
       "      <td>2024I</td>\n",
       "      <td>NaN</td>\n",
       "      <td>NaN</td>\n",
       "    </tr>\n",
       "  </tbody>\n",
       "</table>\n",
       "</div>"
      ],
      "text/plain": [
       "       student_id                           full_name  \\\n",
       "25461      890346   CARRILLO CASTILLO, BRENDA ABIGAIL   \n",
       "18365      291079       SIPION ANTON, KARELL MAURICIO   \n",
       "32562      734763      GALLARDO LOPEZ, CAMILA D'ARIEN   \n",
       "64035      592528    GUTIERREZ VERA, ASTRID GRUSHENKA   \n",
       "59883      713957   MORENO MERMA, LENNI AARON WILLIAM   \n",
       "47844      190755  ALMANZA LAQUI, KIMBERLY SALUSTIANA   \n",
       "1425       852824       GOMEZ HUERTA, JORGE ALEXANDER   \n",
       "58230      102208        VASQUEZ QUISPE, JORGE ALDAIR   \n",
       "37471      261237         VILA ÃAUPA, ANTHONY RAFAEL   \n",
       "37979      110518      QUISPE CCAÃIHUA, AIXA MILDRED   \n",
       "\n",
       "                                        career_1    score  merit_order  \\\n",
       "25461                            MEDICINA HUMANA  903.750          NaN   \n",
       "18365                           INGENIERÍA CIVIL  739.250          NaN   \n",
       "32562                                    DERECHO  451.625          NaN   \n",
       "64035                             ADMINISTRACIÓN  753.625          NaN   \n",
       "59883                                    DERECHO  966.000          NaN   \n",
       "47844                                 PSICOLOGÍA  330.500          NaN   \n",
       "1425                             MEDICINA HUMANA  690.250          NaN   \n",
       "58230  TEC. MED. TERAPIA FÍSICA Y REHABILITACIÓN  542.625          NaN   \n",
       "37471                         INGENIERÍA QUÍMICA  795.875          NaN   \n",
       "37979                       MEDICINA VETERINARIA  774.750          NaN   \n",
       "\n",
       "      observation periodo career_2 location  \n",
       "25461         NaN   2024I      NaN      NaN  \n",
       "18365         NaN  2023II      NaN      NaN  \n",
       "32562         NaN   2024I      NaN      NaN  \n",
       "64035         NaN  2024II      NaN     LIMA  \n",
       "59883         NaN  2024II      NaN     LIMA  \n",
       "47844         NaN   2024I      NaN      NaN  \n",
       "1425          NaN  2023II      NaN      NaN  \n",
       "58230         NaN  2024II      NaN      NaN  \n",
       "37471         NaN   2024I      NaN      NaN  \n",
       "37979         NaN   2024I      NaN      NaN  "
      ]
     },
     "execution_count": 14,
     "metadata": {},
     "output_type": "execute_result"
    }
   ],
   "source": [
    "resultados_exam.sample(10)"
   ]
  },
  {
   "cell_type": "code",
   "execution_count": null,
   "metadata": {},
   "outputs": [],
   "source": []
  },
  {
   "cell_type": "code",
   "execution_count": 15,
   "metadata": {},
   "outputs": [
    {
     "data": {
      "text/plain": [
       "array(['2023II', '2024I', '2024II'], dtype=object)"
      ]
     },
     "execution_count": 15,
     "metadata": {},
     "output_type": "execute_result"
    }
   ],
   "source": [
    "resultados_exam['periodo'].unique()"
   ]
  },
  {
   "cell_type": "code",
   "execution_count": 16,
   "metadata": {},
   "outputs": [
    {
     "data": {
      "text/plain": [
       "array([nan, 'ALCANZO VACANTE', 'AUSENTE',\n",
       "       'ALCANZO VACANTE SEGUNDA OPCIÓN', 'ANULADO',\n",
       "       'ALCANZO VACANTE SEGUNDA OPCIÃ\\x93N',\n",
       "       'ALCANZO VACANTE PRIMERA OPCIÃ\\x93N'], dtype=object)"
      ]
     },
     "execution_count": 16,
     "metadata": {},
     "output_type": "execute_result"
    }
   ],
   "source": [
    "resultados_exam['observation'].unique()"
   ]
  },
  {
   "cell_type": "code",
   "execution_count": 17,
   "metadata": {},
   "outputs": [],
   "source": [
    "#corregimos los textos\n",
    "\n",
    "resultados_exam['observation'] = resultados_exam['observation'].replace({\n",
    "    'ALCANZO VACANTE SEGUNDA OPCIÃ\\x93N':'ALCANZO VACANTE SEGUNDA OPCIÓN',\n",
    "    'ALCANZO VACANTE PRIMERA OPCIÃ\\x93N':'ALCANZO VACANTE PRIMERA OPCION',\n",
    "    'ALCANZO VACANTE':'ALCANZO VACANTE PRIMERA OPCION'\n",
    "})"
   ]
  },
  {
   "cell_type": "code",
   "execution_count": 18,
   "metadata": {},
   "outputs": [
    {
     "data": {
      "text/plain": [
       "array(['NO ALCANZO VACANTE', 'ALCANZO VACANTE PRIMERA OPCION', 'AUSENTE',\n",
       "       'ALCANZO VACANTE SEGUNDA OPCIÓN', 'ANULADO'], dtype=object)"
      ]
     },
     "execution_count": 18,
     "metadata": {},
     "output_type": "execute_result"
    }
   ],
   "source": [
    "resultados_exam['observation'] = resultados_exam['observation'].fillna('NO ALCANZO VACANTE')\n",
    "resultados_exam['observation'].unique()"
   ]
  },
  {
   "cell_type": "code",
   "execution_count": 19,
   "metadata": {},
   "outputs": [
    {
     "data": {
      "text/plain": [
       "array(['LIMA', 'S.J.L', 'HUARAL', 'VILLA RICA', 'CHILCA', 'OYÓN',\n",
       "       'HUARMEY'], dtype=object)"
      ]
     },
     "execution_count": 19,
     "metadata": {},
     "output_type": "execute_result"
    }
   ],
   "source": [
    "resultados_exam['location'] = resultados_exam['location'].fillna('LIMA')\n",
    "\n",
    "resultados_exam['location'].unique()"
   ]
  },
  {
   "cell_type": "code",
   "execution_count": 20,
   "metadata": {},
   "outputs": [
    {
     "data": {
      "text/plain": [
       "array([nan, 'OBSTETRICIA', 'TOXICOLOGÍA', 'TEC. MED. RADIOLOGÍA',\n",
       "       'CIENCIAS DE LOS ALIMENTOS', 'TEC. MED. TERAPIA OCUPACIONAL',\n",
       "       'TEC. MED. TERAPIA FÍSICA Y REHABILITACIÓN', 'EDUCACIÓN INICIAL',\n",
       "       'BIBLIOTECOLOGÍA Y CIENCIAS DE LA INFORMACIÓN',\n",
       "       'CONSERVACIÓN Y RESTAURACIÓN', 'GEOGRAFÍA', 'ARTE', 'ANTROPOLOGÍA',\n",
       "       'ARQUEOLOGÍA', 'FILOSOFÍA',\n",
       "       'PRESUPUESTO Y FINANZAS PÚBLICAS - LIMA', 'ADMINISTRACIÓN - S.J.L',\n",
       "       'GESTIÓN TRIBUTARIA - LIMA', 'ADMINISTRACIÓN DE TURISMO - LIMA',\n",
       "       'ECONOMÍA PÚBLICA', 'CONTABILIDAD - S.J.L',\n",
       "       'AUDITORÍA EMPRESARIAL Y DEL SECTOR PÚBLICO - LIMA',\n",
       "       'CIENCIAS BIOLÓGICAS', 'QUÍMICA', 'ESTADÍSTICA',\n",
       "       'MICROBIOLOGÍA Y PARASITOLOGÍA',\n",
       "       'AUDITORÍA EMPRESARIAL Y DEL SECTOR PÚBLICO - S.J.L',\n",
       "       'INGENIERÍA METALÚRGICA', 'INGENIERÍA AGROINDUSTRIAL',\n",
       "       'INGENIERÍA QUÍMICA', 'INGENIERÍA ELECTRÓNICA',\n",
       "       'INGENIERÍA DE TELECOMUNICACIONES',\n",
       "       'INGENIERÍA MECÁNICA DE FLUIDOS',\n",
       "       'INGENIERÍA DE SEGURIDAD Y SALUD EN EL TRABAJO',\n",
       "       'INGENIERÍA GEOGRÁFICA', 'INGENIERÍA TEXTIL Y CONFECCIONES',\n",
       "       'INGENIERÍA ELÉCTRICA', 'CIENCIAS DE LA COMPUTACIÓN',\n",
       "       'PSICOLOGÍA - HUARMEY', 'PSICOLOGÍA - VILLA RICA',\n",
       "       'PSICOLOGÍA - CHILCA', 'DERECHO - VILLA RICA', 'LINGUÍSTICA',\n",
       "       'HISTORIA', 'ADMINISTRACIÓN DE LA GASTRONOMÍA',\n",
       "       'COMPUTACIÓN CIENTÍFICA', 'CIENCIAS BIOLÓGICAS - LIMA',\n",
       "       'CONTABILIDAD - HUARMEY', 'ADMINISTRACIÓN DE TURISMO - S.J.L',\n",
       "       'ADMINISTRACIÓN - HUARAL', 'INGENIERÍA AGROINDUSTRIAL - LIMA',\n",
       "       'INGENIERÍA ELÉCTRICA - LIMA', 'INGENIERÍA DE MINAS - OYÓN'],\n",
       "      dtype=object)"
      ]
     },
     "execution_count": 20,
     "metadata": {},
     "output_type": "execute_result"
    }
   ],
   "source": [
    "resultados_exam['career_2'].unique()"
   ]
  },
  {
   "cell_type": "code",
   "execution_count": 21,
   "metadata": {},
   "outputs": [
    {
     "data": {
      "text/html": [
       "<div>\n",
       "<style scoped>\n",
       "    .dataframe tbody tr th:only-of-type {\n",
       "        vertical-align: middle;\n",
       "    }\n",
       "\n",
       "    .dataframe tbody tr th {\n",
       "        vertical-align: top;\n",
       "    }\n",
       "\n",
       "    .dataframe thead th {\n",
       "        text-align: right;\n",
       "    }\n",
       "</style>\n",
       "<table border=\"1\" class=\"dataframe\">\n",
       "  <thead>\n",
       "    <tr style=\"text-align: right;\">\n",
       "      <th></th>\n",
       "      <th>student_id</th>\n",
       "      <th>full_name</th>\n",
       "      <th>career_1</th>\n",
       "      <th>score</th>\n",
       "      <th>merit_order</th>\n",
       "      <th>observation</th>\n",
       "      <th>periodo</th>\n",
       "      <th>career_2</th>\n",
       "      <th>location</th>\n",
       "    </tr>\n",
       "  </thead>\n",
       "  <tbody>\n",
       "    <tr>\n",
       "      <th>75487</th>\n",
       "      <td>297540</td>\n",
       "      <td>VILCAS OTAÃE, WILLIAMS JEFFREY</td>\n",
       "      <td>CIENCIAS DE LA COMPUTACIÓN</td>\n",
       "      <td>712.500</td>\n",
       "      <td>NaN</td>\n",
       "      <td>NO ALCANZO VACANTE</td>\n",
       "      <td>2024II</td>\n",
       "      <td>NaN</td>\n",
       "      <td>LIMA</td>\n",
       "    </tr>\n",
       "    <tr>\n",
       "      <th>75488</th>\n",
       "      <td>267514</td>\n",
       "      <td>VILLAVICENCIO MERELLA, PAOLO ALONSO</td>\n",
       "      <td>CIENCIAS DE LA COMPUTACIÓN</td>\n",
       "      <td>1095.000</td>\n",
       "      <td>10.0</td>\n",
       "      <td>ALCANZO VACANTE PRIMERA OPCION</td>\n",
       "      <td>2024II</td>\n",
       "      <td>NaN</td>\n",
       "      <td>LIMA</td>\n",
       "    </tr>\n",
       "    <tr>\n",
       "      <th>75489</th>\n",
       "      <td>296074</td>\n",
       "      <td>YOLA MUCHCCO, JAIR SEBASTIAN</td>\n",
       "      <td>CIENCIAS DE LA COMPUTACIÓN</td>\n",
       "      <td>838.125</td>\n",
       "      <td>NaN</td>\n",
       "      <td>NO ALCANZO VACANTE</td>\n",
       "      <td>2024II</td>\n",
       "      <td>NaN</td>\n",
       "      <td>LIMA</td>\n",
       "    </tr>\n",
       "    <tr>\n",
       "      <th>75490</th>\n",
       "      <td>233635</td>\n",
       "      <td>ZAPATA LLAXA, JORGE ANDRES</td>\n",
       "      <td>CIENCIAS DE LA COMPUTACIÓN</td>\n",
       "      <td>1028.250</td>\n",
       "      <td>17.0</td>\n",
       "      <td>ALCANZO VACANTE PRIMERA OPCION</td>\n",
       "      <td>2024II</td>\n",
       "      <td>NaN</td>\n",
       "      <td>LIMA</td>\n",
       "    </tr>\n",
       "    <tr>\n",
       "      <th>75491</th>\n",
       "      <td>239418</td>\n",
       "      <td>ZAPATA MONTALVO, BENJAMIN JORGE</td>\n",
       "      <td>CIENCIAS DE LA COMPUTACIÓN</td>\n",
       "      <td>795.875</td>\n",
       "      <td>NaN</td>\n",
       "      <td>NO ALCANZO VACANTE</td>\n",
       "      <td>2024II</td>\n",
       "      <td>NaN</td>\n",
       "      <td>LIMA</td>\n",
       "    </tr>\n",
       "  </tbody>\n",
       "</table>\n",
       "</div>"
      ],
      "text/plain": [
       "      student_id                            full_name  \\\n",
       "75487     297540      VILCAS OTAÃE, WILLIAMS JEFFREY   \n",
       "75488     267514  VILLAVICENCIO MERELLA, PAOLO ALONSO   \n",
       "75489     296074         YOLA MUCHCCO, JAIR SEBASTIAN   \n",
       "75490     233635           ZAPATA LLAXA, JORGE ANDRES   \n",
       "75491     239418      ZAPATA MONTALVO, BENJAMIN JORGE   \n",
       "\n",
       "                         career_1     score  merit_order  \\\n",
       "75487  CIENCIAS DE LA COMPUTACIÓN   712.500          NaN   \n",
       "75488  CIENCIAS DE LA COMPUTACIÓN  1095.000         10.0   \n",
       "75489  CIENCIAS DE LA COMPUTACIÓN   838.125          NaN   \n",
       "75490  CIENCIAS DE LA COMPUTACIÓN  1028.250         17.0   \n",
       "75491  CIENCIAS DE LA COMPUTACIÓN   795.875          NaN   \n",
       "\n",
       "                          observation periodo career_2 location  \n",
       "75487              NO ALCANZO VACANTE  2024II      NaN     LIMA  \n",
       "75488  ALCANZO VACANTE PRIMERA OPCION  2024II      NaN     LIMA  \n",
       "75489              NO ALCANZO VACANTE  2024II      NaN     LIMA  \n",
       "75490  ALCANZO VACANTE PRIMERA OPCION  2024II      NaN     LIMA  \n",
       "75491              NO ALCANZO VACANTE  2024II      NaN     LIMA  "
      ]
     },
     "execution_count": 21,
     "metadata": {},
     "output_type": "execute_result"
    }
   ],
   "source": [
    "#analizamos los tipos de datos y corregimos en base a las necesidades para el analisis\n",
    "resultados_exam['student_id'] = resultados_exam['student_id'].astype(object)\n",
    "\n",
    "resultados_exam.tail()\n"
   ]
  },
  {
   "cell_type": "code",
   "execution_count": 22,
   "metadata": {},
   "outputs": [],
   "source": [
    "# resultados_exam.to_csv('resultados_consolidados.csv', index=False)"
   ]
  },
  {
   "cell_type": "code",
   "execution_count": 23,
   "metadata": {},
   "outputs": [],
   "source": [
    "# resultados_exam.to_csv('resultados examen consolidado', index=False)"
   ]
  },
  {
   "cell_type": "markdown",
   "metadata": {},
   "source": [
    "## EXPLORACION DE LOS DATOS"
   ]
  },
  {
   "cell_type": "markdown",
   "metadata": {},
   "source": [
    "¿Cuál es la distribución de puntajes entre los estudiantes de diferentes carreras?\n",
    "Analiza si hay carreras con puntajes consistentemente más altos o más bajos.\n",
    "\n",
    "¿Qué carrera tiene el puntaje más alto y quién es el estudiante asociado?\n",
    "Identifica al estudiante con el puntaje más alto y la carrera correspondiente.\n",
    "\n",
    "¿Cuántos estudiantes lograron alcanzar un puesto vacante en comparación con los que no lo hicieron?\n",
    "Compara el número de estudiantes que tienen una observación de \"ALCANZO VACANTE\" frente a aquellos sin esta observación.\n",
    "\n",
    "¿Cuál es el promedio de puntajes por carrera?\n",
    "Calcula el promedio de puntajes para cada carrera para ver cómo se comparan entre sí.\n",
    "\n",
    "¿Hay alguna correlación entre el puntaje y el orden de mérito?\n",
    "Investiga si existe alguna relación entre las puntuaciones y el orden de mérito, aunque algunos valores sean NaN.\n",
    "\n",
    "¿Qué porcentaje de estudiantes tiene un puntaje por encima de 600?\n",
    "Determina cuántos estudiantes tienen un puntaje superior a 600 en relación al total.\n",
    "\n",
    "¿Cuál es el período con la mayor cantidad de estudiantes y cuál tiene los puntajes más altos?\n",
    "Analiza la cantidad de estudiantes en cada período y su rendimiento promedio.\n",
    "\n",
    "¿Existen diferencias notables en puntajes entre las diferentes cohortes de estudiantes (2023II vs. 2024I vs. 2024II)?\n",
    "Compara los puntajes de los estudiantes en las diferentes cohortes.\n",
    "\n",
    "¿Qué carreras tienen más estudiantes sin puntaje registrado?\n",
    "Identifica qué carreras tienen más estudiantes con puntajes NaN."
   ]
  },
  {
   "cell_type": "markdown",
   "metadata": {},
   "source": []
  },
  {
   "cell_type": "markdown",
   "metadata": {},
   "source": [
    "1. Distribucion de los puntajes de los estudiantes de las carreras\n",
    "\n",
    "    Se creo una funcion que muestra un histograma con la distribucion de los puntajes por cada carrera y por perido que escogieron los postulantes como primera opcion."
   ]
  },
  {
   "cell_type": "code",
   "execution_count": 24,
   "metadata": {},
   "outputs": [],
   "source": [
    "# Definimos la función para analizar la distribución de puntajes por carrera\n",
    "def hist_career(career, periodo):\n",
    "    # Filtrar el DataFrame para obtener solo los datos de la carrera deseada\n",
    "    career_data = resultados_exam[(resultados_exam['career_1'] == career) & (resultados_exam['periodo'] == periodo)]\n",
    "    \n",
    "    # Verificar si hay datos para la carrera especificada\n",
    "    if not career_data.empty:\n",
    "        # Crear un histograma de los puntajes\n",
    "        plt.figure(figsize=(10, 6))\n",
    "        sns.histplot(career_data['score'], bins=10, kde=True)  # Agregar KDE para suavizar la curva\n",
    "        plt.title(f'DISTRIBUCIÓN DE PUNTAJES EN {career} - {periodo}')\n",
    "        plt.xlabel('Puntaje')\n",
    "        plt.ylabel('Frecuencia')\n",
    "        plt.axvline(career_data['score'].max(), color='red', linestyle='--', label='Puntaje Máximo')\n",
    "        plt.legend()\n",
    "        plt.show()\n",
    "        \n",
    "        # Imprimir el puntaje máximo\n",
    "        max_score = career_data['score'].max()\n",
    "        min_score = career_data[career_data['observation'] == 'ALCANZO VACANTE PRIMERA OPCION']['score'].min()\n",
    "    \n",
    "        print(f'EL PUNTAJE MÁXIMO PARA {career} ES {max_score} Y EL PUNTAJE MINIMO ES {min_score} EN EL PERIODO {periodo}')\n",
    "    else:\n",
    "        print(f'No hay datos disponibles para la carrera {career}.')"
   ]
  },
  {
   "cell_type": "code",
   "execution_count": 25,
   "metadata": {},
   "outputs": [
    {
     "data": {
      "text/plain": [
       "array(['MEDICINA HUMANA', 'OBSTETRICIA', 'ENFERMERÍA',\n",
       "       'TEC. MED. LAB. CLÍNICO Y ANATOMÍA PATOLÓGICA',\n",
       "       'TEC. MED. TERAPIA FÍSICA Y REHABILITACIÓN',\n",
       "       'TEC. MED. RADIOLOGÍA', 'TEC. MED. TERAPIA OCUPACIONAL',\n",
       "       'NUTRICION', 'DERECHO', 'CIENCIA POLÍTICA', 'LITERATURA',\n",
       "       'FILOSOFÍA', 'LINGUÍSTICA', 'COMUNICACIÓN SOCIAL', 'ARTE',\n",
       "       'BIBLIOTECOLOGÍA Y CIENCIAS DE LA INFORMACIÓN', 'DANZA',\n",
       "       'CONSERVACIÓN Y RESTAURACIÓN', 'FARMACIA Y BIOQUÍMICA',\n",
       "       'CIENCIAS DE LOS ALIMENTOS', 'TOXICOLOGÍA', 'ODONTOLOGÍA',\n",
       "       'EDUCACIÓN INICIAL', 'EDUCACIÓN PRIMARIA', 'EDUCACIÓN SECUNDARIA',\n",
       "       'EDUCACIÓN FÍSICA', 'QUÍMICA', 'INGENIERÍA QUÍMICA',\n",
       "       'INGENIERÍA AGROINDUSTRIAL', 'MEDICINA VETERINARIA',\n",
       "       'ADMINISTRACIÓN', 'ADMINISTRACIÓN DE TURISMO',\n",
       "       'ADMINISTRACIÓN DE NEGOCIOS INTERNACIONALES',\n",
       "       'CIENCIAS BIOLÓGICAS', 'GENÉTICA Y BIOTECNOLOGÍA',\n",
       "       'MICROBIOLOGÍA Y PARASITOLOGÍA', 'CONTABILIDAD',\n",
       "       'GESTIÓN TRIBUTARIA', 'AUDITORÍA EMPRESARIAL Y DEL SECTOR PÚBLICO',\n",
       "       'PRESUPUESTO Y FINANZAS PÚBLICAS', 'ECONOMÍA', 'ECONOMÍA PÚBLICA',\n",
       "       'ECONOMÍA INTERNACIONAL', 'FÍSICA',\n",
       "       'INGENIERÍA MECÁNICA DE FLUIDOS', 'MATEMÁTICA', 'ESTADÍSTICA',\n",
       "       'INVESTIGACIÓN OPERATIVA', 'COMPUTACIÓN CIENTÍFICA', 'HISTORIA',\n",
       "       'SOCIOLOGÍA', 'ANTROPOLOGÍA', 'ARQUEOLOGÍA', 'TRABAJO SOCIAL',\n",
       "       'GEOGRAFÍA', 'INGENIERÍA GEOLÓGICA', 'INGENIERÍA GEOGRÁFICA',\n",
       "       'INGENIERÍA DE MINAS', 'INGENIERÍA METALÚRGICA',\n",
       "       'INGENIERÍA CIVIL', 'INGENIERÍA AMBIENTAL',\n",
       "       'INGENIERÍA INDUSTRIAL', 'INGENIERÍA TEXTIL Y CONFECCIONES',\n",
       "       'INGENIERÍA DE SEGURIDAD Y SALUD EN EL TRABAJO', 'PSICOLOGÍA',\n",
       "       'PSICOLOGÍA ORGANIZACIONAL Y DE LA GESTIÓN HUMANA',\n",
       "       'INGENIERÍA ELECTRÓNICA', 'INGENIERÍA ELÉCTRICA',\n",
       "       'INGENIERÍA DE TELECOMUNICACIONES', 'INGENIERÍA BIOMÉDICA',\n",
       "       'INGENIERÍA DE SISTEMAS', 'INGENIERÍA DE SOFTWARE',\n",
       "       'CIENCIAS DE LA COMPUTACIÓN',\n",
       "       'LENGUAS, TRADUCCIÓN E INTERPRETACIÓN',\n",
       "       'ADMINISTRACIÓN DE LA GASTRONOMÍA',\n",
       "       'ADMINISTRACIÓN MARÍTIMA Y PORTUARIA', 'MARKETING'], dtype=object)"
      ]
     },
     "execution_count": 25,
     "metadata": {},
     "output_type": "execute_result"
    }
   ],
   "source": [
    "resultados_exam['career_1'].unique()"
   ]
  },
  {
   "cell_type": "code",
   "execution_count": 26,
   "metadata": {},
   "outputs": [
    {
     "data": {
      "image/png": "[encoded data removed]",
      "text/plain": [
       "<Figure size 1000x600 with 1 Axes>"
      ]
     },
     "metadata": {},
     "output_type": "display_data"
    },
    {
     "name": "stdout",
     "output_type": "stream",
     "text": [
      "EL PUNTAJE MÁXIMO PARA INGENIERÍA DE SISTEMAS ES 1493.0 Y EL PUNTAJE MINIMO ES 1197.25 EN EL PERIODO 2024II\n"
     ]
    }
   ],
   "source": [
    "hist_career('INGENIERÍA DE SISTEMAS', '2024II')  # Reemplaza con la carrera que deseas analizar"
   ]
  },
  {
   "cell_type": "markdown",
   "metadata": {},
   "source": [
    "Qué carrera tiene el puntaje más alto y quién es el estudiante asociado?\n",
    "Identifica al estudiante con el puntaje más alto y la carrera correspondiente."
   ]
  },
  {
   "cell_type": "code",
   "execution_count": 27,
   "metadata": {},
   "outputs": [
    {
     "data": {
      "text/html": [
       "<div>\n",
       "<style scoped>\n",
       "    .dataframe tbody tr th:only-of-type {\n",
       "        vertical-align: middle;\n",
       "    }\n",
       "\n",
       "    .dataframe tbody tr th {\n",
       "        vertical-align: top;\n",
       "    }\n",
       "\n",
       "    .dataframe thead th {\n",
       "        text-align: right;\n",
       "    }\n",
       "</style>\n",
       "<table border=\"1\" class=\"dataframe\">\n",
       "  <thead>\n",
       "    <tr style=\"text-align: right;\">\n",
       "      <th></th>\n",
       "      <th>full_name</th>\n",
       "      <th>career_1</th>\n",
       "      <th>score</th>\n",
       "      <th>periodo</th>\n",
       "    </tr>\n",
       "  </thead>\n",
       "  <tbody>\n",
       "    <tr>\n",
       "      <th>7442</th>\n",
       "      <td>ROJAS BENITES, CAMILA JIMENA</td>\n",
       "      <td>DERECHO</td>\n",
       "      <td>1556.375</td>\n",
       "      <td>2023II</td>\n",
       "    </tr>\n",
       "    <tr>\n",
       "      <th>43854</th>\n",
       "      <td>SALAZAR SEDANO, JOAQUÍN SEBASTIÁN</td>\n",
       "      <td>COMPUTACIÓN CIENTÍFICA</td>\n",
       "      <td>1704.250</td>\n",
       "      <td>2024I</td>\n",
       "    </tr>\n",
       "    <tr>\n",
       "      <th>64882</th>\n",
       "      <td>FUSTAMANTE CUEVA, ISIS MICHELLE</td>\n",
       "      <td>ADMINISTRACIÓN DE NEGOCIOS INTERNACIONALES</td>\n",
       "      <td>1563.125</td>\n",
       "      <td>2024II</td>\n",
       "    </tr>\n",
       "  </tbody>\n",
       "</table>\n",
       "</div>"
      ],
      "text/plain": [
       "                               full_name  \\\n",
       "7442        ROJAS BENITES, CAMILA JIMENA   \n",
       "43854  SALAZAR SEDANO, JOAQUÍN SEBASTIÁN   \n",
       "64882    FUSTAMANTE CUEVA, ISIS MICHELLE   \n",
       "\n",
       "                                         career_1     score periodo  \n",
       "7442                                      DERECHO  1556.375  2023II  \n",
       "43854                      COMPUTACIÓN CIENTÍFICA  1704.250   2024I  \n",
       "64882  ADMINISTRACIÓN DE NEGOCIOS INTERNACIONALES  1563.125  2024II  "
      ]
     },
     "execution_count": 27,
     "metadata": {},
     "output_type": "execute_result"
    }
   ],
   "source": [
    "highest_score = resultados_exam.loc[resultados_exam.groupby('periodo')['score'].idxmax()]\n",
    "highest_score[['full_name','career_1','score', 'periodo']]"
   ]
  },
  {
   "cell_type": "markdown",
   "metadata": {},
   "source": [
    "¿Cuántos estudiantes lograron alcanzar un puesto vacante en comparación con los que no lo hicieron?\n",
    "Compara el número de estudiantes que tienen una observación de \"ALCANZO VACANTE\" frente a aquellos sin esta observación.\n"
   ]
  },
  {
   "cell_type": "code",
   "execution_count": 28,
   "metadata": {},
   "outputs": [
    {
     "data": {
      "text/plain": [
       "array(['NO ALCANZO VACANTE', 'ALCANZO VACANTE PRIMERA OPCION', 'AUSENTE',\n",
       "       'ALCANZO VACANTE SEGUNDA OPCIÓN', 'ANULADO'], dtype=object)"
      ]
     },
     "execution_count": 28,
     "metadata": {},
     "output_type": "execute_result"
    }
   ],
   "source": [
    "resultados_exam['observation'].unique()"
   ]
  },
  {
   "cell_type": "code",
   "execution_count": 29,
   "metadata": {},
   "outputs": [],
   "source": [
    "vacant_reached = resultados_exam[\n",
    "    (resultados_exam['observation'] == 'ALCANZO VACANTE PRIMERA OPCION') | (resultados_exam['observation'] == 'ALCANZO VACANTE SEGUNDA OPCIÓN') | (resultados_exam['observation'] == 'NO ALCANZO VACANTE')\n",
    "]"
   ]
  },
  {
   "cell_type": "code",
   "execution_count": 30,
   "metadata": {},
   "outputs": [
    {
     "data": {
      "text/plain": [
       "array(['NO ALCANZO VACANTE', 'ALCANZO VACANTE PRIMERA OPCION',\n",
       "       'ALCANZO VACANTE SEGUNDA OPCIÓN'], dtype=object)"
      ]
     },
     "execution_count": 30,
     "metadata": {},
     "output_type": "execute_result"
    }
   ],
   "source": [
    "vacant_reached['observation'].unique()"
   ]
  },
  {
   "cell_type": "code",
   "execution_count": 31,
   "metadata": {},
   "outputs": [
    {
     "data": {
      "text/html": [
       "<div>\n",
       "<style scoped>\n",
       "    .dataframe tbody tr th:only-of-type {\n",
       "        vertical-align: middle;\n",
       "    }\n",
       "\n",
       "    .dataframe tbody tr th {\n",
       "        vertical-align: top;\n",
       "    }\n",
       "\n",
       "    .dataframe thead th {\n",
       "        text-align: right;\n",
       "    }\n",
       "</style>\n",
       "<table border=\"1\" class=\"dataframe\">\n",
       "  <thead>\n",
       "    <tr style=\"text-align: right;\">\n",
       "      <th></th>\n",
       "      <th>periodo</th>\n",
       "      <th>observation</th>\n",
       "      <th>count</th>\n",
       "    </tr>\n",
       "  </thead>\n",
       "  <tbody>\n",
       "    <tr>\n",
       "      <th>0</th>\n",
       "      <td>2023II</td>\n",
       "      <td>ALCANZO VACANTE PRIMERA OPCION</td>\n",
       "      <td>3751</td>\n",
       "    </tr>\n",
       "    <tr>\n",
       "      <th>1</th>\n",
       "      <td>2023II</td>\n",
       "      <td>NO ALCANZO VACANTE</td>\n",
       "      <td>20348</td>\n",
       "    </tr>\n",
       "    <tr>\n",
       "      <th>2</th>\n",
       "      <td>2024I</td>\n",
       "      <td>ALCANZO VACANTE PRIMERA OPCION</td>\n",
       "      <td>1821</td>\n",
       "    </tr>\n",
       "    <tr>\n",
       "      <th>3</th>\n",
       "      <td>2024I</td>\n",
       "      <td>ALCANZO VACANTE SEGUNDA OPCIÓN</td>\n",
       "      <td>303</td>\n",
       "    </tr>\n",
       "    <tr>\n",
       "      <th>4</th>\n",
       "      <td>2024I</td>\n",
       "      <td>NO ALCANZO VACANTE</td>\n",
       "      <td>26403</td>\n",
       "    </tr>\n",
       "    <tr>\n",
       "      <th>5</th>\n",
       "      <td>2024II</td>\n",
       "      <td>ALCANZO VACANTE PRIMERA OPCION</td>\n",
       "      <td>2118</td>\n",
       "    </tr>\n",
       "    <tr>\n",
       "      <th>6</th>\n",
       "      <td>2024II</td>\n",
       "      <td>ALCANZO VACANTE SEGUNDA OPCIÓN</td>\n",
       "      <td>512</td>\n",
       "    </tr>\n",
       "    <tr>\n",
       "      <th>7</th>\n",
       "      <td>2024II</td>\n",
       "      <td>NO ALCANZO VACANTE</td>\n",
       "      <td>19238</td>\n",
       "    </tr>\n",
       "  </tbody>\n",
       "</table>\n",
       "</div>"
      ],
      "text/plain": [
       "  periodo                     observation  count\n",
       "0  2023II  ALCANZO VACANTE PRIMERA OPCION   3751\n",
       "1  2023II              NO ALCANZO VACANTE  20348\n",
       "2   2024I  ALCANZO VACANTE PRIMERA OPCION   1821\n",
       "3   2024I  ALCANZO VACANTE SEGUNDA OPCIÓN    303\n",
       "4   2024I              NO ALCANZO VACANTE  26403\n",
       "5  2024II  ALCANZO VACANTE PRIMERA OPCION   2118\n",
       "6  2024II  ALCANZO VACANTE SEGUNDA OPCIÓN    512\n",
       "7  2024II              NO ALCANZO VACANTE  19238"
      ]
     },
     "execution_count": 31,
     "metadata": {},
     "output_type": "execute_result"
    }
   ],
   "source": [
    "comparison = vacant_reached.groupby(['periodo','observation'])['observation'].count().reset_index(name = 'count')\n",
    "comparison"
   ]
  },
  {
   "cell_type": "code",
   "execution_count": 32,
   "metadata": {},
   "outputs": [
    {
     "data": {
      "text/html": [
       "<div>\n",
       "<style scoped>\n",
       "    .dataframe tbody tr th:only-of-type {\n",
       "        vertical-align: middle;\n",
       "    }\n",
       "\n",
       "    .dataframe tbody tr th {\n",
       "        vertical-align: top;\n",
       "    }\n",
       "\n",
       "    .dataframe thead th {\n",
       "        text-align: right;\n",
       "    }\n",
       "</style>\n",
       "<table border=\"1\" class=\"dataframe\">\n",
       "  <thead>\n",
       "    <tr style=\"text-align: right;\">\n",
       "      <th>observation</th>\n",
       "      <th>ALCANZO VACANTE PRIMERA OPCION</th>\n",
       "      <th>ALCANZO VACANTE SEGUNDA OPCIÓN</th>\n",
       "      <th>NO ALCANZO VACANTE</th>\n",
       "    </tr>\n",
       "    <tr>\n",
       "      <th>periodo</th>\n",
       "      <th></th>\n",
       "      <th></th>\n",
       "      <th></th>\n",
       "    </tr>\n",
       "  </thead>\n",
       "  <tbody>\n",
       "    <tr>\n",
       "      <th>2023II</th>\n",
       "      <td>3751.0</td>\n",
       "      <td>0.0</td>\n",
       "      <td>20348.0</td>\n",
       "    </tr>\n",
       "    <tr>\n",
       "      <th>2024I</th>\n",
       "      <td>1821.0</td>\n",
       "      <td>303.0</td>\n",
       "      <td>26403.0</td>\n",
       "    </tr>\n",
       "    <tr>\n",
       "      <th>2024II</th>\n",
       "      <td>2118.0</td>\n",
       "      <td>512.0</td>\n",
       "      <td>19238.0</td>\n",
       "    </tr>\n",
       "  </tbody>\n",
       "</table>\n",
       "</div>"
      ],
      "text/plain": [
       "observation  ALCANZO VACANTE PRIMERA OPCION  ALCANZO VACANTE SEGUNDA OPCIÓN  \\\n",
       "periodo                                                                       \n",
       "2023II                               3751.0                             0.0   \n",
       "2024I                                1821.0                           303.0   \n",
       "2024II                               2118.0                           512.0   \n",
       "\n",
       "observation  NO ALCANZO VACANTE  \n",
       "periodo                          \n",
       "2023II                  20348.0  \n",
       "2024I                   26403.0  \n",
       "2024II                  19238.0  "
      ]
     },
     "execution_count": 32,
     "metadata": {},
     "output_type": "execute_result"
    }
   ],
   "source": [
    "# Pivotar el DataFrame para tener 'observation' como columnas\n",
    "pivot_comparison = comparison.pivot(index='periodo', columns='observation', values='count').fillna(0)\n",
    "pivot_comparison"
   ]
  },
  {
   "cell_type": "code",
   "execution_count": 33,
   "metadata": {},
   "outputs": [
    {
     "data": {
      "text/plain": [
       "<matplotlib.legend.Legend at 0x2831b5d9820>"
      ]
     },
     "execution_count": 33,
     "metadata": {},
     "output_type": "execute_result"
    },
    {
     "data": {
      "image/png": "[encoded data removed]",
      "text/plain": [
       "<Figure size 640x480 with 1 Axes>"
      ]
     },
     "metadata": {},
     "output_type": "display_data"
    }
   ],
   "source": [
    "# Crear el gráfico de barras apilado\n",
    "pivot_comparison.plot(kind = 'bar')\n",
    "# Configurar etiquetas y título\n",
    "plt.title('Comparacion de ingresados y no ingresados por Periodo')\n",
    "plt.xlabel('Periodo')\n",
    "plt.ylabel('Count')\n",
    "plt.legend(title='OBSEERVACIONES', bbox_to_anchor=(1.05, 1), loc='upper left')"
   ]
  },
  {
   "cell_type": "markdown",
   "metadata": {},
   "source": [
    "¿Cuál es el maximo de puntaje por carrera?\n",
    "Calcula el promedio de puntaje para cada carrera para ver cómo se comparan entre sí."
   ]
  },
  {
   "cell_type": "code",
   "execution_count": 34,
   "metadata": {},
   "outputs": [],
   "source": [
    "def mean_score(periodo):\n",
    "\n",
    "    #filtramos por periodo\n",
    "    periodo_filter = resultados_exam[resultados_exam['periodo'] == periodo]\n",
    "\n",
    "    #agrupamos por carrera y mostramos el promedio\n",
    "    max_score = periodo_filter.groupby('career_1')['score'].max().sort_values(ascending = False).reset_index()\n",
    "    top10 = max_score.nlargest(20, 'score')\n",
    "    #creamos un grafico de lineas\n",
    "    plt.figure(figsize = (10,6))\n",
    "    sns.lineplot(x = 'career_1', y = 'score', data=top10)\n",
    "    plt.xlabel('Carrera')\n",
    "    plt.ylabel('Puntaje maximo')\n",
    "    plt.title(f'Puntaje maximo por carrera en el periodo {periodo}')\n",
    "    plt.xticks(rotation = 90)\n",
    "   \n"
   ]
  },
  {
   "cell_type": "code",
   "execution_count": 35,
   "metadata": {},
   "outputs": [
    {
     "data": {
      "image/png": "[encoded data removed]",
      "text/plain": [
       "<Figure size 1000x600 with 1 Axes>"
      ]
     },
     "metadata": {},
     "output_type": "display_data"
    }
   ],
   "source": [
    "mean_score(\"2025I\")"
   ]
  },
  {
   "cell_type": "markdown",
   "metadata": {},
   "source": [
    "¿Hay alguna correlación entre el puntaje y el orden de mérito?\n",
    "Investiga si existe alguna relación entre las puntuaciones y el orden de mérito, aunque algunos valores sean NaN.\n"
   ]
  },
  {
   "cell_type": "code",
   "execution_count": 36,
   "metadata": {},
   "outputs": [],
   "source": [
    "df_numerico = resultados_exam.select_dtypes(include = 'number')"
   ]
  },
  {
   "cell_type": "code",
   "execution_count": 37,
   "metadata": {},
   "outputs": [
    {
     "data": {
      "text/html": [
       "<div>\n",
       "<style scoped>\n",
       "    .dataframe tbody tr th:only-of-type {\n",
       "        vertical-align: middle;\n",
       "    }\n",
       "\n",
       "    .dataframe tbody tr th {\n",
       "        vertical-align: top;\n",
       "    }\n",
       "\n",
       "    .dataframe thead th {\n",
       "        text-align: right;\n",
       "    }\n",
       "</style>\n",
       "<table border=\"1\" class=\"dataframe\">\n",
       "  <thead>\n",
       "    <tr style=\"text-align: right;\">\n",
       "      <th></th>\n",
       "      <th>score</th>\n",
       "      <th>merit_order</th>\n",
       "    </tr>\n",
       "  </thead>\n",
       "  <tbody>\n",
       "    <tr>\n",
       "      <th>score</th>\n",
       "      <td>1.000000</td>\n",
       "      <td>-0.247715</td>\n",
       "    </tr>\n",
       "    <tr>\n",
       "      <th>merit_order</th>\n",
       "      <td>-0.247715</td>\n",
       "      <td>1.000000</td>\n",
       "    </tr>\n",
       "  </tbody>\n",
       "</table>\n",
       "</div>"
      ],
      "text/plain": [
       "                score  merit_order\n",
       "score        1.000000    -0.247715\n",
       "merit_order -0.247715     1.000000"
      ]
     },
     "execution_count": 37,
     "metadata": {},
     "output_type": "execute_result"
    }
   ],
   "source": [
    "correlation = df_numerico.corr()\n",
    "correlation"
   ]
  },
  {
   "cell_type": "code",
   "execution_count": 38,
   "metadata": {},
   "outputs": [
    {
     "data": {
      "text/plain": [
       "<Axes: >"
      ]
     },
     "execution_count": 38,
     "metadata": {},
     "output_type": "execute_result"
    },
    {
     "data": {
      "image/png": "[encoded data removed]",
      "text/plain": [
       "<Figure size 640x480 with 2 Axes>"
      ]
     },
     "metadata": {},
     "output_type": "display_data"
    }
   ],
   "source": [
    "sns.heatmap(correlation, annot = True, cmap = 'coolwarm', linewidths=0.5)"
   ]
  },
  {
   "cell_type": "markdown",
   "metadata": {},
   "source": [
    "En primera instancia se puede observar que existe una ligera correlacion negativa entre ambas variables. Se podrá observar mejor con un grafico de regresion"
   ]
  },
  {
   "cell_type": "code",
   "execution_count": 39,
   "metadata": {},
   "outputs": [
    {
     "data": {
      "text/plain": [
       "<Axes: xlabel='merit_order', ylabel='score'>"
      ]
     },
     "execution_count": 39,
     "metadata": {},
     "output_type": "execute_result"
    },
    {
     "data": {
      "image/png": "[encoded data removed]",
      "text/plain": [
       "<Figure size 640x480 with 1 Axes>"
      ]
     },
     "metadata": {},
     "output_type": "display_data"
    }
   ],
   "source": [
    "sns.lineplot(x= 'merit_order', y = 'score', data = resultados_exam)"
   ]
  },
  {
   "cell_type": "markdown",
   "metadata": {},
   "source": [
    "Aqui se puede apreciar una tendencia negativa, ya que los orden de meritos mas cercanos al 0 tienden a tener puntajes mas altos a los que mas alejados. Lo cual es algo obvio, ya que los primeros puestos tienden a tener los puntajes mas altos para que puedan alcanzar una vacante."
   ]
  },
  {
   "cell_type": "markdown",
   "metadata": {},
   "source": [
    "¿Qué porcentaje de estudiantes por encima de 900 alcanzaron vacante?\n",
    "Determina cuántos estudiantes con un puntaje superior a 900 alcanzaron una vacante"
   ]
  },
  {
   "cell_type": "code",
   "execution_count": 40,
   "metadata": {},
   "outputs": [],
   "source": [
    "def score_900(periodo):\n",
    "    score_period = resultados_exam[(resultados_exam['periodo'] == periodo) & (resultados_exam['score'] >= 900)] #filtramos por periodo y por puntajes mayores o iguales 900\n",
    "\n",
    "    proportion = score_period.groupby('observation')['observation'].count().reset_index(name = 'count')  #agrupamos por observacion para contar cuantos postulantes alcanzaron vacantes\n",
    "    proportion['proportion'] = proportion['count'] / proportion['count'].sum() * 100 # mostramos el porcentaje\n",
    "    \n",
    "    labels = proportion['observation'] #denominamos las etiquetas\n",
    "    plt.pie(proportion['proportion'], labels=labels, autopct= '%1.1f%%') #mostramos los porcentajes en un grafico de pie\n",
    "    plt.title(f\"PROPORCION DE LOS POSTULANTES CON PUNTAJE MAYOR A 900 PUNTOS DEL {periodo}\")\n"
   ]
  },
  {
   "cell_type": "code",
   "execution_count": 41,
   "metadata": {},
   "outputs": [
    {
     "data": {
      "image/png": "[encoded data removed]",
      "text/plain": [
       "<Figure size 640x480 with 1 Axes>"
      ]
     },
     "metadata": {},
     "output_type": "display_data"
    }
   ],
   "source": [
    "score_900('2024II')"
   ]
  },
  {
   "cell_type": "markdown",
   "metadata": {},
   "source": [
    "¿Cuál es el período con la mayor cantidad de estudiantes y cuál tiene los puntajes más altos?\n",
    "Analiza la cantidad de estudiantes en cada período y su rendimiento promedio."
   ]
  },
  {
   "cell_type": "code",
   "execution_count": 42,
   "metadata": {},
   "outputs": [
    {
     "data": {
      "text/html": [
       "<div>\n",
       "<style scoped>\n",
       "    .dataframe tbody tr th:only-of-type {\n",
       "        vertical-align: middle;\n",
       "    }\n",
       "\n",
       "    .dataframe tbody tr th {\n",
       "        vertical-align: top;\n",
       "    }\n",
       "\n",
       "    .dataframe thead th {\n",
       "        text-align: right;\n",
       "    }\n",
       "</style>\n",
       "<table border=\"1\" class=\"dataframe\">\n",
       "  <thead>\n",
       "    <tr style=\"text-align: right;\">\n",
       "      <th></th>\n",
       "      <th>periodo</th>\n",
       "      <th>full_name</th>\n",
       "      <th>score</th>\n",
       "    </tr>\n",
       "  </thead>\n",
       "  <tbody>\n",
       "    <tr>\n",
       "      <th>0</th>\n",
       "      <td>2023II</td>\n",
       "      <td>24553</td>\n",
       "      <td>1556.375</td>\n",
       "    </tr>\n",
       "    <tr>\n",
       "      <th>1</th>\n",
       "      <td>2024I</td>\n",
       "      <td>28862</td>\n",
       "      <td>1704.250</td>\n",
       "    </tr>\n",
       "    <tr>\n",
       "      <th>2</th>\n",
       "      <td>2024II</td>\n",
       "      <td>22077</td>\n",
       "      <td>1563.125</td>\n",
       "    </tr>\n",
       "  </tbody>\n",
       "</table>\n",
       "</div>"
      ],
      "text/plain": [
       "  periodo  full_name     score\n",
       "0  2023II      24553  1556.375\n",
       "1   2024I      28862  1704.250\n",
       "2  2024II      22077  1563.125"
      ]
     },
     "execution_count": 42,
     "metadata": {},
     "output_type": "execute_result"
    }
   ],
   "source": [
    "period_high = resultados_exam.groupby('periodo').agg({'full_name':'nunique', 'score':'max'}).reset_index()\n",
    "period_high"
   ]
  },
  {
   "cell_type": "code",
   "execution_count": 43,
   "metadata": {},
   "outputs": [
    {
     "data": {
      "image/png": "[encoded data removed]",
      "text/plain": [
       "<Figure size 1000x600 with 1 Axes>"
      ]
     },
     "metadata": {},
     "output_type": "display_data"
    }
   ],
   "source": [
    "plt.figure(figsize=(10, 6))\n",
    "x = range(len(period_high['periodo']))\n",
    "\n",
    "# Graficar las barras\n",
    "plt.bar(x, period_high['full_name'], label='Amount students', color='skyblue')\n",
    "\n",
    "# Graficar la línea de score\n",
    "plt.plot(x, period_high['score'], color='orange', label='Línea de Score')\n",
    "\n",
    "# Configuración del gráfico\n",
    "plt.xticks(x, period_high['periodo'])\n",
    "plt.xlabel('Periodo')\n",
    "plt.ylabel('Score')\n",
    "plt.title('Gráfico de Barras con Línea de Score')\n",
    "plt.legend()\n",
    "\n",
    "\n",
    "# Mostrar el gráfico\n",
    "plt.show()"
   ]
  },
  {
   "cell_type": "markdown",
   "metadata": {},
   "source": [
    "¿Existen diferencias notables en puntajes entre las diferentes cohortes de carreras (2023II vs. 2024I vs. 2024II)?\n",
    "Compara los puntajes de las carreras en las diferentes cohortes."
   ]
  },
  {
   "cell_type": "code",
   "execution_count": 44,
   "metadata": {},
   "outputs": [],
   "source": [
    "def cohort_career(career):\n",
    "    career_filtered = resultados_exam[(resultados_exam['career_1'] == career) & (resultados_exam['observation'] == 'ALCANZO VACANTE PRIMERA OPCION')]\n",
    "\n",
    "    if not career_filtered.empty:\n",
    "         cohort_students = career_filtered.pivot_table(index = 'career_1', columns='periodo', values='score', aggfunc='max')\n",
    "         print(cohort_students)\n",
    "         sns.heatmap(cohort_students, annot=True, fmt=\".2f\")\n",
    "         plt.xlabel('Periodo')\n",
    "         plt.ylabel('')\n",
    "         plt.show()\n",
    "    else:\n",
    "        print('No se encontraron datos para la carrera seleccionada')\n"
   ]
  },
  {
   "cell_type": "code",
   "execution_count": 45,
   "metadata": {},
   "outputs": [
    {
     "name": "stdout",
     "output_type": "stream",
     "text": [
      "periodo                                       2023II     2024I    2024II\n",
      "career_1                                                                \n",
      "ADMINISTRACIÓN DE NEGOCIOS INTERNACIONALES  1331.875  1556.375  1563.125\n"
     ]
    },
    {
     "data": {
      "image/png": "[encoded data removed]",
      "text/plain": [
       "<Figure size 640x480 with 2 Axes>"
      ]
     },
     "metadata": {},
     "output_type": "display_data"
    }
   ],
   "source": [
    "cohort_career('ADMINISTRACIÓN DE NEGOCIOS INTERNACIONALES')\n"
   ]
  },
  {
   "cell_type": "markdown",
   "metadata": {},
   "source": [
    "¿Qué carreras tienen más estudiantes sin puntaje registrado?\n",
    "Identifica qué carreras tienen más estudiantes con puntajes NaN.\n"
   ]
  },
  {
   "cell_type": "code",
   "execution_count": null,
   "metadata": {},
   "outputs": [],
   "source": []
  },
  {
   "cell_type": "code",
   "execution_count": 46,
   "metadata": {},
   "outputs": [
    {
     "data": {
      "text/html": [
       "<div>\n",
       "<style scoped>\n",
       "    .dataframe tbody tr th:only-of-type {\n",
       "        vertical-align: middle;\n",
       "    }\n",
       "\n",
       "    .dataframe tbody tr th {\n",
       "        vertical-align: top;\n",
       "    }\n",
       "\n",
       "    .dataframe thead th {\n",
       "        text-align: right;\n",
       "    }\n",
       "</style>\n",
       "<table border=\"1\" class=\"dataframe\">\n",
       "  <thead>\n",
       "    <tr style=\"text-align: right;\">\n",
       "      <th></th>\n",
       "      <th>student_id</th>\n",
       "      <th>full_name</th>\n",
       "      <th>career_1</th>\n",
       "      <th>score</th>\n",
       "      <th>merit_order</th>\n",
       "      <th>observation</th>\n",
       "      <th>periodo</th>\n",
       "      <th>career_2</th>\n",
       "      <th>location</th>\n",
       "    </tr>\n",
       "  </thead>\n",
       "  <tbody>\n",
       "    <tr>\n",
       "      <th>0</th>\n",
       "      <td>855168</td>\n",
       "      <td>ABAD GRANDA, ANDRE FAHET</td>\n",
       "      <td>MEDICINA HUMANA</td>\n",
       "      <td>774.750</td>\n",
       "      <td>NaN</td>\n",
       "      <td>NO ALCANZO VACANTE</td>\n",
       "      <td>2023II</td>\n",
       "      <td>NaN</td>\n",
       "      <td>LIMA</td>\n",
       "    </tr>\n",
       "    <tr>\n",
       "      <th>1</th>\n",
       "      <td>860373</td>\n",
       "      <td>ABAD NEYRA, ANDREA TAIS</td>\n",
       "      <td>MEDICINA HUMANA</td>\n",
       "      <td>299.000</td>\n",
       "      <td>NaN</td>\n",
       "      <td>NO ALCANZO VACANTE</td>\n",
       "      <td>2023II</td>\n",
       "      <td>NaN</td>\n",
       "      <td>LIMA</td>\n",
       "    </tr>\n",
       "    <tr>\n",
       "      <th>2</th>\n",
       "      <td>894207</td>\n",
       "      <td>ABAD ONCOY, MARIA BELÉN</td>\n",
       "      <td>MEDICINA HUMANA</td>\n",
       "      <td>441.750</td>\n",
       "      <td>NaN</td>\n",
       "      <td>NO ALCANZO VACANTE</td>\n",
       "      <td>2023II</td>\n",
       "      <td>NaN</td>\n",
       "      <td>LIMA</td>\n",
       "    </tr>\n",
       "    <tr>\n",
       "      <th>3</th>\n",
       "      <td>875677</td>\n",
       "      <td>ABAL PRINCIPE, INGRID</td>\n",
       "      <td>MEDICINA HUMANA</td>\n",
       "      <td>530.500</td>\n",
       "      <td>NaN</td>\n",
       "      <td>NO ALCANZO VACANTE</td>\n",
       "      <td>2023II</td>\n",
       "      <td>NaN</td>\n",
       "      <td>LIMA</td>\n",
       "    </tr>\n",
       "    <tr>\n",
       "      <th>4</th>\n",
       "      <td>855333</td>\n",
       "      <td>ABANTO ARAUJO, PERCY ANGEL</td>\n",
       "      <td>MEDICINA HUMANA</td>\n",
       "      <td>584.625</td>\n",
       "      <td>NaN</td>\n",
       "      <td>NO ALCANZO VACANTE</td>\n",
       "      <td>2023II</td>\n",
       "      <td>NaN</td>\n",
       "      <td>LIMA</td>\n",
       "    </tr>\n",
       "    <tr>\n",
       "      <th>...</th>\n",
       "      <td>...</td>\n",
       "      <td>...</td>\n",
       "      <td>...</td>\n",
       "      <td>...</td>\n",
       "      <td>...</td>\n",
       "      <td>...</td>\n",
       "      <td>...</td>\n",
       "      <td>...</td>\n",
       "      <td>...</td>\n",
       "    </tr>\n",
       "    <tr>\n",
       "      <th>75484</th>\n",
       "      <td>226718</td>\n",
       "      <td>VASQUEZ ROBLES, ANGEL GABRIEL</td>\n",
       "      <td>CIENCIAS DE LA COMPUTACIÓN</td>\n",
       "      <td>738.625</td>\n",
       "      <td>NaN</td>\n",
       "      <td>NO ALCANZO VACANTE</td>\n",
       "      <td>2024II</td>\n",
       "      <td>NaN</td>\n",
       "      <td>LIMA</td>\n",
       "    </tr>\n",
       "    <tr>\n",
       "      <th>75485</th>\n",
       "      <td>251637</td>\n",
       "      <td>VEGA LLANOS, WILLIAM OBER</td>\n",
       "      <td>CIENCIAS DE LA COMPUTACIÓN</td>\n",
       "      <td>573.000</td>\n",
       "      <td>NaN</td>\n",
       "      <td>NO ALCANZO VACANTE</td>\n",
       "      <td>2024II</td>\n",
       "      <td>NaN</td>\n",
       "      <td>LIMA</td>\n",
       "    </tr>\n",
       "    <tr>\n",
       "      <th>75487</th>\n",
       "      <td>297540</td>\n",
       "      <td>VILCAS OTAÃE, WILLIAMS JEFFREY</td>\n",
       "      <td>CIENCIAS DE LA COMPUTACIÓN</td>\n",
       "      <td>712.500</td>\n",
       "      <td>NaN</td>\n",
       "      <td>NO ALCANZO VACANTE</td>\n",
       "      <td>2024II</td>\n",
       "      <td>NaN</td>\n",
       "      <td>LIMA</td>\n",
       "    </tr>\n",
       "    <tr>\n",
       "      <th>75489</th>\n",
       "      <td>296074</td>\n",
       "      <td>YOLA MUCHCCO, JAIR SEBASTIAN</td>\n",
       "      <td>CIENCIAS DE LA COMPUTACIÓN</td>\n",
       "      <td>838.125</td>\n",
       "      <td>NaN</td>\n",
       "      <td>NO ALCANZO VACANTE</td>\n",
       "      <td>2024II</td>\n",
       "      <td>NaN</td>\n",
       "      <td>LIMA</td>\n",
       "    </tr>\n",
       "    <tr>\n",
       "      <th>75491</th>\n",
       "      <td>239418</td>\n",
       "      <td>ZAPATA MONTALVO, BENJAMIN JORGE</td>\n",
       "      <td>CIENCIAS DE LA COMPUTACIÓN</td>\n",
       "      <td>795.875</td>\n",
       "      <td>NaN</td>\n",
       "      <td>NO ALCANZO VACANTE</td>\n",
       "      <td>2024II</td>\n",
       "      <td>NaN</td>\n",
       "      <td>LIMA</td>\n",
       "    </tr>\n",
       "  </tbody>\n",
       "</table>\n",
       "<p>65989 rows × 9 columns</p>\n",
       "</div>"
      ],
      "text/plain": [
       "      student_id                        full_name                    career_1  \\\n",
       "0         855168         ABAD GRANDA, ANDRE FAHET             MEDICINA HUMANA   \n",
       "1         860373          ABAD NEYRA, ANDREA TAIS             MEDICINA HUMANA   \n",
       "2         894207          ABAD ONCOY, MARIA BELÉN             MEDICINA HUMANA   \n",
       "3         875677            ABAL PRINCIPE, INGRID             MEDICINA HUMANA   \n",
       "4         855333       ABANTO ARAUJO, PERCY ANGEL             MEDICINA HUMANA   \n",
       "...          ...                              ...                         ...   \n",
       "75484     226718    VASQUEZ ROBLES, ANGEL GABRIEL  CIENCIAS DE LA COMPUTACIÓN   \n",
       "75485     251637        VEGA LLANOS, WILLIAM OBER  CIENCIAS DE LA COMPUTACIÓN   \n",
       "75487     297540  VILCAS OTAÃE, WILLIAMS JEFFREY  CIENCIAS DE LA COMPUTACIÓN   \n",
       "75489     296074     YOLA MUCHCCO, JAIR SEBASTIAN  CIENCIAS DE LA COMPUTACIÓN   \n",
       "75491     239418  ZAPATA MONTALVO, BENJAMIN JORGE  CIENCIAS DE LA COMPUTACIÓN   \n",
       "\n",
       "         score  merit_order         observation periodo career_2 location  \n",
       "0      774.750          NaN  NO ALCANZO VACANTE  2023II      NaN     LIMA  \n",
       "1      299.000          NaN  NO ALCANZO VACANTE  2023II      NaN     LIMA  \n",
       "2      441.750          NaN  NO ALCANZO VACANTE  2023II      NaN     LIMA  \n",
       "3      530.500          NaN  NO ALCANZO VACANTE  2023II      NaN     LIMA  \n",
       "4      584.625          NaN  NO ALCANZO VACANTE  2023II      NaN     LIMA  \n",
       "...        ...          ...                 ...     ...      ...      ...  \n",
       "75484  738.625          NaN  NO ALCANZO VACANTE  2024II      NaN     LIMA  \n",
       "75485  573.000          NaN  NO ALCANZO VACANTE  2024II      NaN     LIMA  \n",
       "75487  712.500          NaN  NO ALCANZO VACANTE  2024II      NaN     LIMA  \n",
       "75489  838.125          NaN  NO ALCANZO VACANTE  2024II      NaN     LIMA  \n",
       "75491  795.875          NaN  NO ALCANZO VACANTE  2024II      NaN     LIMA  \n",
       "\n",
       "[65989 rows x 9 columns]"
      ]
     },
     "execution_count": 46,
     "metadata": {},
     "output_type": "execute_result"
    }
   ],
   "source": [
    "#filtramos el dataframe con los postulantes que no ingresaron\n",
    "sin_vacante = resultados_exam[(resultados_exam['observation'] == 'NO ALCANZO VACANTE')]\n",
    "sin_vacante"
   ]
  },
  {
   "cell_type": "code",
   "execution_count": 47,
   "metadata": {},
   "outputs": [
    {
     "data": {
      "text/html": [
       "<div>\n",
       "<style scoped>\n",
       "    .dataframe tbody tr th:only-of-type {\n",
       "        vertical-align: middle;\n",
       "    }\n",
       "\n",
       "    .dataframe tbody tr th {\n",
       "        vertical-align: top;\n",
       "    }\n",
       "\n",
       "    .dataframe thead th {\n",
       "        text-align: right;\n",
       "    }\n",
       "</style>\n",
       "<table border=\"1\" class=\"dataframe\">\n",
       "  <thead>\n",
       "    <tr style=\"text-align: right;\">\n",
       "      <th>periodo</th>\n",
       "      <th>observation</th>\n",
       "      <th>2023II</th>\n",
       "      <th>2024I</th>\n",
       "      <th>2024II</th>\n",
       "    </tr>\n",
       "  </thead>\n",
       "  <tbody>\n",
       "    <tr>\n",
       "      <th>0</th>\n",
       "      <td>NO ALCANZO VACANTE</td>\n",
       "      <td>20348</td>\n",
       "      <td>26403</td>\n",
       "      <td>19238</td>\n",
       "    </tr>\n",
       "  </tbody>\n",
       "</table>\n",
       "</div>"
      ],
      "text/plain": [
       "periodo         observation  2023II  2024I  2024II\n",
       "0        NO ALCANZO VACANTE   20348  26403   19238"
      ]
     },
     "execution_count": 47,
     "metadata": {},
     "output_type": "execute_result"
    }
   ],
   "source": [
    "observation = sin_vacante.pivot_table(index='observation', columns='periodo', values='student_id', aggfunc='count').sort_values(by = 'observation',ascending=False).reset_index()\n",
    "observation"
   ]
  },
  {
   "cell_type": "code",
   "execution_count": 48,
   "metadata": {},
   "outputs": [
    {
     "data": {
      "text/html": [
       "<div>\n",
       "<style scoped>\n",
       "    .dataframe tbody tr th:only-of-type {\n",
       "        vertical-align: middle;\n",
       "    }\n",
       "\n",
       "    .dataframe tbody tr th {\n",
       "        vertical-align: top;\n",
       "    }\n",
       "\n",
       "    .dataframe thead th {\n",
       "        text-align: right;\n",
       "    }\n",
       "</style>\n",
       "<table border=\"1\" class=\"dataframe\">\n",
       "  <thead>\n",
       "    <tr style=\"text-align: right;\">\n",
       "      <th></th>\n",
       "      <th>observation</th>\n",
       "      <th>periodo</th>\n",
       "      <th>cantidad</th>\n",
       "    </tr>\n",
       "  </thead>\n",
       "  <tbody>\n",
       "    <tr>\n",
       "      <th>0</th>\n",
       "      <td>NO ALCANZO VACANTE</td>\n",
       "      <td>2023II</td>\n",
       "      <td>20348</td>\n",
       "    </tr>\n",
       "    <tr>\n",
       "      <th>1</th>\n",
       "      <td>NO ALCANZO VACANTE</td>\n",
       "      <td>2024I</td>\n",
       "      <td>26403</td>\n",
       "    </tr>\n",
       "    <tr>\n",
       "      <th>2</th>\n",
       "      <td>NO ALCANZO VACANTE</td>\n",
       "      <td>2024II</td>\n",
       "      <td>19238</td>\n",
       "    </tr>\n",
       "  </tbody>\n",
       "</table>\n",
       "</div>"
      ],
      "text/plain": [
       "          observation periodo  cantidad\n",
       "0  NO ALCANZO VACANTE  2023II     20348\n",
       "1  NO ALCANZO VACANTE   2024I     26403\n",
       "2  NO ALCANZO VACANTE  2024II     19238"
      ]
     },
     "execution_count": 48,
     "metadata": {},
     "output_type": "execute_result"
    }
   ],
   "source": [
    "# Convertir a formato largo con melt\n",
    "df_melt = observation.melt(id_vars='observation', var_name='periodo', value_name='cantidad')\n",
    "df_melt"
   ]
  },
  {
   "cell_type": "code",
   "execution_count": 49,
   "metadata": {},
   "outputs": [
    {
     "data": {
      "text/plain": [
       "Text(0.5, 1.0, 'CANTIDAD DE POSTULANTES QUE NO ALCANZARON VACANTES POR PERIODO')"
      ]
     },
     "execution_count": 49,
     "metadata": {},
     "output_type": "execute_result"
    },
    {
     "data": {
      "image/png": "[encoded data removed]",
      "text/plain": [
       "<Figure size 640x480 with 1 Axes>"
      ]
     },
     "metadata": {},
     "output_type": "display_data"
    }
   ],
   "source": [
    "labels = ['NO ALCANZO VACANTE']\n",
    "sns.lineplot(x='periodo', y='cantidad', data=df_melt)\n",
    "plt.legend(labels=labels)\n",
    "plt.title('CANTIDAD DE POSTULANTES QUE NO ALCANZARON VACANTES POR PERIODO')"
   ]
  },
  {
   "cell_type": "code",
   "execution_count": 50,
   "metadata": {},
   "outputs": [],
   "source": [
    "def wo_vacant(career):\n",
    "    \n",
    "    sin_vacante_filtered = sin_vacante[sin_vacante['career_1'] == career]\n",
    "\n",
    "    if not sin_vacante_filtered.empty:\n",
    "     wo_lineplot = sin_vacante_filtered.pivot_table(index = 'career_1', columns='periodo', values='student_id', aggfunc='count').reset_index()\n",
    "\n",
    "     career_wo_vacant_melt = wo_lineplot.melt(id_vars= 'career_1', var_name='periodo', value_name='cantidad')\n",
    "     sns.lineplot(x='periodo', y='cantidad', data=career_wo_vacant_melt, marker = 'o')\n",
    "     plt.title(f'CANTIDAD DE POSTULANTES QUE NO ALCANZARON VACANTE DE {career}')\n",
    "     for i in range(career_wo_vacant_melt.shape[0]):\n",
    "        plt.text(career_wo_vacant_melt['periodo'][i], career_wo_vacant_melt['cantidad'][i], str(career_wo_vacant_melt['cantidad'][i]), \n",
    "             ha='center', va='bottom')\n",
    "\n",
    "    else:\n",
    "        print(f'No se encontraron datos para la carrera de {career}')\n",
    "    \n",
    "    return career_wo_vacant_melt\n"
   ]
  },
  {
   "cell_type": "code",
   "execution_count": 51,
   "metadata": {},
   "outputs": [
    {
     "data": {
      "text/html": [
       "<div>\n",
       "<style scoped>\n",
       "    .dataframe tbody tr th:only-of-type {\n",
       "        vertical-align: middle;\n",
       "    }\n",
       "\n",
       "    .dataframe tbody tr th {\n",
       "        vertical-align: top;\n",
       "    }\n",
       "\n",
       "    .dataframe thead th {\n",
       "        text-align: right;\n",
       "    }\n",
       "</style>\n",
       "<table border=\"1\" class=\"dataframe\">\n",
       "  <thead>\n",
       "    <tr style=\"text-align: right;\">\n",
       "      <th></th>\n",
       "      <th>career_1</th>\n",
       "      <th>periodo</th>\n",
       "      <th>cantidad</th>\n",
       "    </tr>\n",
       "  </thead>\n",
       "  <tbody>\n",
       "    <tr>\n",
       "      <th>0</th>\n",
       "      <td>INGENIERÍA DE SOFTWARE</td>\n",
       "      <td>2023II</td>\n",
       "      <td>624</td>\n",
       "    </tr>\n",
       "    <tr>\n",
       "      <th>1</th>\n",
       "      <td>INGENIERÍA DE SOFTWARE</td>\n",
       "      <td>2024I</td>\n",
       "      <td>794</td>\n",
       "    </tr>\n",
       "    <tr>\n",
       "      <th>2</th>\n",
       "      <td>INGENIERÍA DE SOFTWARE</td>\n",
       "      <td>2024II</td>\n",
       "      <td>536</td>\n",
       "    </tr>\n",
       "  </tbody>\n",
       "</table>\n",
       "</div>"
      ],
      "text/plain": [
       "                 career_1 periodo  cantidad\n",
       "0  INGENIERÍA DE SOFTWARE  2023II       624\n",
       "1  INGENIERÍA DE SOFTWARE   2024I       794\n",
       "2  INGENIERÍA DE SOFTWARE  2024II       536"
      ]
     },
     "execution_count": 51,
     "metadata": {},
     "output_type": "execute_result"
    },
    {
     "data": {
      "image/png": "[encoded data removed]",
      "text/plain": [
       "<Figure size 640x480 with 1 Axes>"
      ]
     },
     "metadata": {},
     "output_type": "display_data"
    }
   ],
   "source": [
    "wo_vacant('INGENIERÍA DE SOFTWARE')"
   ]
  },
  {
   "cell_type": "code",
   "execution_count": 52,
   "metadata": {},
   "outputs": [
    {
     "data": {
      "text/html": [
       "<div>\n",
       "<style scoped>\n",
       "    .dataframe tbody tr th:only-of-type {\n",
       "        vertical-align: middle;\n",
       "    }\n",
       "\n",
       "    .dataframe tbody tr th {\n",
       "        vertical-align: top;\n",
       "    }\n",
       "\n",
       "    .dataframe thead th {\n",
       "        text-align: right;\n",
       "    }\n",
       "</style>\n",
       "<table border=\"1\" class=\"dataframe\">\n",
       "  <thead>\n",
       "    <tr style=\"text-align: right;\">\n",
       "      <th></th>\n",
       "      <th>student_id</th>\n",
       "      <th>full_name</th>\n",
       "      <th>career_1</th>\n",
       "      <th>score</th>\n",
       "      <th>merit_order</th>\n",
       "      <th>observation</th>\n",
       "      <th>periodo</th>\n",
       "      <th>career_2</th>\n",
       "      <th>location</th>\n",
       "    </tr>\n",
       "  </thead>\n",
       "  <tbody>\n",
       "    <tr>\n",
       "      <th>0</th>\n",
       "      <td>855168</td>\n",
       "      <td>ABAD GRANDA, ANDRE FAHET</td>\n",
       "      <td>MEDICINA HUMANA</td>\n",
       "      <td>774.750</td>\n",
       "      <td>NaN</td>\n",
       "      <td>NO ALCANZO VACANTE</td>\n",
       "      <td>2023II</td>\n",
       "      <td>NaN</td>\n",
       "      <td>LIMA</td>\n",
       "    </tr>\n",
       "    <tr>\n",
       "      <th>1</th>\n",
       "      <td>860373</td>\n",
       "      <td>ABAD NEYRA, ANDREA TAIS</td>\n",
       "      <td>MEDICINA HUMANA</td>\n",
       "      <td>299.000</td>\n",
       "      <td>NaN</td>\n",
       "      <td>NO ALCANZO VACANTE</td>\n",
       "      <td>2023II</td>\n",
       "      <td>NaN</td>\n",
       "      <td>LIMA</td>\n",
       "    </tr>\n",
       "    <tr>\n",
       "      <th>2</th>\n",
       "      <td>894207</td>\n",
       "      <td>ABAD ONCOY, MARIA BELÉN</td>\n",
       "      <td>MEDICINA HUMANA</td>\n",
       "      <td>441.750</td>\n",
       "      <td>NaN</td>\n",
       "      <td>NO ALCANZO VACANTE</td>\n",
       "      <td>2023II</td>\n",
       "      <td>NaN</td>\n",
       "      <td>LIMA</td>\n",
       "    </tr>\n",
       "    <tr>\n",
       "      <th>3</th>\n",
       "      <td>875677</td>\n",
       "      <td>ABAL PRINCIPE, INGRID</td>\n",
       "      <td>MEDICINA HUMANA</td>\n",
       "      <td>530.500</td>\n",
       "      <td>NaN</td>\n",
       "      <td>NO ALCANZO VACANTE</td>\n",
       "      <td>2023II</td>\n",
       "      <td>NaN</td>\n",
       "      <td>LIMA</td>\n",
       "    </tr>\n",
       "    <tr>\n",
       "      <th>4</th>\n",
       "      <td>855333</td>\n",
       "      <td>ABANTO ARAUJO, PERCY ANGEL</td>\n",
       "      <td>MEDICINA HUMANA</td>\n",
       "      <td>584.625</td>\n",
       "      <td>NaN</td>\n",
       "      <td>NO ALCANZO VACANTE</td>\n",
       "      <td>2023II</td>\n",
       "      <td>NaN</td>\n",
       "      <td>LIMA</td>\n",
       "    </tr>\n",
       "  </tbody>\n",
       "</table>\n",
       "</div>"
      ],
      "text/plain": [
       "  student_id                   full_name         career_1    score  \\\n",
       "0     855168    ABAD GRANDA, ANDRE FAHET  MEDICINA HUMANA  774.750   \n",
       "1     860373     ABAD NEYRA, ANDREA TAIS  MEDICINA HUMANA  299.000   \n",
       "2     894207     ABAD ONCOY, MARIA BELÉN  MEDICINA HUMANA  441.750   \n",
       "3     875677       ABAL PRINCIPE, INGRID  MEDICINA HUMANA  530.500   \n",
       "4     855333  ABANTO ARAUJO, PERCY ANGEL  MEDICINA HUMANA  584.625   \n",
       "\n",
       "   merit_order         observation periodo career_2 location  \n",
       "0          NaN  NO ALCANZO VACANTE  2023II      NaN     LIMA  \n",
       "1          NaN  NO ALCANZO VACANTE  2023II      NaN     LIMA  \n",
       "2          NaN  NO ALCANZO VACANTE  2023II      NaN     LIMA  \n",
       "3          NaN  NO ALCANZO VACANTE  2023II      NaN     LIMA  \n",
       "4          NaN  NO ALCANZO VACANTE  2023II      NaN     LIMA  "
      ]
     },
     "execution_count": 52,
     "metadata": {},
     "output_type": "execute_result"
    }
   ],
   "source": [
    "resultados_exam.head()"
   ]
  },
  {
   "cell_type": "code",
   "execution_count": 53,
   "metadata": {},
   "outputs": [
    {
     "name": "stdout",
     "output_type": "stream",
     "text": [
      "<class 'pandas.core.frame.DataFrame'>\n",
      "RangeIndex: 75492 entries, 0 to 75491\n",
      "Data columns (total 9 columns):\n",
      " #   Column       Non-Null Count  Dtype  \n",
      "---  ------       --------------  -----  \n",
      " 0   student_id   75492 non-null  object \n",
      " 1   full_name    75492 non-null  object \n",
      " 2   career_1     75492 non-null  object \n",
      " 3   score        74494 non-null  float64\n",
      " 4   merit_order  8505 non-null   float64\n",
      " 5   observation  75492 non-null  object \n",
      " 6   periodo      75492 non-null  object \n",
      " 7   career_2     815 non-null    object \n",
      " 8   location     75492 non-null  object \n",
      "dtypes: float64(2), object(7)\n",
      "memory usage: 5.2+ MB\n"
     ]
    }
   ],
   "source": [
    "resultados_exam.info()"
   ]
  },
  {
   "cell_type": "code",
   "execution_count": 54,
   "metadata": {},
   "outputs": [],
   "source": [
    "areas_examen = [\n",
    "    {'area_code': 'A', 'career_1': 'MEDICINA HUMANA'},\n",
    "    {'area_code': 'A', 'career_1': 'OBSTETRICIA'},\n",
    "    {'area_code': 'A', 'career_1': 'ENFERMERÍA'},\n",
    "    {'area_code': 'A', 'career_1': 'TECNOLOGÍA MÉDICA'},\n",
    "    {'area_code': 'A', 'career_1': 'LABORATORIO CLÍNICO Y ANATOMÍA PATOLÓGICA'},\n",
    "    {'area_code': 'A', 'career_1': 'TERAPIA FÍSICA Y REHABILITACIÓN'},\n",
    "    {'area_code': 'A', 'career_1': 'RADIOLOGÍA'},\n",
    "    {'area_code': 'A', 'career_1': 'TERAPIA OCUPACIONAL'},\n",
    "    {'area_code': 'A', 'career_1': 'NUTRICIÓN'},\n",
    "    {'area_code': 'A', 'career_1': 'FARMACIA Y BIOQUÍMICA'},\n",
    "    {'area_code': 'A', 'career_1': 'CIENCIAS DE LOS ALIMENTOS'},\n",
    "    {'area_code': 'A', 'career_1': 'TOXICOLOGÍA'},\n",
    "    {'area_code': 'A', 'career_1': 'ODONTOLOGÍA'},\n",
    "    {'area_code': 'A', 'career_1': 'MEDICINA VETERINARIA'},\n",
    "    {'area_code': 'A', 'career_1': 'PSICOLOGÍA'},\n",
    "    {'area_code': 'A', 'career_1': 'PSICOLOGÍA ORGANIZACIONAL Y DE LA GESTIÓN HUMANA'},\n",
    "    {'area_code': 'B', 'career_1': 'QUÍMICA'},\n",
    "    {'area_code': 'B', 'career_1': 'CIENCIAS BIOLÓGICAS'},\n",
    "    {'area_code': 'B', 'career_1': 'GENÉTICA Y BIOTECNOLOGÍA'},\n",
    "    {'area_code': 'B', 'career_1': 'MICROBIOLOGÍA Y PARASITOLOGÍA'},\n",
    "    {'area_code': 'B', 'career_1': 'FÍSICA'},\n",
    "    {'area_code': 'B', 'career_1': 'MATEMÁTICA'},\n",
    "    {'area_code': 'B', 'career_1': 'ESTADÍSTICA'},\n",
    "    {'area_code': 'B', 'career_1': 'INVESTIGACIÓN OPERATIVA'},\n",
    "    {'area_code': 'B', 'career_1': 'COMPUTACIÓN CIENTÍFICA'},\n",
    "    {'area_code': 'C', 'career_1': 'INGENIERÍA QUÍMICA'},\n",
    "    {'area_code': 'C', 'career_1': 'INGENIERÍA AGROINDUSTRIAL'},\n",
    "    {'area_code': 'C', 'career_1': 'INGENIERÍA MECÁNICA DE FLUIDOS'},\n",
    "    {'area_code': 'C', 'career_1': 'INGENIERÍA GEOLÓGICA'},\n",
    "    {'area_code': 'C', 'career_1': 'INGENIERÍA GEOGRÁFICA'},\n",
    "    {'area_code': 'C', 'career_1': 'INGENIERÍA DE MINAS'},\n",
    "    {'area_code': 'C', 'career_1': 'INGENIERÍA METALÚRGICA'},\n",
    "    {'area_code': 'C', 'career_1': 'INGENIERÍA CIVIL'},\n",
    "    {'area_code': 'C', 'career_1': 'INGENIERÍA AMBIENTAL'},\n",
    "    {'area_code': 'C', 'career_1': 'INGENIERÍA INDUSTRIAL'},\n",
    "    {'area_code': 'C', 'career_1': 'INGENIERÍA TEXTIL Y CONFECCIONES'},\n",
    "    {'area_code': 'C', 'career_1': 'INGENIERÍA DE SEGURIDAD Y SALUD EN EL TRABAJO'},\n",
    "    {'area_code': 'C', 'career_1': 'INGENIERÍA ELECTRÓNICA'},\n",
    "    {'area_code': 'C', 'career_1': 'INGENIERÍA ELÉCTRICA'},\n",
    "    {'area_code': 'C', 'career_1': 'INGENIERÍA DE TELECOMUNICACIONES'},\n",
    "    {'area_code': 'C', 'career_1': 'INGENIERÍA DE SISTEMAS'},\n",
    "    {'area_code': 'C', 'career_1': 'INGENIERÍA DE SOFTWARE'},\n",
    "    {'area_code': 'E', 'career_1': 'DERECHO'},\n",
    "    {'area_code': 'E', 'career_1': 'CIENCIA POLÍTICA'},\n",
    "    {'area_code': 'E', 'career_1': 'LITERATURA'},\n",
    "    {'area_code': 'E', 'career_1': 'FILOSOFÍA'},\n",
    "    {'area_code': 'E', 'career_1': 'LINGÜÍSTICA'},\n",
    "    {'area_code': 'E', 'career_1': 'COMUNICACIÓN SOCIAL'},\n",
    "    {'area_code': 'E', 'career_1': 'ARTE'},\n",
    "    {'area_code': 'E', 'career_1': 'BIBLIOTECOLOGÍA Y CIENCIAS DE LA INFORMACIÓN'},\n",
    "    {'area_code': 'E', 'career_1': 'DANZA'},\n",
    "    {'area_code': 'E', 'career_1': 'CONSERVACIÓN Y RESTAURACIÓN'},\n",
    "    {'area_code': 'E', 'career_1': 'EDUCACIÓN'},\n",
    "    {'area_code': 'E', 'career_1': 'EDUCACIÓN INICIAL'},\n",
    "    {'area_code': 'E', 'career_1': 'EDUCACIÓN PRIMARIA'},\n",
    "    {'area_code': 'E', 'career_1': 'EDUCACIÓN SECUNDARIA'},\n",
    "    {'area_code': 'E', 'career_1': 'EDUCACIÓN FÍSICA'},\n",
    "    {'area_code': 'E', 'career_1': 'HISTORIA'},\n",
    "    {'area_code': 'E', 'career_1': 'SOCIOLOGÍA'},\n",
    "    {'area_code': 'E', 'career_1': 'ANTROPOLOGÍA'},\n",
    "    {'area_code': 'E', 'career_1': 'ARQUEOLOGÍA'},\n",
    "    {'area_code': 'E', 'career_1': 'TRABAJO SOCIAL'},\n",
    "    {'area_code': 'E', 'career_1': 'GEOGRAFÍA'},\n",
    "    {'area_code': 'D', 'career_1': 'ADMINISTRACIÓN'},\n",
    "    {'area_code': 'D', 'career_1': 'ADMINISTRACIÓN DE TURISMO'},\n",
    "    {'area_code': 'D', 'career_1': 'ADMINISTRACIÓN DE NEGOCIOS INTERNACIONALES'},\n",
    "    {'area_code': 'D', 'career_1': 'CONTABILIDAD'},\n",
    "    {'area_code': 'D', 'career_1': 'GESTIÓN TRIBUTARIA'},\n",
    "    {'area_code': 'D', 'career_1': 'AUDITORÍA EMPRESARIAL Y DEL SECTOR PÚBLICO'},\n",
    "    {'area_code': 'D', 'career_1': 'ECONOMÍA'},\n",
    "    {'area_code': 'D', 'career_1': 'ECONOMÍA PÚBLICA'},\n",
    "    {'area_code': 'D', 'career_1': 'ECONOMÍA INTERNACIONAL'},\n",
    "    {'area_code': 'A', 'career_1': 'TEC. MED. LAB. CLÍNICO Y ANATOMÍA PATOLÓGICA'},\n",
    "    {'area_code': 'A', 'career_1': 'TEC. MED. TERAPIA FÍSICA Y REHABILITACIÓN'},\n",
    "    {'area_code': 'A', 'career_1': 'TEC. MED. RADIOLOGÍA'},\n",
    "    {'area_code': 'A', 'career_1': 'TEC. MED. TERAPIA OCUPACIONAL'},\n",
    "    {'area_code': 'A', 'career_1': 'NUTRICION'},\n",
    "    {'area_code': 'E', 'career_1': 'LINGUÍSTICA'},\n",
    "    {'area_code': 'D', 'career_1': 'PRESUPUESTO Y FINANZAS PÚBLICAS'},\n",
    "    {'area_code': 'C', 'career_1': 'INGENIERÍA BIOMÉDICA'},\n",
    "    {'area_code': 'B', 'career_1': 'CIENCIA DE LA COMPUTACIÓN'},\n",
    "    {'area_code': 'E', 'career_1': 'LENGUAS, TRADUCCIÓN E INTERPRETACIÓN'},\n",
    "    {'area_code': 'D', 'career_1': 'ADMINISTRACIÓN DE LA GASTRONOMÍA'},\n",
    "    {'area_code': 'D', 'career_1': 'ADMINISTRACIÓN MARÍTIMA Y PORTUARIA'},\n",
    "    {'area_code': 'D', 'career_1': 'MARKETING'},\n",
    "    {'area_code':'C', 'career_1':'ARQUITECTURA Y URBANISMO'}\n",
    "\n",
    "]\n",
    "\n",
    "df_areas = pd.DataFrame(areas_examen)\n",
    "df_areas.to_csv('areas_sanmarcos', index = False)"
   ]
  },
  {
   "cell_type": "code",
   "execution_count": 55,
   "metadata": {},
   "outputs": [
    {
     "data": {
      "text/plain": [
       "array(['MEDICINA HUMANA', 'OBSTETRICIA', 'ENFERMERÍA',\n",
       "       'TECNOLOGÍA MÉDICA', 'LABORATORIO CLÍNICO Y ANATOMÍA PATOLÓGICA',\n",
       "       'TERAPIA FÍSICA Y REHABILITACIÓN', 'RADIOLOGÍA',\n",
       "       'TERAPIA OCUPACIONAL', 'NUTRICIÓN', 'FARMACIA Y BIOQUÍMICA',\n",
       "       'CIENCIAS DE LOS ALIMENTOS', 'TOXICOLOGÍA', 'ODONTOLOGÍA',\n",
       "       'MEDICINA VETERINARIA', 'PSICOLOGÍA',\n",
       "       'PSICOLOGÍA ORGANIZACIONAL Y DE LA GESTIÓN HUMANA', 'QUÍMICA',\n",
       "       'CIENCIAS BIOLÓGICAS', 'GENÉTICA Y BIOTECNOLOGÍA',\n",
       "       'MICROBIOLOGÍA Y PARASITOLOGÍA', 'FÍSICA', 'MATEMÁTICA',\n",
       "       'ESTADÍSTICA', 'INVESTIGACIÓN OPERATIVA', 'COMPUTACIÓN CIENTÍFICA',\n",
       "       'INGENIERÍA QUÍMICA', 'INGENIERÍA AGROINDUSTRIAL',\n",
       "       'INGENIERÍA MECÁNICA DE FLUIDOS', 'INGENIERÍA GEOLÓGICA',\n",
       "       'INGENIERÍA GEOGRÁFICA', 'INGENIERÍA DE MINAS',\n",
       "       'INGENIERÍA METALÚRGICA', 'INGENIERÍA CIVIL',\n",
       "       'INGENIERÍA AMBIENTAL', 'INGENIERÍA INDUSTRIAL',\n",
       "       'INGENIERÍA TEXTIL Y CONFECCIONES',\n",
       "       'INGENIERÍA DE SEGURIDAD Y SALUD EN EL TRABAJO',\n",
       "       'INGENIERÍA ELECTRÓNICA', 'INGENIERÍA ELÉCTRICA',\n",
       "       'INGENIERÍA DE TELECOMUNICACIONES', 'INGENIERÍA DE SISTEMAS',\n",
       "       'INGENIERÍA DE SOFTWARE', 'DERECHO', 'CIENCIA POLÍTICA',\n",
       "       'LITERATURA', 'FILOSOFÍA', 'LINGÜÍSTICA', 'COMUNICACIÓN SOCIAL',\n",
       "       'ARTE', 'BIBLIOTECOLOGÍA Y CIENCIAS DE LA INFORMACIÓN', 'DANZA',\n",
       "       'CONSERVACIÓN Y RESTAURACIÓN', 'EDUCACIÓN', 'EDUCACIÓN INICIAL',\n",
       "       'EDUCACIÓN PRIMARIA', 'EDUCACIÓN SECUNDARIA', 'EDUCACIÓN FÍSICA',\n",
       "       'HISTORIA', 'SOCIOLOGÍA', 'ANTROPOLOGÍA', 'ARQUEOLOGÍA',\n",
       "       'TRABAJO SOCIAL', 'GEOGRAFÍA', 'ADMINISTRACIÓN',\n",
       "       'ADMINISTRACIÓN DE TURISMO',\n",
       "       'ADMINISTRACIÓN DE NEGOCIOS INTERNACIONALES', 'CONTABILIDAD',\n",
       "       'GESTIÓN TRIBUTARIA', 'AUDITORÍA EMPRESARIAL Y DEL SECTOR PÚBLICO',\n",
       "       'ECONOMÍA', 'ECONOMÍA PÚBLICA', 'ECONOMÍA INTERNACIONAL',\n",
       "       'TEC. MED. LAB. CLÍNICO Y ANATOMÍA PATOLÓGICA',\n",
       "       'TEC. MED. TERAPIA FÍSICA Y REHABILITACIÓN',\n",
       "       'TEC. MED. RADIOLOGÍA', 'TEC. MED. TERAPIA OCUPACIONAL',\n",
       "       'NUTRICION', 'LINGUÍSTICA', 'PRESUPUESTO Y FINANZAS PÚBLICAS',\n",
       "       'INGENIERÍA BIOMÉDICA', 'CIENCIA DE LA COMPUTACIÓN',\n",
       "       'LENGUAS, TRADUCCIÓN E INTERPRETACIÓN',\n",
       "       'ADMINISTRACIÓN DE LA GASTRONOMÍA',\n",
       "       'ADMINISTRACIÓN MARÍTIMA Y PORTUARIA', 'MARKETING',\n",
       "       'ARQUITECTURA Y URBANISMO'], dtype=object)"
      ]
     },
     "execution_count": 55,
     "metadata": {},
     "output_type": "execute_result"
    }
   ],
   "source": [
    "uniques = df_areas['career_1'].unique()\n",
    "uniques"
   ]
  },
  {
   "cell_type": "code",
   "execution_count": null,
   "metadata": {},
   "outputs": [],
   "source": []
  },
  {
   "cell_type": "code",
   "execution_count": null,
   "metadata": {},
   "outputs": [],
   "source": []
  },
  {
   "cell_type": "code",
   "execution_count": null,
   "metadata": {},
   "outputs": [],
   "source": []
  },
  {
   "cell_type": "code",
   "execution_count": 56,
   "metadata": {},
   "outputs": [],
   "source": [
    "#separamos las ciudades de las carreras para un mejor analisis\n",
    "#resultados_exam['location_2'] = resultados_exam['career_2'].str.extract(r' - (.+)')  # Extraer 'LIMA'\n",
    "#resultados_exam['career_2'] = resultados_exam['career_2'].str.replace(r' - .+', '', regex=True)  # Remover '- LIMA' de 'career_1'"
   ]
  },
  {
   "cell_type": "code",
   "execution_count": 57,
   "metadata": {},
   "outputs": [],
   "source": [
    "def segunda_carrera(carrera, periodo):\n",
    "    \n",
    "    segunda_opcion = resultados_exam[(resultados_exam['career_1'] == carrera) & (resultados_exam['periodo'] == periodo) & (resultados_exam['observation'] == 'ALCANZO VACANTE SEGUNDA OPCIÓN') ]  \n",
    "\n",
    "    if not segunda_opcion.empty:\n",
    "     heat_segundaopcion = segunda_opcion.pivot_table(index='career_2', columns='career_1', values = 'student_id', aggfunc='count').reset_index().sort_values(by = carrera, ascending = False)\n",
    "     heat_segundaopcion\n",
    "\n",
    "     plt.figure(figsize=(10,6))\n",
    "     sns.barplot(x = 'career_2', y = carrera, data=heat_segundaopcion )\n",
    "     plt.xticks(rotation = 90)\n",
    "     plt.title(f'CANTIDAD DE ALUMNOS QUE ESCOGEN OTRA CARRERA COMO SEGUNDA OPCION DE LA CARRERA DE {carrera}')\n",
    "\n",
    "    else:\n",
    "        print(f'No se encontraron datos para la carrera de {carrera}')\n",
    "    \n",
    "    return heat_segundaopcion\n"
   ]
  },
  {
   "cell_type": "code",
   "execution_count": 58,
   "metadata": {},
   "outputs": [
    {
     "data": {
      "text/html": [
       "<div>\n",
       "<style scoped>\n",
       "    .dataframe tbody tr th:only-of-type {\n",
       "        vertical-align: middle;\n",
       "    }\n",
       "\n",
       "    .dataframe tbody tr th {\n",
       "        vertical-align: top;\n",
       "    }\n",
       "\n",
       "    .dataframe thead th {\n",
       "        text-align: right;\n",
       "    }\n",
       "</style>\n",
       "<table border=\"1\" class=\"dataframe\">\n",
       "  <thead>\n",
       "    <tr style=\"text-align: right;\">\n",
       "      <th>career_1</th>\n",
       "      <th>career_2</th>\n",
       "      <th>MEDICINA HUMANA</th>\n",
       "    </tr>\n",
       "  </thead>\n",
       "  <tbody>\n",
       "    <tr>\n",
       "      <th>5</th>\n",
       "      <td>TEC. MED. RADIOLOGÍA</td>\n",
       "      <td>16</td>\n",
       "    </tr>\n",
       "    <tr>\n",
       "      <th>1</th>\n",
       "      <td>OBSTETRICIA</td>\n",
       "      <td>15</td>\n",
       "    </tr>\n",
       "    <tr>\n",
       "      <th>7</th>\n",
       "      <td>TEC. MED. TERAPIA OCUPACIONAL</td>\n",
       "      <td>10</td>\n",
       "    </tr>\n",
       "    <tr>\n",
       "      <th>6</th>\n",
       "      <td>TEC. MED. TERAPIA FÍSICA Y REHABILITACIÓN</td>\n",
       "      <td>9</td>\n",
       "    </tr>\n",
       "    <tr>\n",
       "      <th>8</th>\n",
       "      <td>TOXICOLOGÍA</td>\n",
       "      <td>8</td>\n",
       "    </tr>\n",
       "    <tr>\n",
       "      <th>0</th>\n",
       "      <td>CIENCIAS DE LOS ALIMENTOS</td>\n",
       "      <td>6</td>\n",
       "    </tr>\n",
       "    <tr>\n",
       "      <th>3</th>\n",
       "      <td>PSICOLOGÍA - HUARMEY</td>\n",
       "      <td>2</td>\n",
       "    </tr>\n",
       "    <tr>\n",
       "      <th>4</th>\n",
       "      <td>PSICOLOGÍA - VILLA RICA</td>\n",
       "      <td>1</td>\n",
       "    </tr>\n",
       "    <tr>\n",
       "      <th>2</th>\n",
       "      <td>PSICOLOGÍA - CHILCA</td>\n",
       "      <td>1</td>\n",
       "    </tr>\n",
       "  </tbody>\n",
       "</table>\n",
       "</div>"
      ],
      "text/plain": [
       "career_1                                   career_2  MEDICINA HUMANA\n",
       "5                              TEC. MED. RADIOLOGÍA               16\n",
       "1                                       OBSTETRICIA               15\n",
       "7                     TEC. MED. TERAPIA OCUPACIONAL               10\n",
       "6         TEC. MED. TERAPIA FÍSICA Y REHABILITACIÓN                9\n",
       "8                                       TOXICOLOGÍA                8\n",
       "0                         CIENCIAS DE LOS ALIMENTOS                6\n",
       "3                              PSICOLOGÍA - HUARMEY                2\n",
       "4                           PSICOLOGÍA - VILLA RICA                1\n",
       "2                               PSICOLOGÍA - CHILCA                1"
      ]
     },
     "execution_count": 58,
     "metadata": {},
     "output_type": "execute_result"
    },
    {
     "data": {
      "image/png": "[encoded data removed]",
      "text/plain": [
       "<Figure size 1000x600 with 1 Axes>"
      ]
     },
     "metadata": {},
     "output_type": "display_data"
    }
   ],
   "source": [
    "segunda_carrera('MEDICINA HUMANA', '2024II')"
   ]
  },
  {
   "cell_type": "code",
   "execution_count": 59,
   "metadata": {},
   "outputs": [
    {
     "data": {
      "text/html": [
       "<div>\n",
       "<style scoped>\n",
       "    .dataframe tbody tr th:only-of-type {\n",
       "        vertical-align: middle;\n",
       "    }\n",
       "\n",
       "    .dataframe tbody tr th {\n",
       "        vertical-align: top;\n",
       "    }\n",
       "\n",
       "    .dataframe thead th {\n",
       "        text-align: right;\n",
       "    }\n",
       "</style>\n",
       "<table border=\"1\" class=\"dataframe\">\n",
       "  <thead>\n",
       "    <tr style=\"text-align: right;\">\n",
       "      <th>career_1</th>\n",
       "      <th>career_2</th>\n",
       "      <th>ADMINISTRACIÓN</th>\n",
       "      <th>ADMINISTRACIÓN DE NEGOCIOS INTERNACIONALES</th>\n",
       "      <th>ADMINISTRACIÓN MARÍTIMA Y PORTUARIA</th>\n",
       "      <th>CIENCIA POLÍTICA</th>\n",
       "      <th>CIENCIAS DE LA COMPUTACIÓN</th>\n",
       "      <th>COMUNICACIÓN SOCIAL</th>\n",
       "      <th>CONTABILIDAD</th>\n",
       "      <th>DERECHO</th>\n",
       "      <th>ECONOMÍA</th>\n",
       "      <th>...</th>\n",
       "      <th>INGENIERÍA ELECTRÓNICA</th>\n",
       "      <th>INGENIERÍA GEOLÓGICA</th>\n",
       "      <th>INGENIERÍA INDUSTRIAL</th>\n",
       "      <th>LENGUAS, TRADUCCIÓN E INTERPRETACIÓN</th>\n",
       "      <th>LITERATURA</th>\n",
       "      <th>MARKETING</th>\n",
       "      <th>MEDICINA HUMANA</th>\n",
       "      <th>MEDICINA VETERINARIA</th>\n",
       "      <th>ODONTOLOGÍA</th>\n",
       "      <th>PSICOLOGÍA</th>\n",
       "    </tr>\n",
       "  </thead>\n",
       "  <tbody>\n",
       "    <tr>\n",
       "      <th>0</th>\n",
       "      <td>ADMINISTRACIÓN - HUARAL</td>\n",
       "      <td>0.0</td>\n",
       "      <td>0.0</td>\n",
       "      <td>0.0</td>\n",
       "      <td>0.0</td>\n",
       "      <td>0.0</td>\n",
       "      <td>0.0</td>\n",
       "      <td>0.0</td>\n",
       "      <td>0.0</td>\n",
       "      <td>1.0</td>\n",
       "      <td>...</td>\n",
       "      <td>0.0</td>\n",
       "      <td>0.0</td>\n",
       "      <td>0.0</td>\n",
       "      <td>0.0</td>\n",
       "      <td>0.0</td>\n",
       "      <td>0.0</td>\n",
       "      <td>0.0</td>\n",
       "      <td>0.0</td>\n",
       "      <td>0.0</td>\n",
       "      <td>0.0</td>\n",
       "    </tr>\n",
       "    <tr>\n",
       "      <th>1</th>\n",
       "      <td>ADMINISTRACIÓN - S.J.L</td>\n",
       "      <td>8.0</td>\n",
       "      <td>0.0</td>\n",
       "      <td>0.0</td>\n",
       "      <td>0.0</td>\n",
       "      <td>0.0</td>\n",
       "      <td>0.0</td>\n",
       "      <td>0.0</td>\n",
       "      <td>0.0</td>\n",
       "      <td>2.0</td>\n",
       "      <td>...</td>\n",
       "      <td>0.0</td>\n",
       "      <td>0.0</td>\n",
       "      <td>0.0</td>\n",
       "      <td>0.0</td>\n",
       "      <td>0.0</td>\n",
       "      <td>0.0</td>\n",
       "      <td>0.0</td>\n",
       "      <td>0.0</td>\n",
       "      <td>0.0</td>\n",
       "      <td>0.0</td>\n",
       "    </tr>\n",
       "    <tr>\n",
       "      <th>2</th>\n",
       "      <td>ADMINISTRACIÓN DE LA GASTRONOMÍA</td>\n",
       "      <td>2.0</td>\n",
       "      <td>4.0</td>\n",
       "      <td>0.0</td>\n",
       "      <td>0.0</td>\n",
       "      <td>0.0</td>\n",
       "      <td>0.0</td>\n",
       "      <td>0.0</td>\n",
       "      <td>0.0</td>\n",
       "      <td>1.0</td>\n",
       "      <td>...</td>\n",
       "      <td>0.0</td>\n",
       "      <td>0.0</td>\n",
       "      <td>0.0</td>\n",
       "      <td>0.0</td>\n",
       "      <td>0.0</td>\n",
       "      <td>0.0</td>\n",
       "      <td>0.0</td>\n",
       "      <td>0.0</td>\n",
       "      <td>0.0</td>\n",
       "      <td>0.0</td>\n",
       "    </tr>\n",
       "    <tr>\n",
       "      <th>3</th>\n",
       "      <td>ADMINISTRACIÓN DE TURISMO - LIMA</td>\n",
       "      <td>4.0</td>\n",
       "      <td>18.0</td>\n",
       "      <td>0.0</td>\n",
       "      <td>0.0</td>\n",
       "      <td>0.0</td>\n",
       "      <td>0.0</td>\n",
       "      <td>1.0</td>\n",
       "      <td>0.0</td>\n",
       "      <td>2.0</td>\n",
       "      <td>...</td>\n",
       "      <td>0.0</td>\n",
       "      <td>0.0</td>\n",
       "      <td>0.0</td>\n",
       "      <td>0.0</td>\n",
       "      <td>0.0</td>\n",
       "      <td>1.0</td>\n",
       "      <td>0.0</td>\n",
       "      <td>0.0</td>\n",
       "      <td>0.0</td>\n",
       "      <td>0.0</td>\n",
       "    </tr>\n",
       "    <tr>\n",
       "      <th>4</th>\n",
       "      <td>ADMINISTRACIÓN DE TURISMO - S.J.L</td>\n",
       "      <td>0.0</td>\n",
       "      <td>0.0</td>\n",
       "      <td>0.0</td>\n",
       "      <td>0.0</td>\n",
       "      <td>0.0</td>\n",
       "      <td>0.0</td>\n",
       "      <td>0.0</td>\n",
       "      <td>0.0</td>\n",
       "      <td>1.0</td>\n",
       "      <td>...</td>\n",
       "      <td>0.0</td>\n",
       "      <td>0.0</td>\n",
       "      <td>0.0</td>\n",
       "      <td>0.0</td>\n",
       "      <td>0.0</td>\n",
       "      <td>0.0</td>\n",
       "      <td>0.0</td>\n",
       "      <td>0.0</td>\n",
       "      <td>0.0</td>\n",
       "      <td>0.0</td>\n",
       "    </tr>\n",
       "  </tbody>\n",
       "</table>\n",
       "<p>5 rows × 29 columns</p>\n",
       "</div>"
      ],
      "text/plain": [
       "career_1                           career_2  ADMINISTRACIÓN  \\\n",
       "0                   ADMINISTRACIÓN - HUARAL             0.0   \n",
       "1                    ADMINISTRACIÓN - S.J.L             8.0   \n",
       "2          ADMINISTRACIÓN DE LA GASTRONOMÍA             2.0   \n",
       "3          ADMINISTRACIÓN DE TURISMO - LIMA             4.0   \n",
       "4         ADMINISTRACIÓN DE TURISMO - S.J.L             0.0   \n",
       "\n",
       "career_1  ADMINISTRACIÓN DE NEGOCIOS INTERNACIONALES  \\\n",
       "0                                                0.0   \n",
       "1                                                0.0   \n",
       "2                                                4.0   \n",
       "3                                               18.0   \n",
       "4                                                0.0   \n",
       "\n",
       "career_1  ADMINISTRACIÓN MARÍTIMA Y PORTUARIA  CIENCIA POLÍTICA  \\\n",
       "0                                         0.0               0.0   \n",
       "1                                         0.0               0.0   \n",
       "2                                         0.0               0.0   \n",
       "3                                         0.0               0.0   \n",
       "4                                         0.0               0.0   \n",
       "\n",
       "career_1  CIENCIAS DE LA COMPUTACIÓN  COMUNICACIÓN SOCIAL  CONTABILIDAD  \\\n",
       "0                                0.0                  0.0           0.0   \n",
       "1                                0.0                  0.0           0.0   \n",
       "2                                0.0                  0.0           0.0   \n",
       "3                                0.0                  0.0           1.0   \n",
       "4                                0.0                  0.0           0.0   \n",
       "\n",
       "career_1  DERECHO  ECONOMÍA  ...  INGENIERÍA ELECTRÓNICA  \\\n",
       "0             0.0       1.0  ...                     0.0   \n",
       "1             0.0       2.0  ...                     0.0   \n",
       "2             0.0       1.0  ...                     0.0   \n",
       "3             0.0       2.0  ...                     0.0   \n",
       "4             0.0       1.0  ...                     0.0   \n",
       "\n",
       "career_1  INGENIERÍA GEOLÓGICA  INGENIERÍA INDUSTRIAL  \\\n",
       "0                          0.0                    0.0   \n",
       "1                          0.0                    0.0   \n",
       "2                          0.0                    0.0   \n",
       "3                          0.0                    0.0   \n",
       "4                          0.0                    0.0   \n",
       "\n",
       "career_1  LENGUAS, TRADUCCIÓN E INTERPRETACIÓN  LITERATURA  MARKETING  \\\n",
       "0                                          0.0         0.0        0.0   \n",
       "1                                          0.0         0.0        0.0   \n",
       "2                                          0.0         0.0        0.0   \n",
       "3                                          0.0         0.0        1.0   \n",
       "4                                          0.0         0.0        0.0   \n",
       "\n",
       "career_1  MEDICINA HUMANA  MEDICINA VETERINARIA  ODONTOLOGÍA  PSICOLOGÍA  \n",
       "0                     0.0                   0.0          0.0         0.0  \n",
       "1                     0.0                   0.0          0.0         0.0  \n",
       "2                     0.0                   0.0          0.0         0.0  \n",
       "3                     0.0                   0.0          0.0         0.0  \n",
       "4                     0.0                   0.0          0.0         0.0  \n",
       "\n",
       "[5 rows x 29 columns]"
      ]
     },
     "execution_count": 59,
     "metadata": {},
     "output_type": "execute_result"
    }
   ],
   "source": [
    "segunda_opcion = resultados_exam[(resultados_exam['observation'] == 'ALCANZO VACANTE SEGUNDA OPCIÓN') ] \n",
    "\n",
    "\n",
    "second_choice = segunda_opcion.pivot_table(index='career_2', columns='career_1', values = 'student_id', aggfunc='count').fillna(0).reset_index()\n",
    "second_choice.head()"
   ]
  },
  {
   "cell_type": "code",
   "execution_count": 60,
   "metadata": {},
   "outputs": [
    {
     "data": {
      "text/plain": [
       "Index(['student_id', 'full_name', 'career_1', 'score', 'merit_order',\n",
       "       'observation', 'periodo', 'career_2', 'location'],\n",
       "      dtype='object')"
      ]
     },
     "execution_count": 60,
     "metadata": {},
     "output_type": "execute_result"
    }
   ],
   "source": [
    "resultados_exam.columns"
   ]
  },
  {
   "cell_type": "code",
   "execution_count": 61,
   "metadata": {},
   "outputs": [
    {
     "data": {
      "text/html": [
       "<div>\n",
       "<style scoped>\n",
       "    .dataframe tbody tr th:only-of-type {\n",
       "        vertical-align: middle;\n",
       "    }\n",
       "\n",
       "    .dataframe tbody tr th {\n",
       "        vertical-align: top;\n",
       "    }\n",
       "\n",
       "    .dataframe thead th {\n",
       "        text-align: right;\n",
       "    }\n",
       "</style>\n",
       "<table border=\"1\" class=\"dataframe\">\n",
       "  <thead>\n",
       "    <tr style=\"text-align: right;\">\n",
       "      <th></th>\n",
       "      <th>student_id</th>\n",
       "      <th>full_name</th>\n",
       "      <th>career_1</th>\n",
       "      <th>score</th>\n",
       "      <th>merit_order</th>\n",
       "      <th>observation</th>\n",
       "      <th>periodo</th>\n",
       "      <th>career_2</th>\n",
       "      <th>location</th>\n",
       "      <th>area_code</th>\n",
       "    </tr>\n",
       "  </thead>\n",
       "  <tbody>\n",
       "    <tr>\n",
       "      <th>53145</th>\n",
       "      <td>867844</td>\n",
       "      <td>RODAS LAVA, MIGUEL ÁNGEL</td>\n",
       "      <td>MEDICINA HUMANA</td>\n",
       "      <td>443.750</td>\n",
       "      <td>NaN</td>\n",
       "      <td>NO ALCANZO VACANTE</td>\n",
       "      <td>2023II</td>\n",
       "      <td>NaN</td>\n",
       "      <td>LIMA</td>\n",
       "      <td>A</td>\n",
       "    </tr>\n",
       "    <tr>\n",
       "      <th>43900</th>\n",
       "      <td>239837</td>\n",
       "      <td>ZÚÃIGA ROJAS, ALEXA MARIANA</td>\n",
       "      <td>INGENIERÍA GEOGRÁFICA</td>\n",
       "      <td>342.875</td>\n",
       "      <td>NaN</td>\n",
       "      <td>NO ALCANZO VACANTE</td>\n",
       "      <td>2024I</td>\n",
       "      <td>NaN</td>\n",
       "      <td>LIMA</td>\n",
       "      <td>C</td>\n",
       "    </tr>\n",
       "    <tr>\n",
       "      <th>42087</th>\n",
       "      <td>264001</td>\n",
       "      <td>REINA HELFER, CARLOS FRANCISCO</td>\n",
       "      <td>INGENIERÍA DE TELECOMUNICACIONES</td>\n",
       "      <td>860.375</td>\n",
       "      <td>NaN</td>\n",
       "      <td>NO ALCANZO VACANTE</td>\n",
       "      <td>2024I</td>\n",
       "      <td>NaN</td>\n",
       "      <td>LIMA</td>\n",
       "      <td>C</td>\n",
       "    </tr>\n",
       "    <tr>\n",
       "      <th>62389</th>\n",
       "      <td>846133</td>\n",
       "      <td>RODRIGUEZ ASTARRIPA, LUCERO TATIANA</td>\n",
       "      <td>MEDICINA HUMANA</td>\n",
       "      <td>1121.750</td>\n",
       "      <td>NaN</td>\n",
       "      <td>NO ALCANZO VACANTE</td>\n",
       "      <td>2024II</td>\n",
       "      <td>NaN</td>\n",
       "      <td>LIMA</td>\n",
       "      <td>A</td>\n",
       "    </tr>\n",
       "    <tr>\n",
       "      <th>66909</th>\n",
       "      <td>154999</td>\n",
       "      <td>NIEVES WUTÓN, SULÍ ALEXA</td>\n",
       "      <td>ODONTOLOGÍA</td>\n",
       "      <td>564.625</td>\n",
       "      <td>NaN</td>\n",
       "      <td>NO ALCANZO VACANTE</td>\n",
       "      <td>2023II</td>\n",
       "      <td>NaN</td>\n",
       "      <td>LIMA</td>\n",
       "      <td>A</td>\n",
       "    </tr>\n",
       "  </tbody>\n",
       "</table>\n",
       "</div>"
      ],
      "text/plain": [
       "      student_id                            full_name  \\\n",
       "53145     867844             RODAS LAVA, MIGUEL ÁNGEL   \n",
       "43900     239837         ZÚÃIGA ROJAS, ALEXA MARIANA   \n",
       "42087     264001       REINA HELFER, CARLOS FRANCISCO   \n",
       "62389     846133  RODRIGUEZ ASTARRIPA, LUCERO TATIANA   \n",
       "66909     154999             NIEVES WUTÓN, SULÍ ALEXA   \n",
       "\n",
       "                               career_1     score  merit_order  \\\n",
       "53145                   MEDICINA HUMANA   443.750          NaN   \n",
       "43900             INGENIERÍA GEOGRÁFICA   342.875          NaN   \n",
       "42087  INGENIERÍA DE TELECOMUNICACIONES   860.375          NaN   \n",
       "62389                   MEDICINA HUMANA  1121.750          NaN   \n",
       "66909                       ODONTOLOGÍA   564.625          NaN   \n",
       "\n",
       "              observation periodo career_2 location area_code  \n",
       "53145  NO ALCANZO VACANTE  2023II      NaN     LIMA         A  \n",
       "43900  NO ALCANZO VACANTE   2024I      NaN     LIMA         C  \n",
       "42087  NO ALCANZO VACANTE   2024I      NaN     LIMA         C  \n",
       "62389  NO ALCANZO VACANTE  2024II      NaN     LIMA         A  \n",
       "66909  NO ALCANZO VACANTE  2023II      NaN     LIMA         A  "
      ]
     },
     "execution_count": 61,
     "metadata": {},
     "output_type": "execute_result"
    }
   ],
   "source": [
    "df_merge = resultados_exam.merge(df_areas, on='career_1', how = 'outer')\n",
    "df_merge.sample(5)"
   ]
  },
  {
   "cell_type": "code",
   "execution_count": 62,
   "metadata": {},
   "outputs": [],
   "source": [
    "area_periodo_filtered = resultados_exam[resultados_exam['periodo'] == '2023I']"
   ]
  },
  {
   "cell_type": "code",
   "execution_count": 63,
   "metadata": {},
   "outputs": [],
   "source": [
    "#mostramos un dataframe con el numero de postulantes y numero de ingresantes\n",
    "\n",
    "competencia = df_merge.pivot_table(index='area_code', columns='observation', values ='student_id', aggfunc='count').fillna(0).reset_index()\n",
    "competencia['total_estudiantes'] = competencia['ALCANZO VACANTE PRIMERA OPCION'] + competencia['ALCANZO VACANTE SEGUNDA OPCIÓN'] + competencia['ANULADO'] + competencia['AUSENTE'] + competencia['NO ALCANZO VACANTE']"
   ]
  },
  {
   "cell_type": "code",
   "execution_count": 89,
   "metadata": {},
   "outputs": [],
   "source": []
  },
  {
   "cell_type": "code",
   "execution_count": 64,
   "metadata": {},
   "outputs": [],
   "source": [
    "competencia = competencia[\n",
    "    ['area_code','ALCANZO VACANTE PRIMERA OPCION', 'ALCANZO VACANTE SEGUNDA OPCIÓN', 'total_estudiantes']\n",
    "].dropna(axis = 1)"
   ]
  },
  {
   "cell_type": "code",
   "execution_count": 65,
   "metadata": {},
   "outputs": [
    {
     "data": {
      "text/html": [
       "<div>\n",
       "<style scoped>\n",
       "    .dataframe tbody tr th:only-of-type {\n",
       "        vertical-align: middle;\n",
       "    }\n",
       "\n",
       "    .dataframe tbody tr th {\n",
       "        vertical-align: top;\n",
       "    }\n",
       "\n",
       "    .dataframe thead th {\n",
       "        text-align: right;\n",
       "    }\n",
       "</style>\n",
       "<table border=\"1\" class=\"dataframe\">\n",
       "  <thead>\n",
       "    <tr style=\"text-align: right;\">\n",
       "      <th>observation</th>\n",
       "      <th>area_code</th>\n",
       "      <th>ALCANZO VACANTE PRIMERA OPCION</th>\n",
       "      <th>ALCANZO VACANTE SEGUNDA OPCIÓN</th>\n",
       "      <th>total_estudiantes</th>\n",
       "    </tr>\n",
       "  </thead>\n",
       "  <tbody>\n",
       "    <tr>\n",
       "      <th>0</th>\n",
       "      <td>A</td>\n",
       "      <td>1266.0</td>\n",
       "      <td>138.0</td>\n",
       "      <td>26277.0</td>\n",
       "    </tr>\n",
       "    <tr>\n",
       "      <th>1</th>\n",
       "      <td>B</td>\n",
       "      <td>600.0</td>\n",
       "      <td>17.0</td>\n",
       "      <td>2178.0</td>\n",
       "    </tr>\n",
       "    <tr>\n",
       "      <th>2</th>\n",
       "      <td>C</td>\n",
       "      <td>1640.0</td>\n",
       "      <td>227.0</td>\n",
       "      <td>19093.0</td>\n",
       "    </tr>\n",
       "    <tr>\n",
       "      <th>3</th>\n",
       "      <td>D</td>\n",
       "      <td>2207.0</td>\n",
       "      <td>223.0</td>\n",
       "      <td>13091.0</td>\n",
       "    </tr>\n",
       "    <tr>\n",
       "      <th>4</th>\n",
       "      <td>E</td>\n",
       "      <td>1949.0</td>\n",
       "      <td>209.0</td>\n",
       "      <td>14690.0</td>\n",
       "    </tr>\n",
       "  </tbody>\n",
       "</table>\n",
       "</div>"
      ],
      "text/plain": [
       "observation area_code  ALCANZO VACANTE PRIMERA OPCION  \\\n",
       "0                   A                          1266.0   \n",
       "1                   B                           600.0   \n",
       "2                   C                          1640.0   \n",
       "3                   D                          2207.0   \n",
       "4                   E                          1949.0   \n",
       "\n",
       "observation  ALCANZO VACANTE SEGUNDA OPCIÓN  total_estudiantes  \n",
       "0                                     138.0            26277.0  \n",
       "1                                      17.0             2178.0  \n",
       "2                                     227.0            19093.0  \n",
       "3                                     223.0            13091.0  \n",
       "4                                     209.0            14690.0  "
      ]
     },
     "execution_count": 65,
     "metadata": {},
     "output_type": "execute_result"
    }
   ],
   "source": [
    "competencia"
   ]
  },
  {
   "cell_type": "code",
   "execution_count": 66,
   "metadata": {},
   "outputs": [
    {
     "ename": "KeyError",
     "evalue": "'2025I'",
     "output_type": "error",
     "traceback": [
      "\u001b[1;31m---------------------------------------------------------------------------\u001b[0m",
      "\u001b[1;31mKeyError\u001b[0m                                  Traceback (most recent call last)",
      "File \u001b[1;32mc:\\Users\\Dussand\\AppData\\Local\\Programs\\Python\\Python312\\Lib\\site-packages\\pandas\\core\\indexes\\base.py:3805\u001b[0m, in \u001b[0;36mIndex.get_loc\u001b[1;34m(self, key)\u001b[0m\n\u001b[0;32m   3804\u001b[0m \u001b[38;5;28;01mtry\u001b[39;00m:\n\u001b[1;32m-> 3805\u001b[0m     \u001b[38;5;28;01mreturn\u001b[39;00m \u001b[38;5;28;43mself\u001b[39;49m\u001b[38;5;241;43m.\u001b[39;49m\u001b[43m_engine\u001b[49m\u001b[38;5;241;43m.\u001b[39;49m\u001b[43mget_loc\u001b[49m\u001b[43m(\u001b[49m\u001b[43mcasted_key\u001b[49m\u001b[43m)\u001b[49m\n\u001b[0;32m   3806\u001b[0m \u001b[38;5;28;01mexcept\u001b[39;00m \u001b[38;5;167;01mKeyError\u001b[39;00m \u001b[38;5;28;01mas\u001b[39;00m err:\n",
      "File \u001b[1;32mindex.pyx:167\u001b[0m, in \u001b[0;36mpandas._libs.index.IndexEngine.get_loc\u001b[1;34m()\u001b[0m\n",
      "File \u001b[1;32mindex.pyx:196\u001b[0m, in \u001b[0;36mpandas._libs.index.IndexEngine.get_loc\u001b[1;34m()\u001b[0m\n",
      "File \u001b[1;32mpandas\\\\_libs\\\\hashtable_class_helper.pxi:7081\u001b[0m, in \u001b[0;36mpandas._libs.hashtable.PyObjectHashTable.get_item\u001b[1;34m()\u001b[0m\n",
      "File \u001b[1;32mpandas\\\\_libs\\\\hashtable_class_helper.pxi:7089\u001b[0m, in \u001b[0;36mpandas._libs.hashtable.PyObjectHashTable.get_item\u001b[1;34m()\u001b[0m\n",
      "\u001b[1;31mKeyError\u001b[0m: '2025I'",
      "\nThe above exception was the direct cause of the following exception:\n",
      "\u001b[1;31mKeyError\u001b[0m                                  Traceback (most recent call last)",
      "Cell \u001b[1;32mIn[66], line 4\u001b[0m\n\u001b[0;32m      1\u001b[0m \u001b[38;5;66;03m#cantidad de estudiantes por location y puntajes\u001b[39;00m\n\u001b[0;32m      3\u001b[0m score_location \u001b[38;5;241m=\u001b[39m resultados_exam\u001b[38;5;241m.\u001b[39mpivot_table(index\u001b[38;5;241m=\u001b[39m\u001b[38;5;124m'\u001b[39m\u001b[38;5;124mfull_name\u001b[39m\u001b[38;5;124m'\u001b[39m, columns\u001b[38;5;241m=\u001b[39m\u001b[38;5;124m'\u001b[39m\u001b[38;5;124mperiodo\u001b[39m\u001b[38;5;124m'\u001b[39m, values \u001b[38;5;241m=\u001b[39m \u001b[38;5;124m'\u001b[39m\u001b[38;5;124mstudent_id\u001b[39m\u001b[38;5;124m'\u001b[39m, aggfunc\u001b[38;5;241m=\u001b[39m\u001b[38;5;124m'\u001b[39m\u001b[38;5;124mcount\u001b[39m\u001b[38;5;124m'\u001b[39m)\u001b[38;5;241m.\u001b[39mfillna(\u001b[38;5;241m0\u001b[39m)\n\u001b[1;32m----> 4\u001b[0m score_location[\u001b[38;5;124m'\u001b[39m\u001b[38;5;124mtotal_intentos\u001b[39m\u001b[38;5;124m'\u001b[39m] \u001b[38;5;241m=\u001b[39m score_location[\u001b[38;5;124m'\u001b[39m\u001b[38;5;124m2023II\u001b[39m\u001b[38;5;124m'\u001b[39m] \u001b[38;5;241m+\u001b[39m score_location[\u001b[38;5;124m'\u001b[39m\u001b[38;5;124m2024I\u001b[39m\u001b[38;5;124m'\u001b[39m] \u001b[38;5;241m+\u001b[39m score_location[\u001b[38;5;124m'\u001b[39m\u001b[38;5;124m2024II\u001b[39m\u001b[38;5;124m'\u001b[39m] \u001b[38;5;241m+\u001b[39m \u001b[43mscore_location\u001b[49m\u001b[43m[\u001b[49m\u001b[38;5;124;43m'\u001b[39;49m\u001b[38;5;124;43m2025I\u001b[39;49m\u001b[38;5;124;43m'\u001b[39;49m\u001b[43m]\u001b[49m\n\u001b[0;32m      5\u001b[0m score_location \u001b[38;5;241m=\u001b[39m score_location[score_location[\u001b[38;5;124m'\u001b[39m\u001b[38;5;124mtotal_intentos\u001b[39m\u001b[38;5;124m'\u001b[39m] \u001b[38;5;241m>\u001b[39m \u001b[38;5;241m1\u001b[39m]\n\u001b[0;32m      6\u001b[0m score_location\u001b[38;5;241m.\u001b[39msort_values(by \u001b[38;5;241m=\u001b[39m \u001b[38;5;124m'\u001b[39m\u001b[38;5;124mtotal_intentos\u001b[39m\u001b[38;5;124m'\u001b[39m, ascending\u001b[38;5;241m=\u001b[39m\u001b[38;5;28;01mFalse\u001b[39;00m)\n",
      "File \u001b[1;32mc:\\Users\\Dussand\\AppData\\Local\\Programs\\Python\\Python312\\Lib\\site-packages\\pandas\\core\\frame.py:4102\u001b[0m, in \u001b[0;36mDataFrame.__getitem__\u001b[1;34m(self, key)\u001b[0m\n\u001b[0;32m   4100\u001b[0m \u001b[38;5;28;01mif\u001b[39;00m \u001b[38;5;28mself\u001b[39m\u001b[38;5;241m.\u001b[39mcolumns\u001b[38;5;241m.\u001b[39mnlevels \u001b[38;5;241m>\u001b[39m \u001b[38;5;241m1\u001b[39m:\n\u001b[0;32m   4101\u001b[0m     \u001b[38;5;28;01mreturn\u001b[39;00m \u001b[38;5;28mself\u001b[39m\u001b[38;5;241m.\u001b[39m_getitem_multilevel(key)\n\u001b[1;32m-> 4102\u001b[0m indexer \u001b[38;5;241m=\u001b[39m \u001b[38;5;28;43mself\u001b[39;49m\u001b[38;5;241;43m.\u001b[39;49m\u001b[43mcolumns\u001b[49m\u001b[38;5;241;43m.\u001b[39;49m\u001b[43mget_loc\u001b[49m\u001b[43m(\u001b[49m\u001b[43mkey\u001b[49m\u001b[43m)\u001b[49m\n\u001b[0;32m   4103\u001b[0m \u001b[38;5;28;01mif\u001b[39;00m is_integer(indexer):\n\u001b[0;32m   4104\u001b[0m     indexer \u001b[38;5;241m=\u001b[39m [indexer]\n",
      "File \u001b[1;32mc:\\Users\\Dussand\\AppData\\Local\\Programs\\Python\\Python312\\Lib\\site-packages\\pandas\\core\\indexes\\base.py:3812\u001b[0m, in \u001b[0;36mIndex.get_loc\u001b[1;34m(self, key)\u001b[0m\n\u001b[0;32m   3807\u001b[0m     \u001b[38;5;28;01mif\u001b[39;00m \u001b[38;5;28misinstance\u001b[39m(casted_key, \u001b[38;5;28mslice\u001b[39m) \u001b[38;5;129;01mor\u001b[39;00m (\n\u001b[0;32m   3808\u001b[0m         \u001b[38;5;28misinstance\u001b[39m(casted_key, abc\u001b[38;5;241m.\u001b[39mIterable)\n\u001b[0;32m   3809\u001b[0m         \u001b[38;5;129;01mand\u001b[39;00m \u001b[38;5;28many\u001b[39m(\u001b[38;5;28misinstance\u001b[39m(x, \u001b[38;5;28mslice\u001b[39m) \u001b[38;5;28;01mfor\u001b[39;00m x \u001b[38;5;129;01min\u001b[39;00m casted_key)\n\u001b[0;32m   3810\u001b[0m     ):\n\u001b[0;32m   3811\u001b[0m         \u001b[38;5;28;01mraise\u001b[39;00m InvalidIndexError(key)\n\u001b[1;32m-> 3812\u001b[0m     \u001b[38;5;28;01mraise\u001b[39;00m \u001b[38;5;167;01mKeyError\u001b[39;00m(key) \u001b[38;5;28;01mfrom\u001b[39;00m \u001b[38;5;21;01merr\u001b[39;00m\n\u001b[0;32m   3813\u001b[0m \u001b[38;5;28;01mexcept\u001b[39;00m \u001b[38;5;167;01mTypeError\u001b[39;00m:\n\u001b[0;32m   3814\u001b[0m     \u001b[38;5;66;03m# If we have a listlike key, _check_indexing_error will raise\u001b[39;00m\n\u001b[0;32m   3815\u001b[0m     \u001b[38;5;66;03m#  InvalidIndexError. Otherwise we fall through and re-raise\u001b[39;00m\n\u001b[0;32m   3816\u001b[0m     \u001b[38;5;66;03m#  the TypeError.\u001b[39;00m\n\u001b[0;32m   3817\u001b[0m     \u001b[38;5;28mself\u001b[39m\u001b[38;5;241m.\u001b[39m_check_indexing_error(key)\n",
      "\u001b[1;31mKeyError\u001b[0m: '2025I'"
     ]
    }
   ],
   "source": [
    "#cantidad de estudiantes por location y puntajes\n",
    "\n",
    "score_location = resultados_exam.pivot_table(index='full_name', columns='periodo', values = 'student_id', aggfunc='count').fillna(0)\n",
    "score_location['total_intentos'] = score_location['2023II'] + score_location['2024I'] + score_location['2024II'] + score_location['2025I']\n",
    "score_location = score_location[score_location['total_intentos'] > 1]\n",
    "score_location.sort_values(by = 'total_intentos', ascending=False)\n",
    "\n",
    "mask = score_location.iloc[:,:-1].head() == 0\n",
    "\n",
    "sns.heatmap(score_location.iloc[:, :-1].head(),\n",
    "            linecolor='black',\n",
    "            mask = mask)"
   ]
  },
  {
   "cell_type": "code",
   "execution_count": null,
   "metadata": {},
   "outputs": [],
   "source": [
    "score_location.head()"
   ]
  },
  {
   "cell_type": "code",
   "execution_count": null,
   "metadata": {},
   "outputs": [],
   "source": [
    "score_location_groupby = resultados_exam.groupby('location').agg({\n",
    "    'score':'max',\n",
    "    'student_id':'count'\n",
    "}).fillna(0)\n",
    "\n",
    "score_location_groupby"
   ]
  },
  {
   "cell_type": "code",
   "execution_count": null,
   "metadata": {},
   "outputs": [],
   "source": [
    "sns.pairplot(resultados_exam)"
   ]
  },
  {
   "cell_type": "code",
   "execution_count": 148,
   "metadata": {},
   "outputs": [],
   "source": [
    "ingresados = resultados_exam.pivot_table(\n",
    "    index = 'periodo', columns='observation', values = 'student_id', aggfunc='count'\n",
    ").fillna(0)"
   ]
  },
  {
   "cell_type": "code",
   "execution_count": 149,
   "metadata": {},
   "outputs": [],
   "source": [
    "ingresados['total_students'] = ingresados['ALCANZO VACANTE PRIMERA OPCION'] + ingresados['ALCANZO VACANTE SEGUNDA OPCIÓN'] + ingresados['ANULADO'] + ingresados['AUSENTE'] + ingresados['NO ALCANZO VACANTE']\n"
   ]
  },
  {
   "cell_type": "code",
   "execution_count": 150,
   "metadata": {},
   "outputs": [],
   "source": [
    "ingresados['PORCENTAJE'] = ingresados['ALCANZO VACANTE PRIMERA OPCION'] / ingresados['total_students'] * 100"
   ]
  },
  {
   "cell_type": "code",
   "execution_count": null,
   "metadata": {},
   "outputs": [],
   "source": [
    "ingresados"
   ]
  },
  {
   "cell_type": "code",
   "execution_count": 152,
   "metadata": {},
   "outputs": [],
   "source": [
    "funnel_df = resultados_exam.groupby('observation').agg({\n",
    "    'student_id': 'count'\n",
    "}).sort_values(by = 'student_id', ascending = False).reset_index()"
   ]
  },
  {
   "cell_type": "code",
   "execution_count": null,
   "metadata": {},
   "outputs": [],
   "source": [
    "funnel_df"
   ]
  },
  {
   "cell_type": "code",
   "execution_count": null,
   "metadata": {},
   "outputs": [],
   "source": [
    "funnel = resultados_exam.pivot_table(\n",
    "    index = 'career_1',\n",
    "    columns= 'observation',\n",
    "    values= 'student_id',\n",
    "    aggfunc='count'\n",
    ").fillna(0).reset_index()\n",
    "\n",
    "funnel['total_studiantes'] = (\n",
    "        funnel.get('ALCANZO VACANTE PRIMERA OPCION', 0) \n",
    "      + funnel.get('ALCANZO VACANTE SEGUNDA OPCION', 0)\n",
    "      + funnel.get('ANULADO', 0)\n",
    "      + funnel.get('AUSENTE', 0)\n",
    "      + funnel.get('NO ALCANZO VACANTE', 0)\n",
    ")\n",
    "\n",
    "funnel.head()"
   ]
  },
  {
   "cell_type": "code",
   "execution_count": 110,
   "metadata": {},
   "outputs": [],
   "source": []
  },
  {
   "cell_type": "code",
   "execution_count": null,
   "metadata": {},
   "outputs": [],
   "source": []
  },
  {
   "cell_type": "code",
   "execution_count": 101,
   "metadata": {},
   "outputs": [],
   "source": []
  },
  {
   "cell_type": "code",
   "execution_count": null,
   "metadata": {},
   "outputs": [],
   "source": []
  },
  {
   "cell_type": "code",
   "execution_count": 155,
   "metadata": {},
   "outputs": [],
   "source": [
    "melted_df = pd.melt(funnel, \n",
    "                     id_vars=['career_1'], \n",
    "                     value_vars=['ALCANZO VACANTE PRIMERA OPCION', 'ALCANZO VACANTE SEGUNDA OPCIÓN', 'ANULADO', 'AUSENTE', 'NO ALCANZO VACANTE', 'total_studiantes'],\n",
    "                     var_name='estado', \n",
    "                     value_name='cantidad')"
   ]
  },
  {
   "cell_type": "code",
   "execution_count": null,
   "metadata": {},
   "outputs": [],
   "source": [
    "melted_df[melted_df['career_1'] == 'CONTABILIDAD']"
   ]
  },
  {
   "cell_type": "code",
   "execution_count": null,
   "metadata": {},
   "outputs": [],
   "source": []
  }
 ],
 "metadata": {
  "kernelspec": {
   "display_name": "Python 3",
   "language": "python",
   "name": "python3"
  },
  "language_info": {
   "codemirror_mode": {
    "name": "ipython",
    "version": 3
   },
   "file_extension": ".py",
   "mimetype": "text/x-python",
   "name": "python",
   "nbconvert_exporter": "python",
   "pygments_lexer": "ipython3",
   "version": "3.12.6"
  }
 },
 "nbformat": 4,
 "nbformat_minor": 2
}
