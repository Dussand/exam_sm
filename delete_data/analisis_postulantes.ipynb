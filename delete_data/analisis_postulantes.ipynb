{
 "cells": [
  {
   "cell_type": "code",
   "execution_count": 1,
   "metadata": {},
   "outputs": [],
   "source": [
    "import pandas as pd\n",
    "import seaborn as sns\n",
    "import numpy as np\n",
    "import matplotlib.pyplot as plt\n"
   ]
  },
  {
   "cell_type": "code",
   "execution_count": 2,
   "metadata": {},
   "outputs": [],
   "source": [
    "C2023II = pd.read_csv(r'C:\\Users\\Dussand\\Desktop\\proyectsDS\\Python\\Scrapping\\delete_data\\postulantes_por_carrera2023II.csv')\n",
    "C2024I = pd.read_csv(r'C:\\Users\\Dussand\\Desktop\\proyectsDS\\Python\\Scrapping\\delete_data\\postulantes_por_carrera2024I.csv')\n",
    "C2024II = pd.read_csv(r'C:\\Users\\Dussand\\Desktop\\proyectsDS\\Python\\Scrapping\\delete_data\\postulantes_por_carrera2024II.csv')\n",
    "# C2025I = pd.read_csv(r'C:\\Users\\Dussand\\Desktop\\proyectsDS\\Python\\Scrapping\\delete_data\\postulantes_por_carrera2025I.csv')"
   ]
  },
  {
   "cell_type": "code",
   "execution_count": 3,
   "metadata": {},
   "outputs": [],
   "source": [
    "#creamos una columna con el periodo del examen para cada periodo\n",
    "C2023II['periodo'] = \"2023II\"\n",
    "C2024I['periodo'] = \"2024I\"\n",
    "C2024II['periodo'] = \"2024II\"\n",
    "# C2025I['periodo'] = \"2025I\"\n",
    "\n"
   ]
  },
  {
   "cell_type": "code",
   "execution_count": 4,
   "metadata": {},
   "outputs": [
    {
     "name": "stdout",
     "output_type": "stream",
     "text": [
      "<class 'pandas.core.frame.DataFrame'>\n",
      "RangeIndex: 24553 entries, 0 to 24552\n",
      "Data columns (total 7 columns):\n",
      " #   Column       Non-Null Count  Dtype  \n",
      "---  ------       --------------  -----  \n",
      " 0   student_id   24553 non-null  int64  \n",
      " 1   full_name    24553 non-null  object \n",
      " 2   career_1     24553 non-null  object \n",
      " 3   score        24099 non-null  float64\n",
      " 4   merit_order  3751 non-null   float64\n",
      " 5   observation  4205 non-null   object \n",
      " 6   periodo      24553 non-null  object \n",
      "dtypes: float64(2), int64(1), object(4)\n",
      "memory usage: 1.3+ MB\n"
     ]
    }
   ],
   "source": [
    "#cambiamos el nombre de las columnas\n",
    "columns = {\n",
    "    'CODIGO':'student_id',\n",
    "    'APELLIDOS Y NOMBRES':'full_name',\n",
    "    'ESCUELA PROFESIONAL':'career_1',\n",
    "    'PUNTAJE FINAL':'score',\n",
    "    'MERITOE.P':'merit_order',\n",
    "    'OBSERVACI&OacuteN':'observation'\n",
    "}\n",
    "\n",
    "C2023II.rename(columns=columns, inplace = True)\n",
    "\n",
    "C2023II.info()"
   ]
  },
  {
   "cell_type": "code",
   "execution_count": 5,
   "metadata": {},
   "outputs": [
    {
     "name": "stdout",
     "output_type": "stream",
     "text": [
      "<class 'pandas.core.frame.DataFrame'>\n",
      "RangeIndex: 28862 entries, 0 to 28861\n",
      "Data columns (total 8 columns):\n",
      " #   Column       Non-Null Count  Dtype  \n",
      "---  ------       --------------  -----  \n",
      " 0   student_id   28862 non-null  int64  \n",
      " 1   full_name    28862 non-null  object \n",
      " 2   career_1     28862 non-null  object \n",
      " 3   score        28527 non-null  float64\n",
      " 4   merit_order  2124 non-null   float64\n",
      " 5   observation  2459 non-null   object \n",
      " 6   career_2     303 non-null    object \n",
      " 7   periodo      28862 non-null  object \n",
      "dtypes: float64(2), int64(1), object(5)\n",
      "memory usage: 1.8+ MB\n"
     ]
    }
   ],
   "source": [
    "columns = {\n",
    "    'CODIGO':'student_id',\n",
    "    'APELLIDOS Y NOMBRES':'full_name',\n",
    "    'ESCUELA PROFESIONAL':'career_1',\n",
    "    'PUNTAJE FINAL':'score',\n",
    "    'MERITOE.P ALCANZA VACANTE':'merit_order',\n",
    "    'OBSERVACI&OacuteN':'observation',\n",
    "    'ESCUELA SEGUNDA OPCIÓN':'career_2'\n",
    "}\n",
    "\n",
    "C2024I.rename(columns=columns, inplace = True)\n",
    "\n",
    "C2024I.info()"
   ]
  },
  {
   "cell_type": "code",
   "execution_count": 6,
   "metadata": {},
   "outputs": [
    {
     "name": "stdout",
     "output_type": "stream",
     "text": [
      "<class 'pandas.core.frame.DataFrame'>\n",
      "RangeIndex: 22077 entries, 0 to 22076\n",
      "Data columns (total 8 columns):\n",
      " #   Column       Non-Null Count  Dtype  \n",
      "---  ------       --------------  -----  \n",
      " 0   student_id   22077 non-null  int64  \n",
      " 1   full_name    22077 non-null  object \n",
      " 2   career_1     22077 non-null  object \n",
      " 3   score        21868 non-null  float64\n",
      " 4   merit_order  2630 non-null   float64\n",
      " 5   observation  2839 non-null   object \n",
      " 6   career_2     512 non-null    object \n",
      " 7   periodo      22077 non-null  object \n",
      "dtypes: float64(2), int64(1), object(5)\n",
      "memory usage: 1.3+ MB\n"
     ]
    }
   ],
   "source": [
    "columns = {\n",
    "    'CODIGO':'student_id',\n",
    "    'APELLIDOS Y NOMBRES':'full_name',\n",
    "    'ESCUELA PROFESIONAL (PRIMERA OPCIÓN)':'career_1',\n",
    "    'PUNTAJE':'score',\n",
    "    'MERITOE.P':'merit_order',\n",
    "    'OBSERVACI&OacuteN':'observation',\n",
    "    'ESCUELA PROFESIONAL (SEGUNDA OPCIÓN)':'career_2'\n",
    "}\n",
    "\n",
    "C2024II.rename(columns=columns, inplace = True)\n",
    "\n",
    "C2024II.info()"
   ]
  },
  {
   "cell_type": "code",
   "execution_count": 7,
   "metadata": {},
   "outputs": [],
   "source": [
    "# #cambiamos el nombre de las columnas\n",
    "# columns = {\n",
    "#     'CODIGO':'student_id',\n",
    "#     'APELLIDOS Y NOMBRES':'full_name',\n",
    "#     'ESCUELA PROFESIONAL':'career_1',\n",
    "#     'PUNTAJE':'score',\n",
    "#     'MERITOE.P':'merit_order',\n",
    "#     'OBSERVACI&OacuteN':'observation'\n",
    "# }\n",
    "\n",
    "# C2025I.rename(columns=columns, inplace = True)\n",
    "\n",
    "# C2025I.info()"
   ]
  },
  {
   "cell_type": "code",
   "execution_count": 8,
   "metadata": {},
   "outputs": [],
   "source": [
    "#anexamos los dataframes\n",
    "\n",
    "resultados_exam = pd.concat([C2023II, C2024I, C2024II], ignore_index = True)"
   ]
  },
  {
   "cell_type": "code",
   "execution_count": 9,
   "metadata": {},
   "outputs": [
    {
     "data": {
      "text/html": [
       "<div>\n",
       "<style scoped>\n",
       "    .dataframe tbody tr th:only-of-type {\n",
       "        vertical-align: middle;\n",
       "    }\n",
       "\n",
       "    .dataframe tbody tr th {\n",
       "        vertical-align: top;\n",
       "    }\n",
       "\n",
       "    .dataframe thead th {\n",
       "        text-align: right;\n",
       "    }\n",
       "</style>\n",
       "<table border=\"1\" class=\"dataframe\">\n",
       "  <thead>\n",
       "    <tr style=\"text-align: right;\">\n",
       "      <th></th>\n",
       "      <th>student_id</th>\n",
       "      <th>full_name</th>\n",
       "      <th>career_1</th>\n",
       "      <th>score</th>\n",
       "      <th>merit_order</th>\n",
       "      <th>observation</th>\n",
       "      <th>periodo</th>\n",
       "      <th>career_2</th>\n",
       "    </tr>\n",
       "  </thead>\n",
       "  <tbody>\n",
       "    <tr>\n",
       "      <th>44062</th>\n",
       "      <td>774312</td>\n",
       "      <td>HUAMÁN CÁRDENAS, VENUS ANTONELLA</td>\n",
       "      <td>ANTROPOLOGÍA</td>\n",
       "      <td>943.750</td>\n",
       "      <td>11.0</td>\n",
       "      <td>ALCANZO VACANTE</td>\n",
       "      <td>2024I</td>\n",
       "      <td>NaN</td>\n",
       "    </tr>\n",
       "    <tr>\n",
       "      <th>47986</th>\n",
       "      <td>155508</td>\n",
       "      <td>BERNARDO SENTENO, GREESY JAZMIN</td>\n",
       "      <td>PSICOLOGÍA</td>\n",
       "      <td>1021.750</td>\n",
       "      <td>NaN</td>\n",
       "      <td>NaN</td>\n",
       "      <td>2024I</td>\n",
       "      <td>NaN</td>\n",
       "    </tr>\n",
       "    <tr>\n",
       "      <th>33396</th>\n",
       "      <td>732140</td>\n",
       "      <td>NINA ZEVALLOS, LUIS FERNANDO</td>\n",
       "      <td>DERECHO</td>\n",
       "      <td>667.125</td>\n",
       "      <td>NaN</td>\n",
       "      <td>NaN</td>\n",
       "      <td>2024I</td>\n",
       "      <td>NaN</td>\n",
       "    </tr>\n",
       "    <tr>\n",
       "      <th>51678</th>\n",
       "      <td>248193</td>\n",
       "      <td>MACALUPU MELGAR, JAIRO STEFANO</td>\n",
       "      <td>INGENIERÍA DE SISTEMAS</td>\n",
       "      <td>521.250</td>\n",
       "      <td>NaN</td>\n",
       "      <td>NaN</td>\n",
       "      <td>2024I</td>\n",
       "      <td>NaN</td>\n",
       "    </tr>\n",
       "    <tr>\n",
       "      <th>13188</th>\n",
       "      <td>565649</td>\n",
       "      <td>CURI HUAYGUA, RICHARD ALONSO</td>\n",
       "      <td>ADMINISTRACIÓN DE NEGOCIOS INTERNACIONALES - S...</td>\n",
       "      <td>410.250</td>\n",
       "      <td>NaN</td>\n",
       "      <td>NaN</td>\n",
       "      <td>2023II</td>\n",
       "      <td>NaN</td>\n",
       "    </tr>\n",
       "    <tr>\n",
       "      <th>30575</th>\n",
       "      <td>108194</td>\n",
       "      <td>HUATUCO MAYHUA, ALEXANDRA JIMENA</td>\n",
       "      <td>ENFERMERÍA</td>\n",
       "      <td>474.750</td>\n",
       "      <td>NaN</td>\n",
       "      <td>NaN</td>\n",
       "      <td>2024I</td>\n",
       "      <td>NaN</td>\n",
       "    </tr>\n",
       "    <tr>\n",
       "      <th>51883</th>\n",
       "      <td>287172</td>\n",
       "      <td>PACHAS SAAVEDRA, JESUS ALBERTO</td>\n",
       "      <td>INGENIERÍA DE SISTEMAS</td>\n",
       "      <td>419.000</td>\n",
       "      <td>NaN</td>\n",
       "      <td>NaN</td>\n",
       "      <td>2024I</td>\n",
       "      <td>NaN</td>\n",
       "    </tr>\n",
       "    <tr>\n",
       "      <th>12803</th>\n",
       "      <td>574848</td>\n",
       "      <td>MENDOZA MODESTO, FELIX JUNIOR</td>\n",
       "      <td>ADMINISTRACIÓN DE NEGOCIOS INTERNACIONALES - LIMA</td>\n",
       "      <td>727.375</td>\n",
       "      <td>NaN</td>\n",
       "      <td>NaN</td>\n",
       "      <td>2023II</td>\n",
       "      <td>NaN</td>\n",
       "    </tr>\n",
       "    <tr>\n",
       "      <th>18688</th>\n",
       "      <td>224803</td>\n",
       "      <td>ACCILIO LEANDRO, ANALY JOSELY</td>\n",
       "      <td>INGENIERÍA INDUSTRIAL</td>\n",
       "      <td>1050.500</td>\n",
       "      <td>16.0</td>\n",
       "      <td>ALCANZO VACANTE</td>\n",
       "      <td>2023II</td>\n",
       "      <td>NaN</td>\n",
       "    </tr>\n",
       "    <tr>\n",
       "      <th>43062</th>\n",
       "      <td>589696</td>\n",
       "      <td>MARTELL AGUIRRE, JORGE JOEL</td>\n",
       "      <td>ECONOMÍA PÚBLICA</td>\n",
       "      <td>838.125</td>\n",
       "      <td>NaN</td>\n",
       "      <td>NaN</td>\n",
       "      <td>2024I</td>\n",
       "      <td>NaN</td>\n",
       "    </tr>\n",
       "  </tbody>\n",
       "</table>\n",
       "</div>"
      ],
      "text/plain": [
       "       student_id                         full_name  \\\n",
       "44062      774312  HUAMÁN CÁRDENAS, VENUS ANTONELLA   \n",
       "47986      155508   BERNARDO SENTENO, GREESY JAZMIN   \n",
       "33396      732140      NINA ZEVALLOS, LUIS FERNANDO   \n",
       "51678      248193    MACALUPU MELGAR, JAIRO STEFANO   \n",
       "13188      565649      CURI HUAYGUA, RICHARD ALONSO   \n",
       "30575      108194  HUATUCO MAYHUA, ALEXANDRA JIMENA   \n",
       "51883      287172    PACHAS SAAVEDRA, JESUS ALBERTO   \n",
       "12803      574848     MENDOZA MODESTO, FELIX JUNIOR   \n",
       "18688      224803     ACCILIO LEANDRO, ANALY JOSELY   \n",
       "43062      589696       MARTELL AGUIRRE, JORGE JOEL   \n",
       "\n",
       "                                                career_1     score  \\\n",
       "44062                                       ANTROPOLOGÍA   943.750   \n",
       "47986                                         PSICOLOGÍA  1021.750   \n",
       "33396                                            DERECHO   667.125   \n",
       "51678                             INGENIERÍA DE SISTEMAS   521.250   \n",
       "13188  ADMINISTRACIÓN DE NEGOCIOS INTERNACIONALES - S...   410.250   \n",
       "30575                                         ENFERMERÍA   474.750   \n",
       "51883                             INGENIERÍA DE SISTEMAS   419.000   \n",
       "12803  ADMINISTRACIÓN DE NEGOCIOS INTERNACIONALES - LIMA   727.375   \n",
       "18688                              INGENIERÍA INDUSTRIAL  1050.500   \n",
       "43062                                   ECONOMÍA PÚBLICA   838.125   \n",
       "\n",
       "       merit_order      observation periodo career_2  \n",
       "44062         11.0  ALCANZO VACANTE   2024I      NaN  \n",
       "47986          NaN              NaN   2024I      NaN  \n",
       "33396          NaN              NaN   2024I      NaN  \n",
       "51678          NaN              NaN   2024I      NaN  \n",
       "13188          NaN              NaN  2023II      NaN  \n",
       "30575          NaN              NaN   2024I      NaN  \n",
       "51883          NaN              NaN   2024I      NaN  \n",
       "12803          NaN              NaN  2023II      NaN  \n",
       "18688         16.0  ALCANZO VACANTE  2023II      NaN  \n",
       "43062          NaN              NaN   2024I      NaN  "
      ]
     },
     "execution_count": 9,
     "metadata": {},
     "output_type": "execute_result"
    }
   ],
   "source": [
    "resultados_exam.sample(10)"
   ]
  },
  {
   "cell_type": "code",
   "execution_count": 10,
   "metadata": {},
   "outputs": [],
   "source": [
    "resultados_exam['location'] = resultados_exam['career_1'].str.extract(r' - (.+)')  # Extraer 'LIMA'\n",
    "resultados_exam['career_1'] = resultados_exam['career_1'].str.replace(r' - .+', '', regex=True)  # Remover '- LIMA' de 'career_1'"
   ]
  },
  {
   "cell_type": "code",
   "execution_count": 11,
   "metadata": {},
   "outputs": [
    {
     "data": {
      "text/html": [
       "<div>\n",
       "<style scoped>\n",
       "    .dataframe tbody tr th:only-of-type {\n",
       "        vertical-align: middle;\n",
       "    }\n",
       "\n",
       "    .dataframe tbody tr th {\n",
       "        vertical-align: top;\n",
       "    }\n",
       "\n",
       "    .dataframe thead th {\n",
       "        text-align: right;\n",
       "    }\n",
       "</style>\n",
       "<table border=\"1\" class=\"dataframe\">\n",
       "  <thead>\n",
       "    <tr style=\"text-align: right;\">\n",
       "      <th></th>\n",
       "      <th>student_id</th>\n",
       "      <th>full_name</th>\n",
       "      <th>career_1</th>\n",
       "      <th>score</th>\n",
       "      <th>merit_order</th>\n",
       "      <th>observation</th>\n",
       "      <th>periodo</th>\n",
       "      <th>career_2</th>\n",
       "      <th>location</th>\n",
       "    </tr>\n",
       "  </thead>\n",
       "  <tbody>\n",
       "    <tr>\n",
       "      <th>28644</th>\n",
       "      <td>845685</td>\n",
       "      <td>REYES RUCANA, VICTOR SEBASTIAN</td>\n",
       "      <td>MEDICINA HUMANA</td>\n",
       "      <td>950.500</td>\n",
       "      <td>NaN</td>\n",
       "      <td>NaN</td>\n",
       "      <td>2024I</td>\n",
       "      <td>NaN</td>\n",
       "      <td>NaN</td>\n",
       "    </tr>\n",
       "    <tr>\n",
       "      <th>51737</th>\n",
       "      <td>249355</td>\n",
       "      <td>MEDRANO VILLAMAGUA, LEYTON JAREN</td>\n",
       "      <td>INGENIERÍA DE SISTEMAS</td>\n",
       "      <td>257.250</td>\n",
       "      <td>NaN</td>\n",
       "      <td>NaN</td>\n",
       "      <td>2024I</td>\n",
       "      <td>NaN</td>\n",
       "      <td>NaN</td>\n",
       "    </tr>\n",
       "    <tr>\n",
       "      <th>37766</th>\n",
       "      <td>156331</td>\n",
       "      <td>GOMEZ ROJAS, ABIGAIL IBETH</td>\n",
       "      <td>MEDICINA VETERINARIA</td>\n",
       "      <td>346.875</td>\n",
       "      <td>NaN</td>\n",
       "      <td>NaN</td>\n",
       "      <td>2024I</td>\n",
       "      <td>NaN</td>\n",
       "      <td>NaN</td>\n",
       "    </tr>\n",
       "    <tr>\n",
       "      <th>52654</th>\n",
       "      <td>305432</td>\n",
       "      <td>CARDENAS ORTEGA, ANGELO SEBASTIAN</td>\n",
       "      <td>INGENIERÍA DE SOFTWARE</td>\n",
       "      <td>1028.250</td>\n",
       "      <td>NaN</td>\n",
       "      <td>NaN</td>\n",
       "      <td>2024I</td>\n",
       "      <td>NaN</td>\n",
       "      <td>NaN</td>\n",
       "    </tr>\n",
       "    <tr>\n",
       "      <th>7881</th>\n",
       "      <td>820871</td>\n",
       "      <td>VILCA VASQUEZ, JOSSELYN PILAR</td>\n",
       "      <td>DERECHO</td>\n",
       "      <td>881.500</td>\n",
       "      <td>NaN</td>\n",
       "      <td>NaN</td>\n",
       "      <td>2023II</td>\n",
       "      <td>NaN</td>\n",
       "      <td>NaN</td>\n",
       "    </tr>\n",
       "    <tr>\n",
       "      <th>61622</th>\n",
       "      <td>747145</td>\n",
       "      <td>HORNA TARAZONA, DARYHELI ISABEL</td>\n",
       "      <td>COMUNICACIÓN SOCIAL</td>\n",
       "      <td>742.875</td>\n",
       "      <td>NaN</td>\n",
       "      <td>NaN</td>\n",
       "      <td>2024II</td>\n",
       "      <td>NaN</td>\n",
       "      <td>NaN</td>\n",
       "    </tr>\n",
       "    <tr>\n",
       "      <th>18026</th>\n",
       "      <td>294554</td>\n",
       "      <td>INGA SOPLIN, GIOMAR ALECXIS</td>\n",
       "      <td>INGENIERÍA CIVIL</td>\n",
       "      <td>1133.875</td>\n",
       "      <td>11.0</td>\n",
       "      <td>ALCANZO VACANTE</td>\n",
       "      <td>2023II</td>\n",
       "      <td>NaN</td>\n",
       "      <td>NaN</td>\n",
       "    </tr>\n",
       "    <tr>\n",
       "      <th>67467</th>\n",
       "      <td>556705</td>\n",
       "      <td>REYES REYNALDI, PAOLO DIMAS</td>\n",
       "      <td>ECONOMÍA</td>\n",
       "      <td>1300.875</td>\n",
       "      <td>18.0</td>\n",
       "      <td>ALCANZO VACANTE PRIMERA OPCIÃN</td>\n",
       "      <td>2024II</td>\n",
       "      <td>NaN</td>\n",
       "      <td>NaN</td>\n",
       "    </tr>\n",
       "    <tr>\n",
       "      <th>50822</th>\n",
       "      <td>275720</td>\n",
       "      <td>ANCHAYA ORTIZ, FARIID JOEL</td>\n",
       "      <td>INGENIERÍA DE SISTEMAS</td>\n",
       "      <td>626.875</td>\n",
       "      <td>NaN</td>\n",
       "      <td>NaN</td>\n",
       "      <td>2024I</td>\n",
       "      <td>NaN</td>\n",
       "      <td>NaN</td>\n",
       "    </tr>\n",
       "    <tr>\n",
       "      <th>55900</th>\n",
       "      <td>856316</td>\n",
       "      <td>PANTA ZELADA, FERNANDO MARCELO</td>\n",
       "      <td>MEDICINA HUMANA</td>\n",
       "      <td>1197.250</td>\n",
       "      <td>11.0</td>\n",
       "      <td>ALCANZO VACANTE SEGUNDA OPCIÃN</td>\n",
       "      <td>2024II</td>\n",
       "      <td>TEC. MED. RADIOLOGÍA</td>\n",
       "      <td>NaN</td>\n",
       "    </tr>\n",
       "  </tbody>\n",
       "</table>\n",
       "</div>"
      ],
      "text/plain": [
       "       student_id                          full_name                career_1  \\\n",
       "28644      845685     REYES RUCANA, VICTOR SEBASTIAN         MEDICINA HUMANA   \n",
       "51737      249355   MEDRANO VILLAMAGUA, LEYTON JAREN  INGENIERÍA DE SISTEMAS   \n",
       "37766      156331         GOMEZ ROJAS, ABIGAIL IBETH    MEDICINA VETERINARIA   \n",
       "52654      305432  CARDENAS ORTEGA, ANGELO SEBASTIAN  INGENIERÍA DE SOFTWARE   \n",
       "7881       820871      VILCA VASQUEZ, JOSSELYN PILAR                 DERECHO   \n",
       "61622      747145    HORNA TARAZONA, DARYHELI ISABEL     COMUNICACIÓN SOCIAL   \n",
       "18026      294554        INGA SOPLIN, GIOMAR ALECXIS        INGENIERÍA CIVIL   \n",
       "67467      556705        REYES REYNALDI, PAOLO DIMAS                ECONOMÍA   \n",
       "50822      275720         ANCHAYA ORTIZ, FARIID JOEL  INGENIERÍA DE SISTEMAS   \n",
       "55900      856316     PANTA ZELADA, FERNANDO MARCELO         MEDICINA HUMANA   \n",
       "\n",
       "          score  merit_order                      observation periodo  \\\n",
       "28644   950.500          NaN                              NaN   2024I   \n",
       "51737   257.250          NaN                              NaN   2024I   \n",
       "37766   346.875          NaN                              NaN   2024I   \n",
       "52654  1028.250          NaN                              NaN   2024I   \n",
       "7881    881.500          NaN                              NaN  2023II   \n",
       "61622   742.875          NaN                              NaN  2024II   \n",
       "18026  1133.875         11.0                  ALCANZO VACANTE  2023II   \n",
       "67467  1300.875         18.0  ALCANZO VACANTE PRIMERA OPCIÃN  2024II   \n",
       "50822   626.875          NaN                              NaN   2024I   \n",
       "55900  1197.250         11.0  ALCANZO VACANTE SEGUNDA OPCIÃN  2024II   \n",
       "\n",
       "                   career_2 location  \n",
       "28644                   NaN      NaN  \n",
       "51737                   NaN      NaN  \n",
       "37766                   NaN      NaN  \n",
       "52654                   NaN      NaN  \n",
       "7881                    NaN      NaN  \n",
       "61622                   NaN      NaN  \n",
       "18026                   NaN      NaN  \n",
       "67467                   NaN      NaN  \n",
       "50822                   NaN      NaN  \n",
       "55900  TEC. MED. RADIOLOGÍA      NaN  "
      ]
     },
     "execution_count": 11,
     "metadata": {},
     "output_type": "execute_result"
    }
   ],
   "source": [
    "resultados_exam.sample(10)"
   ]
  },
  {
   "cell_type": "code",
   "execution_count": null,
   "metadata": {},
   "outputs": [],
   "source": []
  },
  {
   "cell_type": "code",
   "execution_count": 12,
   "metadata": {},
   "outputs": [
    {
     "data": {
      "text/plain": [
       "array(['2023II', '2024I', '2024II'], dtype=object)"
      ]
     },
     "execution_count": 12,
     "metadata": {},
     "output_type": "execute_result"
    }
   ],
   "source": [
    "resultados_exam['periodo'].unique()"
   ]
  },
  {
   "cell_type": "code",
   "execution_count": 13,
   "metadata": {},
   "outputs": [
    {
     "data": {
      "text/plain": [
       "array([nan, 'ALCANZO VACANTE', 'AUSENTE',\n",
       "       'ALCANZO VACANTE SEGUNDA OPCIÓN', 'ANULADO',\n",
       "       'ALCANZO VACANTE SEGUNDA OPCIÃ\\x93N',\n",
       "       'ALCANZO VACANTE PRIMERA OPCIÃ\\x93N'], dtype=object)"
      ]
     },
     "execution_count": 13,
     "metadata": {},
     "output_type": "execute_result"
    }
   ],
   "source": [
    "resultados_exam['observation'].unique()"
   ]
  },
  {
   "cell_type": "code",
   "execution_count": 14,
   "metadata": {},
   "outputs": [],
   "source": [
    "#corregimos los textos\n",
    "\n",
    "resultados_exam['observation'] = resultados_exam['observation'].replace({\n",
    "    'ALCANZO VACANTE SEGUNDA OPCIÃ\\x93N':'ALCANZO VACANTE SEGUNDA OPCIÓN',\n",
    "    'ALCANZO VACANTE PRIMERA OPCIÃ\\x93N':'ALCANZO VACANTE PRIMERA OPCION',\n",
    "    'ALCANZO VACANTE':'ALCANZO VACANTE PRIMERA OPCION'\n",
    "})"
   ]
  },
  {
   "cell_type": "code",
   "execution_count": 15,
   "metadata": {},
   "outputs": [
    {
     "data": {
      "text/plain": [
       "array(['NO ALCANZO VACANTE', 'ALCANZO VACANTE PRIMERA OPCION', 'AUSENTE',\n",
       "       'ALCANZO VACANTE SEGUNDA OPCIÓN', 'ANULADO'], dtype=object)"
      ]
     },
     "execution_count": 15,
     "metadata": {},
     "output_type": "execute_result"
    }
   ],
   "source": [
    "resultados_exam['observation'] = resultados_exam['observation'].fillna('NO ALCANZO VACANTE')\n",
    "resultados_exam['observation'].unique()"
   ]
  },
  {
   "cell_type": "code",
   "execution_count": 16,
   "metadata": {},
   "outputs": [
    {
     "data": {
      "text/plain": [
       "array(['LIMA', 'S.J.L', 'HUARAL', 'VILLA RICA', 'CHILCA', 'OYÓN',\n",
       "       'HUARMEY'], dtype=object)"
      ]
     },
     "execution_count": 16,
     "metadata": {},
     "output_type": "execute_result"
    }
   ],
   "source": [
    "resultados_exam['location'] = resultados_exam['location'].fillna('LIMA')\n",
    "\n",
    "resultados_exam['location'].unique()"
   ]
  },
  {
   "cell_type": "code",
   "execution_count": 17,
   "metadata": {},
   "outputs": [
    {
     "data": {
      "text/plain": [
       "array([nan, 'OBSTETRICIA', 'TOXICOLOGÍA', 'TEC. MED. RADIOLOGÍA',\n",
       "       'CIENCIAS DE LOS ALIMENTOS', 'TEC. MED. TERAPIA OCUPACIONAL',\n",
       "       'TEC. MED. TERAPIA FÍSICA Y REHABILITACIÓN', 'EDUCACIÓN INICIAL',\n",
       "       'BIBLIOTECOLOGÍA Y CIENCIAS DE LA INFORMACIÓN',\n",
       "       'CONSERVACIÓN Y RESTAURACIÓN', 'GEOGRAFÍA', 'ARTE', 'ANTROPOLOGÍA',\n",
       "       'ARQUEOLOGÍA', 'FILOSOFÍA',\n",
       "       'PRESUPUESTO Y FINANZAS PÚBLICAS - LIMA', 'ADMINISTRACIÓN - S.J.L',\n",
       "       'GESTIÓN TRIBUTARIA - LIMA', 'ADMINISTRACIÓN DE TURISMO - LIMA',\n",
       "       'ECONOMÍA PÚBLICA', 'CONTABILIDAD - S.J.L',\n",
       "       'AUDITORÍA EMPRESARIAL Y DEL SECTOR PÚBLICO - LIMA',\n",
       "       'CIENCIAS BIOLÓGICAS', 'QUÍMICA', 'ESTADÍSTICA',\n",
       "       'MICROBIOLOGÍA Y PARASITOLOGÍA',\n",
       "       'AUDITORÍA EMPRESARIAL Y DEL SECTOR PÚBLICO - S.J.L',\n",
       "       'INGENIERÍA METALÚRGICA', 'INGENIERÍA AGROINDUSTRIAL',\n",
       "       'INGENIERÍA QUÍMICA', 'INGENIERÍA ELECTRÓNICA',\n",
       "       'INGENIERÍA DE TELECOMUNICACIONES',\n",
       "       'INGENIERÍA MECÁNICA DE FLUIDOS',\n",
       "       'INGENIERÍA DE SEGURIDAD Y SALUD EN EL TRABAJO',\n",
       "       'INGENIERÍA GEOGRÁFICA', 'INGENIERÍA TEXTIL Y CONFECCIONES',\n",
       "       'INGENIERÍA ELÉCTRICA', 'CIENCIAS DE LA COMPUTACIÓN',\n",
       "       'PSICOLOGÍA - HUARMEY', 'PSICOLOGÍA - VILLA RICA',\n",
       "       'PSICOLOGÍA - CHILCA', 'DERECHO - VILLA RICA', 'LINGUÍSTICA',\n",
       "       'HISTORIA', 'ADMINISTRACIÓN DE LA GASTRONOMÍA',\n",
       "       'COMPUTACIÓN CIENTÍFICA', 'CIENCIAS BIOLÓGICAS - LIMA',\n",
       "       'CONTABILIDAD - HUARMEY', 'ADMINISTRACIÓN DE TURISMO - S.J.L',\n",
       "       'ADMINISTRACIÓN - HUARAL', 'INGENIERÍA AGROINDUSTRIAL - LIMA',\n",
       "       'INGENIERÍA ELÉCTRICA - LIMA', 'INGENIERÍA DE MINAS - OYÓN'],\n",
       "      dtype=object)"
      ]
     },
     "execution_count": 17,
     "metadata": {},
     "output_type": "execute_result"
    }
   ],
   "source": [
    "resultados_exam['career_2'].unique()"
   ]
  },
  {
   "cell_type": "code",
   "execution_count": 18,
   "metadata": {},
   "outputs": [
    {
     "data": {
      "text/html": [
       "<div>\n",
       "<style scoped>\n",
       "    .dataframe tbody tr th:only-of-type {\n",
       "        vertical-align: middle;\n",
       "    }\n",
       "\n",
       "    .dataframe tbody tr th {\n",
       "        vertical-align: top;\n",
       "    }\n",
       "\n",
       "    .dataframe thead th {\n",
       "        text-align: right;\n",
       "    }\n",
       "</style>\n",
       "<table border=\"1\" class=\"dataframe\">\n",
       "  <thead>\n",
       "    <tr style=\"text-align: right;\">\n",
       "      <th></th>\n",
       "      <th>student_id</th>\n",
       "      <th>full_name</th>\n",
       "      <th>career_1</th>\n",
       "      <th>score</th>\n",
       "      <th>merit_order</th>\n",
       "      <th>observation</th>\n",
       "      <th>periodo</th>\n",
       "      <th>career_2</th>\n",
       "      <th>location</th>\n",
       "    </tr>\n",
       "  </thead>\n",
       "  <tbody>\n",
       "    <tr>\n",
       "      <th>75487</th>\n",
       "      <td>297540</td>\n",
       "      <td>VILCAS OTAÃE, WILLIAMS JEFFREY</td>\n",
       "      <td>CIENCIAS DE LA COMPUTACIÓN</td>\n",
       "      <td>712.500</td>\n",
       "      <td>NaN</td>\n",
       "      <td>NO ALCANZO VACANTE</td>\n",
       "      <td>2024II</td>\n",
       "      <td>NaN</td>\n",
       "      <td>LIMA</td>\n",
       "    </tr>\n",
       "    <tr>\n",
       "      <th>75488</th>\n",
       "      <td>267514</td>\n",
       "      <td>VILLAVICENCIO MERELLA, PAOLO ALONSO</td>\n",
       "      <td>CIENCIAS DE LA COMPUTACIÓN</td>\n",
       "      <td>1095.000</td>\n",
       "      <td>10.0</td>\n",
       "      <td>ALCANZO VACANTE PRIMERA OPCION</td>\n",
       "      <td>2024II</td>\n",
       "      <td>NaN</td>\n",
       "      <td>LIMA</td>\n",
       "    </tr>\n",
       "    <tr>\n",
       "      <th>75489</th>\n",
       "      <td>296074</td>\n",
       "      <td>YOLA MUCHCCO, JAIR SEBASTIAN</td>\n",
       "      <td>CIENCIAS DE LA COMPUTACIÓN</td>\n",
       "      <td>838.125</td>\n",
       "      <td>NaN</td>\n",
       "      <td>NO ALCANZO VACANTE</td>\n",
       "      <td>2024II</td>\n",
       "      <td>NaN</td>\n",
       "      <td>LIMA</td>\n",
       "    </tr>\n",
       "    <tr>\n",
       "      <th>75490</th>\n",
       "      <td>233635</td>\n",
       "      <td>ZAPATA LLAXA, JORGE ANDRES</td>\n",
       "      <td>CIENCIAS DE LA COMPUTACIÓN</td>\n",
       "      <td>1028.250</td>\n",
       "      <td>17.0</td>\n",
       "      <td>ALCANZO VACANTE PRIMERA OPCION</td>\n",
       "      <td>2024II</td>\n",
       "      <td>NaN</td>\n",
       "      <td>LIMA</td>\n",
       "    </tr>\n",
       "    <tr>\n",
       "      <th>75491</th>\n",
       "      <td>239418</td>\n",
       "      <td>ZAPATA MONTALVO, BENJAMIN JORGE</td>\n",
       "      <td>CIENCIAS DE LA COMPUTACIÓN</td>\n",
       "      <td>795.875</td>\n",
       "      <td>NaN</td>\n",
       "      <td>NO ALCANZO VACANTE</td>\n",
       "      <td>2024II</td>\n",
       "      <td>NaN</td>\n",
       "      <td>LIMA</td>\n",
       "    </tr>\n",
       "  </tbody>\n",
       "</table>\n",
       "</div>"
      ],
      "text/plain": [
       "      student_id                            full_name  \\\n",
       "75487     297540      VILCAS OTAÃE, WILLIAMS JEFFREY   \n",
       "75488     267514  VILLAVICENCIO MERELLA, PAOLO ALONSO   \n",
       "75489     296074         YOLA MUCHCCO, JAIR SEBASTIAN   \n",
       "75490     233635           ZAPATA LLAXA, JORGE ANDRES   \n",
       "75491     239418      ZAPATA MONTALVO, BENJAMIN JORGE   \n",
       "\n",
       "                         career_1     score  merit_order  \\\n",
       "75487  CIENCIAS DE LA COMPUTACIÓN   712.500          NaN   \n",
       "75488  CIENCIAS DE LA COMPUTACIÓN  1095.000         10.0   \n",
       "75489  CIENCIAS DE LA COMPUTACIÓN   838.125          NaN   \n",
       "75490  CIENCIAS DE LA COMPUTACIÓN  1028.250         17.0   \n",
       "75491  CIENCIAS DE LA COMPUTACIÓN   795.875          NaN   \n",
       "\n",
       "                          observation periodo career_2 location  \n",
       "75487              NO ALCANZO VACANTE  2024II      NaN     LIMA  \n",
       "75488  ALCANZO VACANTE PRIMERA OPCION  2024II      NaN     LIMA  \n",
       "75489              NO ALCANZO VACANTE  2024II      NaN     LIMA  \n",
       "75490  ALCANZO VACANTE PRIMERA OPCION  2024II      NaN     LIMA  \n",
       "75491              NO ALCANZO VACANTE  2024II      NaN     LIMA  "
      ]
     },
     "execution_count": 18,
     "metadata": {},
     "output_type": "execute_result"
    }
   ],
   "source": [
    "#analizamos los tipos de datos y corregimos en base a las necesidades para el analisis\n",
    "resultados_exam['student_id'] = resultados_exam['student_id'].astype(object)\n",
    "\n",
    "resultados_exam.tail()\n"
   ]
  },
  {
   "cell_type": "code",
   "execution_count": 21,
   "metadata": {},
   "outputs": [],
   "source": [
    "resultados_exam.to_csv('resultados_consolidados.csv', index=False)"
   ]
  },
  {
   "cell_type": "code",
   "execution_count": 20,
   "metadata": {},
   "outputs": [],
   "source": [
    "# resultados_exam.to_csv('resultados examen consolidado', index=False)"
   ]
  },
  {
   "cell_type": "markdown",
   "metadata": {},
   "source": [
    "## EXPLORACION DE LOS DATOS"
   ]
  },
  {
   "cell_type": "markdown",
   "metadata": {},
   "source": [
    "¿Cuál es la distribución de puntajes entre los estudiantes de diferentes carreras?\n",
    "Analiza si hay carreras con puntajes consistentemente más altos o más bajos.\n",
    "\n",
    "¿Qué carrera tiene el puntaje más alto y quién es el estudiante asociado?\n",
    "Identifica al estudiante con el puntaje más alto y la carrera correspondiente.\n",
    "\n",
    "¿Cuántos estudiantes lograron alcanzar un puesto vacante en comparación con los que no lo hicieron?\n",
    "Compara el número de estudiantes que tienen una observación de \"ALCANZO VACANTE\" frente a aquellos sin esta observación.\n",
    "\n",
    "¿Cuál es el promedio de puntajes por carrera?\n",
    "Calcula el promedio de puntajes para cada carrera para ver cómo se comparan entre sí.\n",
    "\n",
    "¿Hay alguna correlación entre el puntaje y el orden de mérito?\n",
    "Investiga si existe alguna relación entre las puntuaciones y el orden de mérito, aunque algunos valores sean NaN.\n",
    "\n",
    "¿Qué porcentaje de estudiantes tiene un puntaje por encima de 600?\n",
    "Determina cuántos estudiantes tienen un puntaje superior a 600 en relación al total.\n",
    "\n",
    "¿Cuál es el período con la mayor cantidad de estudiantes y cuál tiene los puntajes más altos?\n",
    "Analiza la cantidad de estudiantes en cada período y su rendimiento promedio.\n",
    "\n",
    "¿Existen diferencias notables en puntajes entre las diferentes cohortes de estudiantes (2023II vs. 2024I vs. 2024II)?\n",
    "Compara los puntajes de los estudiantes en las diferentes cohortes.\n",
    "\n",
    "¿Qué carreras tienen más estudiantes sin puntaje registrado?\n",
    "Identifica qué carreras tienen más estudiantes con puntajes NaN."
   ]
  },
  {
   "cell_type": "markdown",
   "metadata": {},
   "source": []
  },
  {
   "cell_type": "markdown",
   "metadata": {},
   "source": [
    "1. Distribucion de los puntajes de los estudiantes de las carreras\n",
    "\n",
    "    Se creo una funcion que muestra un histograma con la distribucion de los puntajes por cada carrera y por perido que escogieron los postulantes como primera opcion."
   ]
  },
  {
   "cell_type": "code",
   "execution_count": 102,
   "metadata": {},
   "outputs": [],
   "source": [
    "# Definimos la función para analizar la distribución de puntajes por carrera\n",
    "def hist_career(career, periodo):\n",
    "    # Filtrar el DataFrame para obtener solo los datos de la carrera deseada\n",
    "    career_data = resultados_exam[(resultados_exam['career_1'] == career) & (resultados_exam['periodo'] == periodo)]\n",
    "    \n",
    "    # Verificar si hay datos para la carrera especificada\n",
    "    if not career_data.empty:\n",
    "        # Crear un histograma de los puntajes\n",
    "        plt.figure(figsize=(10, 6))\n",
    "        sns.histplot(career_data['score'], bins=10, kde=True)  # Agregar KDE para suavizar la curva\n",
    "        plt.title(f'DISTRIBUCIÓN DE PUNTAJES EN {career} - {periodo}')\n",
    "        plt.xlabel('Puntaje')\n",
    "        plt.ylabel('Frecuencia')\n",
    "        plt.axvline(career_data['score'].max(), color='red', linestyle='--', label='Puntaje Máximo')\n",
    "        plt.legend()\n",
    "        plt.show()\n",
    "        \n",
    "        # Imprimir el puntaje máximo\n",
    "        max_score = career_data['score'].max()\n",
    "        min_score = career_data[career_data['observation'] == 'ALCANZO VACANTE PRIMERA OPCION']['score'].min()\n",
    "    \n",
    "        print(f'EL PUNTAJE MÁXIMO PARA {career} ES {max_score} Y EL PUNTAJE MINIMO ES {min_score} EN EL PERIODO {periodo}')\n",
    "    else:\n",
    "        print(f'No hay datos disponibles para la carrera {career}.')"
   ]
  },
  {
   "cell_type": "code",
   "execution_count": null,
   "metadata": {},
   "outputs": [],
   "source": [
    "resultados_exam['career_1'].unique()"
   ]
  },
  {
   "cell_type": "code",
   "execution_count": null,
   "metadata": {},
   "outputs": [],
   "source": [
    "hist_career('INGENIERÍA DE SISTEMAS', '2024II')  # Reemplaza con la carrera que deseas analizar"
   ]
  },
  {
   "cell_type": "markdown",
   "metadata": {},
   "source": [
    "Qué carrera tiene el puntaje más alto y quién es el estudiante asociado?\n",
    "Identifica al estudiante con el puntaje más alto y la carrera correspondiente."
   ]
  },
  {
   "cell_type": "code",
   "execution_count": null,
   "metadata": {},
   "outputs": [],
   "source": [
    "highest_score = resultados_exam.loc[resultados_exam.groupby('periodo')['score'].idxmax()]\n",
    "highest_score[['full_name','career_1','score', 'periodo']]"
   ]
  },
  {
   "cell_type": "markdown",
   "metadata": {},
   "source": [
    "¿Cuántos estudiantes lograron alcanzar un puesto vacante en comparación con los que no lo hicieron?\n",
    "Compara el número de estudiantes que tienen una observación de \"ALCANZO VACANTE\" frente a aquellos sin esta observación.\n"
   ]
  },
  {
   "cell_type": "code",
   "execution_count": null,
   "metadata": {},
   "outputs": [],
   "source": [
    "resultados_exam['observation'].unique()"
   ]
  },
  {
   "cell_type": "code",
   "execution_count": 107,
   "metadata": {},
   "outputs": [],
   "source": [
    "vacant_reached = resultados_exam[\n",
    "    (resultados_exam['observation'] == 'ALCANZO VACANTE PRIMERA OPCION') | (resultados_exam['observation'] == 'ALCANZO VACANTE SEGUNDA OPCIÓN') | (resultados_exam['observation'] == 'NO ALCANZO VACANTE')\n",
    "]"
   ]
  },
  {
   "cell_type": "code",
   "execution_count": null,
   "metadata": {},
   "outputs": [],
   "source": [
    "vacant_reached['observation'].unique()"
   ]
  },
  {
   "cell_type": "code",
   "execution_count": null,
   "metadata": {},
   "outputs": [],
   "source": [
    "comparison = vacant_reached.groupby(['periodo','observation'])['observation'].count().reset_index(name = 'count')\n",
    "comparison"
   ]
  },
  {
   "cell_type": "code",
   "execution_count": null,
   "metadata": {},
   "outputs": [],
   "source": [
    "# Pivotar el DataFrame para tener 'observation' como columnas\n",
    "pivot_comparison = comparison.pivot(index='periodo', columns='observation', values='count').fillna(0)\n",
    "pivot_comparison"
   ]
  },
  {
   "cell_type": "code",
   "execution_count": null,
   "metadata": {},
   "outputs": [],
   "source": [
    "# Crear el gráfico de barras apilado\n",
    "pivot_comparison.plot(kind = 'bar')\n",
    "# Configurar etiquetas y título\n",
    "plt.title('Comparacion de ingresados y no ingresados por Periodo')\n",
    "plt.xlabel('Periodo')\n",
    "plt.ylabel('Count')\n",
    "plt.legend(title='OBSEERVACIONES', bbox_to_anchor=(1.05, 1), loc='upper left')"
   ]
  },
  {
   "cell_type": "markdown",
   "metadata": {},
   "source": [
    "¿Cuál es el maximo de puntaje por carrera?\n",
    "Calcula el promedio de puntaje para cada carrera para ver cómo se comparan entre sí."
   ]
  },
  {
   "cell_type": "code",
   "execution_count": 112,
   "metadata": {},
   "outputs": [],
   "source": [
    "def mean_score(periodo):\n",
    "\n",
    "    #filtramos por periodo\n",
    "    periodo_filter = resultados_exam[resultados_exam['periodo'] == periodo]\n",
    "\n",
    "    #agrupamos por carrera y mostramos el promedio\n",
    "    max_score = periodo_filter.groupby('career_1')['score'].max().sort_values(ascending = False).reset_index()\n",
    "    top10 = max_score.nlargest(20, 'score')\n",
    "    #creamos un grafico de lineas\n",
    "    plt.figure(figsize = (10,6))\n",
    "    sns.lineplot(x = 'career_1', y = 'score', data=top10)\n",
    "    plt.xlabel('Carrera')\n",
    "    plt.ylabel('Puntaje maximo')\n",
    "    plt.title(f'Puntaje maximo por carrera en el periodo {periodo}')\n",
    "    plt.xticks(rotation = 90)\n",
    "   \n"
   ]
  },
  {
   "cell_type": "code",
   "execution_count": null,
   "metadata": {},
   "outputs": [],
   "source": [
    "mean_score(\"2025I\")"
   ]
  },
  {
   "cell_type": "markdown",
   "metadata": {},
   "source": [
    "¿Hay alguna correlación entre el puntaje y el orden de mérito?\n",
    "Investiga si existe alguna relación entre las puntuaciones y el orden de mérito, aunque algunos valores sean NaN.\n"
   ]
  },
  {
   "cell_type": "code",
   "execution_count": 114,
   "metadata": {},
   "outputs": [],
   "source": [
    "df_numerico = resultados_exam.select_dtypes(include = 'number')"
   ]
  },
  {
   "cell_type": "code",
   "execution_count": null,
   "metadata": {},
   "outputs": [],
   "source": [
    "correlation = df_numerico.corr()\n",
    "correlation"
   ]
  },
  {
   "cell_type": "code",
   "execution_count": null,
   "metadata": {},
   "outputs": [],
   "source": [
    "sns.heatmap(correlation, annot = True, cmap = 'coolwarm', linewidths=0.5)"
   ]
  },
  {
   "cell_type": "markdown",
   "metadata": {},
   "source": [
    "En primera instancia se puede observar que existe una ligera correlacion negativa entre ambas variables. Se podrá observar mejor con un grafico de regresion"
   ]
  },
  {
   "cell_type": "code",
   "execution_count": null,
   "metadata": {},
   "outputs": [],
   "source": [
    "sns.lineplot(x= 'merit_order', y = 'score', data = resultados_exam)"
   ]
  },
  {
   "cell_type": "markdown",
   "metadata": {},
   "source": [
    "Aqui se puede apreciar una tendencia negativa, ya que los orden de meritos mas cercanos al 0 tienden a tener puntajes mas altos a los que mas alejados. Lo cual es algo obvio, ya que los primeros puestos tienden a tener los puntajes mas altos para que puedan alcanzar una vacante."
   ]
  },
  {
   "cell_type": "markdown",
   "metadata": {},
   "source": [
    "¿Qué porcentaje de estudiantes por encima de 900 alcanzaron vacante?\n",
    "Determina cuántos estudiantes con un puntaje superior a 900 alcanzaron una vacante"
   ]
  },
  {
   "cell_type": "code",
   "execution_count": 118,
   "metadata": {},
   "outputs": [],
   "source": [
    "def score_900(periodo):\n",
    "    score_period = resultados_exam[(resultados_exam['periodo'] == periodo) & (resultados_exam['score'] >= 900)] #filtramos por periodo y por puntajes mayores o iguales 900\n",
    "\n",
    "    proportion = score_period.groupby('observation')['observation'].count().reset_index(name = 'count')  #agrupamos por observacion para contar cuantos postulantes alcanzaron vacantes\n",
    "    proportion['proportion'] = proportion['count'] / proportion['count'].sum() * 100 # mostramos el porcentaje\n",
    "    \n",
    "    labels = proportion['observation'] #denominamos las etiquetas\n",
    "    plt.pie(proportion['proportion'], labels=labels, autopct= '%1.1f%%') #mostramos los porcentajes en un grafico de pie\n",
    "    plt.title(f\"PROPORCION DE LOS POSTULANTES CON PUNTAJE MAYOR A 900 PUNTOS DEL {periodo}\")\n"
   ]
  },
  {
   "cell_type": "code",
   "execution_count": null,
   "metadata": {},
   "outputs": [],
   "source": [
    "score_900('2024II')"
   ]
  },
  {
   "cell_type": "markdown",
   "metadata": {},
   "source": [
    "¿Cuál es el período con la mayor cantidad de estudiantes y cuál tiene los puntajes más altos?\n",
    "Analiza la cantidad de estudiantes en cada período y su rendimiento promedio."
   ]
  },
  {
   "cell_type": "code",
   "execution_count": null,
   "metadata": {},
   "outputs": [],
   "source": [
    "period_high = resultados_exam.groupby('periodo').agg({'full_name':'nunique', 'score':'max'}).reset_index()\n",
    "period_high"
   ]
  },
  {
   "cell_type": "code",
   "execution_count": null,
   "metadata": {},
   "outputs": [],
   "source": [
    "plt.figure(figsize=(10, 6))\n",
    "x = range(len(period_high['periodo']))\n",
    "\n",
    "# Graficar las barras\n",
    "plt.bar(x, period_high['full_name'], label='Amount students', color='skyblue')\n",
    "\n",
    "# Graficar la línea de score\n",
    "plt.plot(x, period_high['score'], color='orange', label='Línea de Score')\n",
    "\n",
    "# Configuración del gráfico\n",
    "plt.xticks(x, period_high['periodo'])\n",
    "plt.xlabel('Periodo')\n",
    "plt.ylabel('Score')\n",
    "plt.title('Gráfico de Barras con Línea de Score')\n",
    "plt.legend()\n",
    "\n",
    "\n",
    "# Mostrar el gráfico\n",
    "plt.show()"
   ]
  },
  {
   "cell_type": "markdown",
   "metadata": {},
   "source": [
    "¿Existen diferencias notables en puntajes entre las diferentes cohortes de carreras (2023II vs. 2024I vs. 2024II)?\n",
    "Compara los puntajes de las carreras en las diferentes cohortes."
   ]
  },
  {
   "cell_type": "code",
   "execution_count": 122,
   "metadata": {},
   "outputs": [],
   "source": [
    "def cohort_career(career):\n",
    "    career_filtered = resultados_exam[(resultados_exam['career_1'] == career) & (resultados_exam['observation'] == 'ALCANZO VACANTE PRIMERA OPCION')]\n",
    "\n",
    "    if not career_filtered.empty:\n",
    "         cohort_students = career_filtered.pivot_table(index = 'career_1', columns='periodo', values='score', aggfunc='max')\n",
    "         print(cohort_students)\n",
    "         sns.heatmap(cohort_students, annot=True, fmt=\".2f\")\n",
    "         plt.xlabel('Periodo')\n",
    "         plt.ylabel('')\n",
    "         plt.show()\n",
    "    else:\n",
    "        print('No se encontraron datos para la carrera seleccionada')\n"
   ]
  },
  {
   "cell_type": "code",
   "execution_count": null,
   "metadata": {},
   "outputs": [],
   "source": [
    "cohort_career('ADMINISTRACIÓN DE NEGOCIOS INTERNACIONALES')\n"
   ]
  },
  {
   "cell_type": "markdown",
   "metadata": {},
   "source": [
    "¿Qué carreras tienen más estudiantes sin puntaje registrado?\n",
    "Identifica qué carreras tienen más estudiantes con puntajes NaN.\n"
   ]
  },
  {
   "cell_type": "code",
   "execution_count": null,
   "metadata": {},
   "outputs": [],
   "source": []
  },
  {
   "cell_type": "code",
   "execution_count": null,
   "metadata": {},
   "outputs": [],
   "source": [
    "#filtramos el dataframe con los postulantes que no ingresaron\n",
    "sin_vacante = resultados_exam[(resultados_exam['observation'] == 'NO ALCANZO VACANTE')]\n",
    "sin_vacante"
   ]
  },
  {
   "cell_type": "code",
   "execution_count": null,
   "metadata": {},
   "outputs": [],
   "source": [
    "observation = sin_vacante.pivot_table(index='observation', columns='periodo', values='student_id', aggfunc='count').sort_values(by = 'observation',ascending=False).reset_index()\n",
    "observation"
   ]
  },
  {
   "cell_type": "code",
   "execution_count": null,
   "metadata": {},
   "outputs": [],
   "source": [
    "# Convertir a formato largo con melt\n",
    "df_melt = observation.melt(id_vars='observation', var_name='periodo', value_name='cantidad')\n",
    "df_melt"
   ]
  },
  {
   "cell_type": "code",
   "execution_count": null,
   "metadata": {},
   "outputs": [],
   "source": [
    "labels = ['NO ALCANZO VACANTE']\n",
    "sns.lineplot(x='periodo', y='cantidad', data=df_melt)\n",
    "plt.legend(labels=labels)\n",
    "plt.title('CANTIDAD DE POSTULANTES QUE NO ALCANZARON VACANTES POR PERIODO')"
   ]
  },
  {
   "cell_type": "code",
   "execution_count": 128,
   "metadata": {},
   "outputs": [],
   "source": [
    "def wo_vacant(career):\n",
    "    \n",
    "    sin_vacante_filtered = sin_vacante[sin_vacante['career_1'] == career]\n",
    "\n",
    "    if not sin_vacante_filtered.empty:\n",
    "     wo_lineplot = sin_vacante_filtered.pivot_table(index = 'career_1', columns='periodo', values='student_id', aggfunc='count').reset_index()\n",
    "\n",
    "     career_wo_vacant_melt = wo_lineplot.melt(id_vars= 'career_1', var_name='periodo', value_name='cantidad')\n",
    "     sns.lineplot(x='periodo', y='cantidad', data=career_wo_vacant_melt, marker = 'o')\n",
    "     plt.title(f'CANTIDAD DE POSTULANTES QUE NO ALCANZARON VACANTE DE {career}')\n",
    "     for i in range(career_wo_vacant_melt.shape[0]):\n",
    "        plt.text(career_wo_vacant_melt['periodo'][i], career_wo_vacant_melt['cantidad'][i], str(career_wo_vacant_melt['cantidad'][i]), \n",
    "             ha='center', va='bottom')\n",
    "\n",
    "    else:\n",
    "        print(f'No se encontraron datos para la carrera de {career}')\n",
    "    \n",
    "    return career_wo_vacant_melt\n"
   ]
  },
  {
   "cell_type": "code",
   "execution_count": null,
   "metadata": {},
   "outputs": [],
   "source": [
    "wo_vacant('INGENIERÍA DE SOFTWARE')"
   ]
  },
  {
   "cell_type": "code",
   "execution_count": null,
   "metadata": {},
   "outputs": [],
   "source": [
    "resultados_exam.head()"
   ]
  },
  {
   "cell_type": "code",
   "execution_count": null,
   "metadata": {},
   "outputs": [],
   "source": [
    "resultados_exam.info()"
   ]
  },
  {
   "cell_type": "code",
   "execution_count": 132,
   "metadata": {},
   "outputs": [],
   "source": [
    "areas_examen = [\n",
    "    {'area_code': 'A', 'career_1': 'MEDICINA HUMANA'},\n",
    "    {'area_code': 'A', 'career_1': 'OBSTETRICIA'},\n",
    "    {'area_code': 'A', 'career_1': 'ENFERMERÍA'},\n",
    "    {'area_code': 'A', 'career_1': 'TECNOLOGÍA MÉDICA'},\n",
    "    {'area_code': 'A', 'career_1': 'LABORATORIO CLÍNICO Y ANATOMÍA PATOLÓGICA'},\n",
    "    {'area_code': 'A', 'career_1': 'TERAPIA FÍSICA Y REHABILITACIÓN'},\n",
    "    {'area_code': 'A', 'career_1': 'RADIOLOGÍA'},\n",
    "    {'area_code': 'A', 'career_1': 'TERAPIA OCUPACIONAL'},\n",
    "    {'area_code': 'A', 'career_1': 'NUTRICIÓN'},\n",
    "    {'area_code': 'A', 'career_1': 'FARMACIA Y BIOQUÍMICA'},\n",
    "    {'area_code': 'A', 'career_1': 'CIENCIAS DE LOS ALIMENTOS'},\n",
    "    {'area_code': 'A', 'career_1': 'TOXICOLOGÍA'},\n",
    "    {'area_code': 'A', 'career_1': 'ODONTOLOGÍA'},\n",
    "    {'area_code': 'A', 'career_1': 'MEDICINA VETERINARIA'},\n",
    "    {'area_code': 'A', 'career_1': 'PSICOLOGÍA'},\n",
    "    {'area_code': 'A', 'career_1': 'PSICOLOGÍA ORGANIZACIONAL Y DE LA GESTIÓN HUMANA'},\n",
    "    {'area_code': 'B', 'career_1': 'QUÍMICA'},\n",
    "    {'area_code': 'B', 'career_1': 'CIENCIAS BIOLÓGICAS'},\n",
    "    {'area_code': 'B', 'career_1': 'GENÉTICA Y BIOTECNOLOGÍA'},\n",
    "    {'area_code': 'B', 'career_1': 'MICROBIOLOGÍA Y PARASITOLOGÍA'},\n",
    "    {'area_code': 'B', 'career_1': 'FÍSICA'},\n",
    "    {'area_code': 'B', 'career_1': 'MATEMÁTICA'},\n",
    "    {'area_code': 'B', 'career_1': 'ESTADÍSTICA'},\n",
    "    {'area_code': 'B', 'career_1': 'INVESTIGACIÓN OPERATIVA'},\n",
    "    {'area_code': 'B', 'career_1': 'COMPUTACIÓN CIENTÍFICA'},\n",
    "    {'area_code': 'C', 'career_1': 'INGENIERÍA QUÍMICA'},\n",
    "    {'area_code': 'C', 'career_1': 'INGENIERÍA AGROINDUSTRIAL'},\n",
    "    {'area_code': 'C', 'career_1': 'INGENIERÍA MECÁNICA DE FLUIDOS'},\n",
    "    {'area_code': 'C', 'career_1': 'INGENIERÍA GEOLÓGICA'},\n",
    "    {'area_code': 'C', 'career_1': 'INGENIERÍA GEOGRÁFICA'},\n",
    "    {'area_code': 'C', 'career_1': 'INGENIERÍA DE MINAS'},\n",
    "    {'area_code': 'C', 'career_1': 'INGENIERÍA METALÚRGICA'},\n",
    "    {'area_code': 'C', 'career_1': 'INGENIERÍA CIVIL'},\n",
    "    {'area_code': 'C', 'career_1': 'INGENIERÍA AMBIENTAL'},\n",
    "    {'area_code': 'C', 'career_1': 'INGENIERÍA INDUSTRIAL'},\n",
    "    {'area_code': 'C', 'career_1': 'INGENIERÍA TEXTIL Y CONFECCIONES'},\n",
    "    {'area_code': 'C', 'career_1': 'INGENIERÍA DE SEGURIDAD Y SALUD EN EL TRABAJO'},\n",
    "    {'area_code': 'C', 'career_1': 'INGENIERÍA ELECTRÓNICA'},\n",
    "    {'area_code': 'C', 'career_1': 'INGENIERÍA ELÉCTRICA'},\n",
    "    {'area_code': 'C', 'career_1': 'INGENIERÍA DE TELECOMUNICACIONES'},\n",
    "    {'area_code': 'C', 'career_1': 'INGENIERÍA DE SISTEMAS'},\n",
    "    {'area_code': 'C', 'career_1': 'INGENIERÍA DE SOFTWARE'},\n",
    "    {'area_code': 'E', 'career_1': 'DERECHO'},\n",
    "    {'area_code': 'E', 'career_1': 'CIENCIA POLÍTICA'},\n",
    "    {'area_code': 'E', 'career_1': 'LITERATURA'},\n",
    "    {'area_code': 'E', 'career_1': 'FILOSOFÍA'},\n",
    "    {'area_code': 'E', 'career_1': 'LINGÜÍSTICA'},\n",
    "    {'area_code': 'E', 'career_1': 'COMUNICACIÓN SOCIAL'},\n",
    "    {'area_code': 'E', 'career_1': 'ARTE'},\n",
    "    {'area_code': 'E', 'career_1': 'BIBLIOTECOLOGÍA Y CIENCIAS DE LA INFORMACIÓN'},\n",
    "    {'area_code': 'E', 'career_1': 'DANZA'},\n",
    "    {'area_code': 'E', 'career_1': 'CONSERVACIÓN Y RESTAURACIÓN'},\n",
    "    {'area_code': 'E', 'career_1': 'EDUCACIÓN'},\n",
    "    {'area_code': 'E', 'career_1': 'EDUCACIÓN INICIAL'},\n",
    "    {'area_code': 'E', 'career_1': 'EDUCACIÓN PRIMARIA'},\n",
    "    {'area_code': 'E', 'career_1': 'EDUCACIÓN SECUNDARIA'},\n",
    "    {'area_code': 'E', 'career_1': 'EDUCACIÓN FÍSICA'},\n",
    "    {'area_code': 'E', 'career_1': 'HISTORIA'},\n",
    "    {'area_code': 'E', 'career_1': 'SOCIOLOGÍA'},\n",
    "    {'area_code': 'E', 'career_1': 'ANTROPOLOGÍA'},\n",
    "    {'area_code': 'E', 'career_1': 'ARQUEOLOGÍA'},\n",
    "    {'area_code': 'E', 'career_1': 'TRABAJO SOCIAL'},\n",
    "    {'area_code': 'E', 'career_1': 'GEOGRAFÍA'},\n",
    "    {'area_code': 'D', 'career_1': 'ADMINISTRACIÓN'},\n",
    "    {'area_code': 'D', 'career_1': 'ADMINISTRACIÓN DE TURISMO'},\n",
    "    {'area_code': 'D', 'career_1': 'ADMINISTRACIÓN DE NEGOCIOS INTERNACIONALES'},\n",
    "    {'area_code': 'D', 'career_1': 'CONTABILIDAD'},\n",
    "    {'area_code': 'D', 'career_1': 'GESTIÓN TRIBUTARIA'},\n",
    "    {'area_code': 'D', 'career_1': 'AUDITORÍA EMPRESARIAL Y DEL SECTOR PÚBLICO'},\n",
    "    {'area_code': 'D', 'career_1': 'ECONOMÍA'},\n",
    "    {'area_code': 'D', 'career_1': 'ECONOMÍA PÚBLICA'},\n",
    "    {'area_code': 'D', 'career_1': 'ECONOMÍA INTERNACIONAL'},\n",
    "    {'area_code': 'A', 'career_1': 'TEC. MED. LAB. CLÍNICO Y ANATOMÍA PATOLÓGICA'},\n",
    "    {'area_code': 'A', 'career_1': 'TEC. MED. TERAPIA FÍSICA Y REHABILITACIÓN'},\n",
    "    {'area_code': 'A', 'career_1': 'TEC. MED. RADIOLOGÍA'},\n",
    "    {'area_code': 'A', 'career_1': 'TEC. MED. TERAPIA OCUPACIONAL'},\n",
    "    {'area_code': 'A', 'career_1': 'NUTRICION'},\n",
    "    {'area_code': 'E', 'career_1': 'LINGUÍSTICA'},\n",
    "    {'area_code': 'D', 'career_1': 'PRESUPUESTO Y FINANZAS PÚBLICAS'},\n",
    "    {'area_code': 'C', 'career_1': 'INGENIERÍA BIOMÉDICA'},\n",
    "    {'area_code': 'B', 'career_1': 'CIENCIAS DE LA COMPUTACIÓN'},\n",
    "    {'area_code': 'E', 'career_1': 'LENGUAS, TRADUCCIÓN E INTERPRETACIÓN'},\n",
    "    {'area_code': 'D', 'career_1': 'ADMINISTRACIÓN DE LA GASTRONOMÍA'},\n",
    "    {'area_code': 'D', 'career_1': 'ADMINISTRACIÓN MARÍTIMA Y PORTUARIA'},\n",
    "    {'area_code': 'D', 'career_1': 'MARKETING'},\n",
    "    {'area_code':'C', 'career_1':'ARQUITECTURA Y URBANISMO'}\n",
    "\n",
    "]\n",
    "\n",
    "df_areas = pd.DataFrame(areas_examen)\n",
    "# df_areas.to_csv('areas_sanmarcos', index = False)"
   ]
  },
  {
   "cell_type": "code",
   "execution_count": null,
   "metadata": {},
   "outputs": [],
   "source": [
    "uniques = df_areas['career_1'].unique()\n",
    "uniques"
   ]
  },
  {
   "cell_type": "code",
   "execution_count": null,
   "metadata": {},
   "outputs": [],
   "source": []
  },
  {
   "cell_type": "code",
   "execution_count": null,
   "metadata": {},
   "outputs": [],
   "source": []
  },
  {
   "cell_type": "code",
   "execution_count": null,
   "metadata": {},
   "outputs": [],
   "source": []
  },
  {
   "cell_type": "code",
   "execution_count": 134,
   "metadata": {},
   "outputs": [],
   "source": [
    "#separamos las ciudades de las carreras para un mejor analisis\n",
    "#resultados_exam['location_2'] = resultados_exam['career_2'].str.extract(r' - (.+)')  # Extraer 'LIMA'\n",
    "#resultados_exam['career_2'] = resultados_exam['career_2'].str.replace(r' - .+', '', regex=True)  # Remover '- LIMA' de 'career_1'"
   ]
  },
  {
   "cell_type": "code",
   "execution_count": 135,
   "metadata": {},
   "outputs": [],
   "source": [
    "def segunda_carrera(carrera, periodo):\n",
    "    \n",
    "    segunda_opcion = resultados_exam[(resultados_exam['career_1'] == carrera) & (resultados_exam['periodo'] == periodo) & (resultados_exam['observation'] == 'ALCANZO VACANTE SEGUNDA OPCIÓN') ]  \n",
    "\n",
    "    if not segunda_opcion.empty:\n",
    "     heat_segundaopcion = segunda_opcion.pivot_table(index='career_2', columns='career_1', values = 'student_id', aggfunc='count').reset_index().sort_values(by = carrera, ascending = False)\n",
    "     heat_segundaopcion\n",
    "\n",
    "     plt.figure(figsize=(10,6))\n",
    "     sns.barplot(x = 'career_2', y = carrera, data=heat_segundaopcion )\n",
    "     plt.xticks(rotation = 90)\n",
    "     plt.title(f'CANTIDAD DE ALUMNOS QUE ESCOGEN OTRA CARRERA COMO SEGUNDA OPCION DE LA CARRERA DE {carrera}')\n",
    "\n",
    "    else:\n",
    "        print(f'No se encontraron datos para la carrera de {carrera}')\n",
    "    \n",
    "    return heat_segundaopcion\n"
   ]
  },
  {
   "cell_type": "code",
   "execution_count": null,
   "metadata": {},
   "outputs": [],
   "source": [
    "segunda_carrera('MEDICINA HUMANA', '2024II')"
   ]
  },
  {
   "cell_type": "code",
   "execution_count": null,
   "metadata": {},
   "outputs": [],
   "source": [
    "segunda_opcion = resultados_exam[(resultados_exam['observation'] == 'ALCANZO VACANTE SEGUNDA OPCIÓN') ] \n",
    "\n",
    "\n",
    "second_choice = segunda_opcion.pivot_table(index='career_2', columns='career_1', values = 'student_id', aggfunc='count').fillna(0).reset_index()\n",
    "second_choice.head()"
   ]
  },
  {
   "cell_type": "code",
   "execution_count": null,
   "metadata": {},
   "outputs": [],
   "source": [
    "resultados_exam.columns"
   ]
  },
  {
   "cell_type": "code",
   "execution_count": null,
   "metadata": {},
   "outputs": [],
   "source": [
    "df_merge = resultados_exam.merge(df_areas, on='career_1', how = 'outer')\n",
    "df_merge.sample(5)"
   ]
  },
  {
   "cell_type": "code",
   "execution_count": 140,
   "metadata": {},
   "outputs": [],
   "source": [
    "area_periodo_filtered = resultados_exam[resultados_exam['periodo'] == '2023I']"
   ]
  },
  {
   "cell_type": "code",
   "execution_count": 141,
   "metadata": {},
   "outputs": [],
   "source": [
    "#mostramos un dataframe con el numero de postulantes y numero de ingresantes\n",
    "\n",
    "competencia = df_merge.pivot_table(index='area_code', columns='observation', values ='student_id', aggfunc='count').fillna(0).reset_index()\n",
    "competencia['total_estudiantes'] = competencia['ALCANZO VACANTE PRIMERA OPCION'] + competencia['ALCANZO VACANTE SEGUNDA OPCIÓN'] + competencia['ANULADO'] + competencia['AUSENTE'] + competencia['NO ALCANZO VACANTE']"
   ]
  },
  {
   "cell_type": "code",
   "execution_count": 89,
   "metadata": {},
   "outputs": [],
   "source": []
  },
  {
   "cell_type": "code",
   "execution_count": 142,
   "metadata": {},
   "outputs": [],
   "source": [
    "competencia = competencia[\n",
    "    ['area_code','ALCANZO VACANTE PRIMERA OPCION', 'ALCANZO VACANTE SEGUNDA OPCIÓN', 'total_estudiantes']\n",
    "].dropna(axis = 1)"
   ]
  },
  {
   "cell_type": "code",
   "execution_count": null,
   "metadata": {},
   "outputs": [],
   "source": [
    "competencia"
   ]
  },
  {
   "cell_type": "code",
   "execution_count": null,
   "metadata": {},
   "outputs": [],
   "source": [
    "#cantidad de estudiantes por location y puntajes\n",
    "\n",
    "score_location = resultados_exam.pivot_table(index='full_name', columns='periodo', values = 'student_id', aggfunc='count').fillna(0)\n",
    "score_location['total_intentos'] = score_location['2023II'] + score_location['2024I'] + score_location['2024II'] + score_location['2025I']\n",
    "score_location = score_location[score_location['total_intentos'] > 1]\n",
    "score_location.sort_values(by = 'total_intentos', ascending=False)\n",
    "\n",
    "mask = score_location.iloc[:,:-1].head() == 0\n",
    "\n",
    "sns.heatmap(score_location.iloc[:, :-1].head(),\n",
    "            linecolor='black',\n",
    "            mask = mask)"
   ]
  },
  {
   "cell_type": "code",
   "execution_count": null,
   "metadata": {},
   "outputs": [],
   "source": [
    "score_location.head()"
   ]
  },
  {
   "cell_type": "code",
   "execution_count": null,
   "metadata": {},
   "outputs": [],
   "source": [
    "score_location_groupby = resultados_exam.groupby('location').agg({\n",
    "    'score':'max',\n",
    "    'student_id':'count'\n",
    "}).fillna(0)\n",
    "\n",
    "score_location_groupby"
   ]
  },
  {
   "cell_type": "code",
   "execution_count": null,
   "metadata": {},
   "outputs": [],
   "source": [
    "sns.pairplot(resultados_exam)"
   ]
  },
  {
   "cell_type": "code",
   "execution_count": 148,
   "metadata": {},
   "outputs": [],
   "source": [
    "ingresados = resultados_exam.pivot_table(\n",
    "    index = 'periodo', columns='observation', values = 'student_id', aggfunc='count'\n",
    ").fillna(0)"
   ]
  },
  {
   "cell_type": "code",
   "execution_count": 149,
   "metadata": {},
   "outputs": [],
   "source": [
    "ingresados['total_students'] = ingresados['ALCANZO VACANTE PRIMERA OPCION'] + ingresados['ALCANZO VACANTE SEGUNDA OPCIÓN'] + ingresados['ANULADO'] + ingresados['AUSENTE'] + ingresados['NO ALCANZO VACANTE']\n"
   ]
  },
  {
   "cell_type": "code",
   "execution_count": 150,
   "metadata": {},
   "outputs": [],
   "source": [
    "ingresados['PORCENTAJE'] = ingresados['ALCANZO VACANTE PRIMERA OPCION'] / ingresados['total_students'] * 100"
   ]
  },
  {
   "cell_type": "code",
   "execution_count": null,
   "metadata": {},
   "outputs": [],
   "source": [
    "ingresados"
   ]
  },
  {
   "cell_type": "code",
   "execution_count": 152,
   "metadata": {},
   "outputs": [],
   "source": [
    "funnel_df = resultados_exam.groupby('observation').agg({\n",
    "    'student_id': 'count'\n",
    "}).sort_values(by = 'student_id', ascending = False).reset_index()"
   ]
  },
  {
   "cell_type": "code",
   "execution_count": null,
   "metadata": {},
   "outputs": [],
   "source": [
    "funnel_df"
   ]
  },
  {
   "cell_type": "code",
   "execution_count": null,
   "metadata": {},
   "outputs": [],
   "source": [
    "funnel = resultados_exam.pivot_table(\n",
    "    index = 'career_1',\n",
    "    columns= 'observation',\n",
    "    values= 'student_id',\n",
    "    aggfunc='count'\n",
    ").fillna(0).reset_index()\n",
    "\n",
    "funnel['total_studiantes'] = (\n",
    "        funnel.get('ALCANZO VACANTE PRIMERA OPCION', 0) \n",
    "      + funnel.get('ALCANZO VACANTE SEGUNDA OPCION', 0)\n",
    "      + funnel.get('ANULADO', 0)\n",
    "      + funnel.get('AUSENTE', 0)\n",
    "      + funnel.get('NO ALCANZO VACANTE', 0)\n",
    ")\n",
    "\n",
    "funnel.head()"
   ]
  },
  {
   "cell_type": "code",
   "execution_count": 110,
   "metadata": {},
   "outputs": [],
   "source": []
  },
  {
   "cell_type": "code",
   "execution_count": null,
   "metadata": {},
   "outputs": [],
   "source": []
  },
  {
   "cell_type": "code",
   "execution_count": 101,
   "metadata": {},
   "outputs": [],
   "source": []
  },
  {
   "cell_type": "code",
   "execution_count": null,
   "metadata": {},
   "outputs": [],
   "source": []
  },
  {
   "cell_type": "code",
   "execution_count": 155,
   "metadata": {},
   "outputs": [],
   "source": [
    "melted_df = pd.melt(funnel, \n",
    "                     id_vars=['career_1'], \n",
    "                     value_vars=['ALCANZO VACANTE PRIMERA OPCION', 'ALCANZO VACANTE SEGUNDA OPCIÓN', 'ANULADO', 'AUSENTE', 'NO ALCANZO VACANTE', 'total_studiantes'],\n",
    "                     var_name='estado', \n",
    "                     value_name='cantidad')"
   ]
  },
  {
   "cell_type": "code",
   "execution_count": null,
   "metadata": {},
   "outputs": [],
   "source": [
    "melted_df[melted_df['career_1'] == 'CONTABILIDAD']"
   ]
  },
  {
   "cell_type": "code",
   "execution_count": null,
   "metadata": {},
   "outputs": [],
   "source": []
  }
 ],
 "metadata": {
  "kernelspec": {
   "display_name": "Python 3",
   "language": "python",
   "name": "python3"
  },
  "language_info": {
   "codemirror_mode": {
    "name": "ipython",
    "version": 3
   },
   "file_extension": ".py",
   "mimetype": "text/x-python",
   "name": "python",
   "nbconvert_exporter": "python",
   "pygments_lexer": "ipython3",
   "version": "3.12.6"
  }
 },
 "nbformat": 4,
 "nbformat_minor": 2
}
