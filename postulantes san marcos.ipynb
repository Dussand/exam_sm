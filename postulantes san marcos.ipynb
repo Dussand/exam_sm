{
 "cells": [
  {
   "cell_type": "code",
   "execution_count": 1,
   "metadata": {},
   "outputs": [],
   "source": [
    "import requests\n",
    "from bs4 import BeautifulSoup\n",
    "import pandas as pd\n",
    "import os"
   ]
  },
  {
   "cell_type": "code",
   "execution_count": 2,
   "metadata": {},
   "outputs": [],
   "source": [
    "def carrera(url):\n",
    "    response = requests.get(url, allow_redirects=True)\n",
    "\n",
    "    # Verifica si la solicitud fue exitosa\n",
    "    if response.status_code == 200:\n",
    "        # Analiza el contenido HTML con BeautifulSoup\n",
    "        soup = BeautifulSoup(response.text, 'html.parser')\n",
    "\n",
    "        # Extrae la tabla (ajusta según la estructura de la página)\n",
    "        table = soup.find('table')\n",
    "\n",
    "        # Si se encuentra la tabla, la procesa\n",
    "        if table:\n",
    "            # Extrae los encabezados\n",
    "            headers = [header.get_text() for header in table.find_all('th')]\n",
    "            \n",
    "            # Extrae las filas\n",
    "            rows = []\n",
    "            for row in table.find_all('tr'):\n",
    "                columns = row.find_all('td')\n",
    "                row_data = [col.get_text().strip() for col in columns]\n",
    "                if row_data:\n",
    "                    rows.append(row_data)\n",
    "            \n",
    "            return headers, rows  # Devuelve los encabezados y las filas\n",
    "        else:\n",
    "            print('No se encontró una tabla en la página.')\n",
    "            return None, None  # Devuelve None si no hay tabla\n",
    "    else:\n",
    "        print(f'Error al acceder a la página: {response.status_code}')\n",
    "        return None, None  # Devuelve None si hay error \n"
   ]
  },
  {
   "cell_type": "code",
   "execution_count": 3,
   "metadata": {},
   "outputs": [
    {
     "name": "stdout",
     "output_type": "stream",
     "text": [
      "['./A/011/0.html', './A/012/0.html', './A/013/0.html', './A/0141/0.html', './A/0142/0.html', './A/0143/0.html', './A/0144/0.html', './A/015/0.html', './A/022/0.html', './A/023/0.html', './A/031/0.html', './A/0310/0.html', './A/033/0.html', './A/034/0.html', './A/035/0.html', './A/036/0.html', './A/037/0.html', './A/038/0.html', './A/039/0.html', './A/041/0.html', './A/042/0.html', './A/043/0.html', './A/051/0.html', './A/0611/0.html', './A/0612/0.html', './A/0613/0.html', './A/062/0.html', './A/071/0.html', './A/072/0.html', './A/073/0.html', './A/081/0.html', './A/091/0.html', './A/0911/0.html', './A/0912/0.html', './A/092/0.html', './A/0921/0.html', './A/0922/0.html', './A/093/0.html', './A/0931/0.html', './A/0932/0.html', './A/094/0.html', './A/095/0.html', './A/096/0.html', './A/101/0.html', './A/102/0.html', './A/103/0.html', './A/111/0.html', './A/1111/0.html', './A/1112/0.html', './A/112/0.html', './A/1121/0.html', './A/113/0.html', './A/1131/0.html', './A/114/0.html', './A/1141/0.html', './A/121/0.html', './A/122/0.html', './A/123/0.html', './A/131/0.html', './A/132/0.html', './A/141/0.html', './A/142/0.html', './A/144/0.html', './A/145/0.html', './A/151/0.html', './A/152/0.html', './A/153/0.html', './A/154/0.html', './A/155/0.html', './A/157/0.html', './A/162/0.html', './A/163/0.html', './A/165/0.html', './A/166/0.html', './A/167/0.html', './A/168/0.html', './A/169/0.html', './A/171/0.html', './A/172/0.html', './A/173/0.html', './A/181/0.html', './A/1814/0.html', './A/182/0.html', './A/191/0.html', './A/192/0.html', './A/1924/0.html', './A/193/0.html', './A/194/0.html', './A/201/0.html', './A/202/0.html', './A/203/0.html']\n"
     ]
    }
   ],
   "source": [
    "# URL de la página principal de las carreras\n",
    "url_principal = 'https://admision.unmsm.edu.pe/Website20251/A.html'\n",
    "response = requests.get(url_principal)\n",
    "\n",
    "# Verifica si la solicitud fue exitosa\n",
    "if response.status_code == 200:\n",
    "    # Analiza el contenido HTML con BeautifulSoup\n",
    "    soup = BeautifulSoup(response.text, 'html.parser')\n",
    "\n",
    "    # Lista para almacenar los enlaces de las carreras\n",
    "    carrera_links = []\n",
    "\n",
    "    # Encuentra todos los enlaces (a)\n",
    "    for a_tag in soup.find_all('a'):\n",
    "        href = a_tag.get('href')\n",
    "        # Filtra enlaces que contengan '/A/'\n",
    "        if href and '/A/' in href:\n",
    "            carrera_links.append(href)\n",
    "\n",
    "    # Imprimir la lista de enlaces\n",
    "    print(carrera_links)\n",
    "else:\n",
    "    print(f'Error al acceder a la página: {response.status_code}')"
   ]
  },
  {
   "cell_type": "code",
   "execution_count": 4,
   "metadata": {},
   "outputs": [
    {
     "name": "stdout",
     "output_type": "stream",
     "text": [
      "['https://admision.unmsm.edu.pe/Website20251/A/011/0.html', 'https://admision.unmsm.edu.pe/Website20251/A/012/0.html', 'https://admision.unmsm.edu.pe/Website20251/A/013/0.html', 'https://admision.unmsm.edu.pe/Website20251/A/0141/0.html', 'https://admision.unmsm.edu.pe/Website20251/A/0142/0.html', 'https://admision.unmsm.edu.pe/Website20251/A/0143/0.html', 'https://admision.unmsm.edu.pe/Website20251/A/0144/0.html', 'https://admision.unmsm.edu.pe/Website20251/A/015/0.html', 'https://admision.unmsm.edu.pe/Website20251/A/022/0.html', 'https://admision.unmsm.edu.pe/Website20251/A/023/0.html', 'https://admision.unmsm.edu.pe/Website20251/A/031/0.html', 'https://admision.unmsm.edu.pe/Website20251/A/0310/0.html', 'https://admision.unmsm.edu.pe/Website20251/A/033/0.html', 'https://admision.unmsm.edu.pe/Website20251/A/034/0.html', 'https://admision.unmsm.edu.pe/Website20251/A/035/0.html', 'https://admision.unmsm.edu.pe/Website20251/A/036/0.html', 'https://admision.unmsm.edu.pe/Website20251/A/037/0.html', 'https://admision.unmsm.edu.pe/Website20251/A/038/0.html', 'https://admision.unmsm.edu.pe/Website20251/A/039/0.html', 'https://admision.unmsm.edu.pe/Website20251/A/041/0.html', 'https://admision.unmsm.edu.pe/Website20251/A/042/0.html', 'https://admision.unmsm.edu.pe/Website20251/A/043/0.html', 'https://admision.unmsm.edu.pe/Website20251/A/051/0.html', 'https://admision.unmsm.edu.pe/Website20251/A/0611/0.html', 'https://admision.unmsm.edu.pe/Website20251/A/0612/0.html', 'https://admision.unmsm.edu.pe/Website20251/A/0613/0.html', 'https://admision.unmsm.edu.pe/Website20251/A/062/0.html', 'https://admision.unmsm.edu.pe/Website20251/A/071/0.html', 'https://admision.unmsm.edu.pe/Website20251/A/072/0.html', 'https://admision.unmsm.edu.pe/Website20251/A/073/0.html', 'https://admision.unmsm.edu.pe/Website20251/A/081/0.html', 'https://admision.unmsm.edu.pe/Website20251/A/091/0.html', 'https://admision.unmsm.edu.pe/Website20251/A/0911/0.html', 'https://admision.unmsm.edu.pe/Website20251/A/0912/0.html', 'https://admision.unmsm.edu.pe/Website20251/A/092/0.html', 'https://admision.unmsm.edu.pe/Website20251/A/0921/0.html', 'https://admision.unmsm.edu.pe/Website20251/A/0922/0.html', 'https://admision.unmsm.edu.pe/Website20251/A/093/0.html', 'https://admision.unmsm.edu.pe/Website20251/A/0931/0.html', 'https://admision.unmsm.edu.pe/Website20251/A/0932/0.html', 'https://admision.unmsm.edu.pe/Website20251/A/094/0.html', 'https://admision.unmsm.edu.pe/Website20251/A/095/0.html', 'https://admision.unmsm.edu.pe/Website20251/A/096/0.html', 'https://admision.unmsm.edu.pe/Website20251/A/101/0.html', 'https://admision.unmsm.edu.pe/Website20251/A/102/0.html', 'https://admision.unmsm.edu.pe/Website20251/A/103/0.html', 'https://admision.unmsm.edu.pe/Website20251/A/111/0.html', 'https://admision.unmsm.edu.pe/Website20251/A/1111/0.html', 'https://admision.unmsm.edu.pe/Website20251/A/1112/0.html', 'https://admision.unmsm.edu.pe/Website20251/A/112/0.html', 'https://admision.unmsm.edu.pe/Website20251/A/1121/0.html', 'https://admision.unmsm.edu.pe/Website20251/A/113/0.html', 'https://admision.unmsm.edu.pe/Website20251/A/1131/0.html', 'https://admision.unmsm.edu.pe/Website20251/A/114/0.html', 'https://admision.unmsm.edu.pe/Website20251/A/1141/0.html', 'https://admision.unmsm.edu.pe/Website20251/A/121/0.html', 'https://admision.unmsm.edu.pe/Website20251/A/122/0.html', 'https://admision.unmsm.edu.pe/Website20251/A/123/0.html', 'https://admision.unmsm.edu.pe/Website20251/A/131/0.html', 'https://admision.unmsm.edu.pe/Website20251/A/132/0.html', 'https://admision.unmsm.edu.pe/Website20251/A/141/0.html', 'https://admision.unmsm.edu.pe/Website20251/A/142/0.html', 'https://admision.unmsm.edu.pe/Website20251/A/144/0.html', 'https://admision.unmsm.edu.pe/Website20251/A/145/0.html', 'https://admision.unmsm.edu.pe/Website20251/A/151/0.html', 'https://admision.unmsm.edu.pe/Website20251/A/152/0.html', 'https://admision.unmsm.edu.pe/Website20251/A/153/0.html', 'https://admision.unmsm.edu.pe/Website20251/A/154/0.html', 'https://admision.unmsm.edu.pe/Website20251/A/155/0.html', 'https://admision.unmsm.edu.pe/Website20251/A/157/0.html', 'https://admision.unmsm.edu.pe/Website20251/A/162/0.html', 'https://admision.unmsm.edu.pe/Website20251/A/163/0.html', 'https://admision.unmsm.edu.pe/Website20251/A/165/0.html', 'https://admision.unmsm.edu.pe/Website20251/A/166/0.html', 'https://admision.unmsm.edu.pe/Website20251/A/167/0.html', 'https://admision.unmsm.edu.pe/Website20251/A/168/0.html', 'https://admision.unmsm.edu.pe/Website20251/A/169/0.html', 'https://admision.unmsm.edu.pe/Website20251/A/171/0.html', 'https://admision.unmsm.edu.pe/Website20251/A/172/0.html', 'https://admision.unmsm.edu.pe/Website20251/A/173/0.html', 'https://admision.unmsm.edu.pe/Website20251/A/181/0.html', 'https://admision.unmsm.edu.pe/Website20251/A/1814/0.html', 'https://admision.unmsm.edu.pe/Website20251/A/182/0.html', 'https://admision.unmsm.edu.pe/Website20251/A/191/0.html', 'https://admision.unmsm.edu.pe/Website20251/A/192/0.html', 'https://admision.unmsm.edu.pe/Website20251/A/1924/0.html', 'https://admision.unmsm.edu.pe/Website20251/A/193/0.html', 'https://admision.unmsm.edu.pe/Website20251/A/194/0.html', 'https://admision.unmsm.edu.pe/Website20251/A/201/0.html', 'https://admision.unmsm.edu.pe/Website20251/A/202/0.html', 'https://admision.unmsm.edu.pe/Website20251/A/203/0.html']\n"
     ]
    }
   ],
   "source": [
    "careers_url = []\n",
    "for links in carrera_links:\n",
    "    modified = links.replace('.', 'https://admision.unmsm.edu.pe/Website20251', 1)\n",
    "    careers_url.append(modified)\n",
    "\n",
    "print(careers_url)"
   ]
  },
  {
   "cell_type": "code",
   "execution_count": 8,
   "metadata": {},
   "outputs": [],
   "source": [
    "# Lista para acumular todas las filas y los encabezados\n",
    "all_rows = []\n",
    "all_headers = None  # Para almacenar los encabezados (suponiendo que son los mismos en todas las tablas)\n",
    "\n",
    "for url in careers_url:\n",
    "    headers, rows = carrera(url)\n",
    "    if headers and rows:\n",
    "        # Almacena los encabezados solo una vez\n",
    "        if all_headers is None:\n",
    "            all_headers = headers\n",
    "        all_rows.extend(rows)  # Agrega las filas a la lista total\n",
    "\n",
    "# Crea un DataFrame con todos los datos\n",
    "if all_rows:\n",
    "    df = pd.DataFrame(all_rows, columns=all_headers)\n",
    "\n",
    "    def corregir_codificacion(texto):\n",
    "        return texto.replace('Ã\\x8d', 'Í') \\\n",
    "                    .replace('Ã\\x93', 'Ó') \\\n",
    "                    .replace('Ã\\x81', 'Á') \\\n",
    "                    .replace('Ã\\x9a', 'Ú') \\\n",
    "                    .replace('Ã\\x89', 'É') \\\n",
    "                    .replace('Ã\\x89', 'É') \\\n",
    "                    .replace('Ã\\x8dA', 'ÍA') \\\n",
    "                    .replace('Ã\\x81A', 'Á')\n",
    "\n",
    "    # Aplicar corrección en las columnas del DataFrame\n",
    "    df['ESCUELA PROFESIONAL'] = df['ESCUELA PROFESIONAL'].apply(corregir_codificacion)\n",
    "    # df['ESCUELA SEGUNDA OPCIÓN'] = df['ESCUELA SEGUNDA OPCIÓN'].apply(corregir_codificacion)\n",
    "    df['APELLIDOS Y NOMBRES'] = df['APELLIDOS Y NOMBRES'].apply(corregir_codificacion)\n",
    "    \n",
    "    # Nombre del archivo CSV existente\n",
    "    file_path = 'resultados_consolidados.csv'\n",
    "    \n",
    "    # Verificar si el archivo ya existe\n",
    "    if os.path.isfile(file_path):\n",
    "        # Cargar el archivo existente para verificar si tiene datos\n",
    "        df_existing = pd.read_csv(file_path)\n",
    "        # Si el archivo ya tiene datos, agregar sin encabezados\n",
    "        df.to_csv(file_path, mode='a', header=False, index=False)\n",
    "    else:\n",
    "        # Si el archivo no existe, crearlo con encabezados\n",
    "        df.to_csv(file_path, mode='w', header=True, index=False)\n",
    "else:\n",
    "    print(\"No se encontraron datos para exportar.\")"
   ]
  },
  {
   "cell_type": "code",
   "execution_count": 19,
   "metadata": {},
   "outputs": [],
   "source": []
  },
  {
   "cell_type": "code",
   "execution_count": null,
   "metadata": {},
   "outputs": [],
   "source": []
  }
 ],
 "metadata": {
  "kernelspec": {
   "display_name": "Python 3",
   "language": "python",
   "name": "python3"
  },
  "language_info": {
   "codemirror_mode": {
    "name": "ipython",
    "version": 3
   },
   "file_extension": ".py",
   "mimetype": "text/x-python",
   "name": "python",
   "nbconvert_exporter": "python",
   "pygments_lexer": "ipython3",
   "version": "3.12.6"
  }
 },
 "nbformat": 4,
 "nbformat_minor": 2
}
